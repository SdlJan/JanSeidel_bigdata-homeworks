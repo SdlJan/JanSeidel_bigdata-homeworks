{
 "cells": [
  {
   "cell_type": "markdown",
   "metadata": {},
   "source": [
    "# Data \n",
    "\n",
    "The Pima Indians dataset is about the prediction of diabetes . This is a small dataset available from the UCI Machine Learning Repository. https://archive.ics.uci.edu/ml/datasets/Pima+Indians+Diabetes\n",
    "\n",
    "**Attribute Information:**\n",
    "\n",
    "1. Number of times pregnant\n",
    "2. Plasma glucose concentration a 2 hours in an oral glucose tolerance test\n",
    "3. Diastolic blood pressure (mm Hg)\n",
    "4. Triceps skin fold thickness (mm)\n",
    "5. 2-Hour serum insulin (mu U/ml)\n",
    "6. Body mass index (weight in kg/(height in m)^2)\n",
    "7. Diabetes pedigree function\n",
    "8. Age (years)\n",
    "9. Class variable (0 or 1) (diabetes mellitus)"
   ]
  },
  {
   "cell_type": "code",
   "execution_count": null,
   "metadata": {
    "collapsed": true
   },
   "outputs": [],
   "source": [
    "#import wget\n",
    "\n",
    "#url = 'https://gist.githubusercontent.com/ktisha/c21e73a1bd1700294ef790c56c8aec1f/raw/819b69b5736821ccee93d05b51de0510bea00294/pima-indians-diabetes.csv'\n",
    "\n",
    "#pima-indians-diabetes.csv = wget.download(url)\n",
    "# Download the data\n",
    "#wget -O pima-indians-diabetes.csv https://gist.githubusercontent.com/ktisha/c21e73a1bd1700294ef790c56c8aec1f/raw/819b69b5736821ccee93d05b51de0510bea00294/pima-indians-diabetes.csv"
   ]
  },
  {
   "cell_type": "code",
   "execution_count": 1,
   "metadata": {
    "collapsed": true
   },
   "outputs": [
    {
     "name": "stdout",
     "output_type": "stream",
     "text": [
      "total 1832\n",
      "-rw-r--r--  1 DERJAN  staff   40269 May  6 16:36 10 MongoDB-Todo.ipynb\n",
      "-rw-r--r--  1 DERJAN  staff  193278 Jun  9 22:12 12_Pima_Indians_Diabetes_TODO.ipynb\n",
      "-rw-r--r--  1 DERJAN  staff    8250 Apr  8 16:17 2 Finding values in collections Todo.ipynb\n",
      "-rw-r--r--  1 DERJAN  staff   68221 Apr 25 13:25 3 Time Complexity-Solution.ipynb\n",
      "-rw-r--r--  1 DERJAN  staff   74790 Apr  8 16:17 3 Time Complexity.ipynb\n",
      "-rw-r--r--  1 DERJAN  staff   19962 Apr 25 13:25 4 Decision Trees Solution.ipynb\n",
      "-rw-r--r--  1 DERJAN  staff    5763 Apr 15 13:37 4 Decision Trees Todo.ipynb\n",
      "-rw-r--r--  1 DERJAN  staff    8542 Apr 22 22:59 6_Linked-List-Todo.ipynb\n",
      "-rw-r--r--  1 DERJAN  staff    8759 Apr 23 10:15 7_Binary_Search_Tree-Todo.ipynb\n",
      "-rw-r--r--  1 DERJAN  staff   35133 Apr 30 00:42 9 Web API.ipynb\n",
      "drwxr-xr-x  3 DERJAN  staff      96 May 13 23:20 \u001b[34mMongoDB_Exercise\u001b[m\u001b[m/\n",
      "-rw-r--r--  1 DERJAN  staff  422372 May  3 10:03 Test_Jan.ipynb\n",
      "drwxr-xr-x  8 DERJAN  staff     256 Jun  2 18:18 \u001b[34mdocker-kafka-fraud_detection\u001b[m\u001b[m/\n",
      "-rwxr-xr-x@ 1 DERJAN  staff   23628 Apr  4  2017 \u001b[31mpima-indians-diabetes.csv\u001b[m\u001b[m*\n"
     ]
    }
   ],
   "source": [
    "# check if the data is downloaded\n",
    "%ls -l"
   ]
  },
  {
   "cell_type": "code",
   "execution_count": 2,
   "metadata": {
    "collapsed": true
   },
   "outputs": [
    {
     "name": "stderr",
     "output_type": "stream",
     "text": [
      "Using TensorFlow backend.\n"
     ]
    }
   ],
   "source": [
    "from sklearn.model_selection import train_test_split\n",
    "from keras.models import Sequential\n",
    "from keras.layers import Dense\n",
    "import matplotlib.pyplot as plt\n",
    "from matplotlib.ticker import MaxNLocator\n",
    "import numpy as np\n",
    "import pandas as pd\n",
    "import seaborn as sns"
   ]
  },
  {
   "cell_type": "code",
   "execution_count": 3,
   "metadata": {
    "collapsed": true
   },
   "outputs": [],
   "source": [
    "# fix random seed for reproducibility\n",
    "seed = 7\n",
    "np.random.seed(seed)"
   ]
  },
  {
   "cell_type": "code",
   "execution_count": 4,
   "metadata": {
    "collapsed": true
   },
   "outputs": [],
   "source": [
    "# load pima indians dataset\n",
    "df = np.loadtxt(\"pima-indians-diabetes.csv\", delimiter=\",\")"
   ]
  },
  {
   "cell_type": "code",
   "execution_count": null,
   "metadata": {},
   "outputs": [],
   "source": [
    "# create df from array\n",
    "\n",
    "#df = pd.DataFrame({'NumPreg':dataframe[:,0],'PlasGlucConc':dataframe[:,1], 'BloodPres':dataframe[:,2], 'SfThick':dataframe[:,3], 'SerumIns':dataframe[:,4], 'BMI':dataframe[:,5], 'DiabPredFunc':dataframe[:,6], 'Age':dataframe[:,7], 'Class':dataframe[:,8]})\n",
    "#df.head()"
   ]
  },
  {
   "cell_type": "code",
   "execution_count": 5,
   "metadata": {
    "collapsed": true
   },
   "outputs": [],
   "source": [
    "# split dataset into input (X) and output (Y) variables\n",
    "# output is the last column\n",
    "\n",
    "X = df[:, 0:8]\n",
    "y = df[:,8]"
   ]
  },
  {
   "cell_type": "code",
   "execution_count": 6,
   "metadata": {
    "collapsed": true
   },
   "outputs": [
    {
     "name": "stdout",
     "output_type": "stream",
     "text": [
      "(768, 8)\n"
     ]
    }
   ],
   "source": [
    "# print the shape of x\n",
    "\n",
    "print(X.shape)\n"
   ]
  },
  {
   "cell_type": "code",
   "execution_count": 7,
   "metadata": {
    "collapsed": true
   },
   "outputs": [
    {
     "data": {
      "text/plain": [
       "8"
      ]
     },
     "execution_count": 7,
     "metadata": {},
     "output_type": "execute_result"
    }
   ],
   "source": [
    "# save to number of input dimensions in input_dim\n",
    "input_dim = 8\n",
    "input_dim"
   ]
  },
  {
   "cell_type": "code",
   "execution_count": 8,
   "metadata": {},
   "outputs": [],
   "source": [
    "from keras.utils import to_categorical\n",
    "y = to_categorical(y, 2)"
   ]
  },
  {
   "cell_type": "code",
   "execution_count": 11,
   "metadata": {
    "collapsed": true
   },
   "outputs": [
    {
     "name": "stdout",
     "output_type": "stream",
     "text": [
      "(768, 2)\n"
     ]
    }
   ],
   "source": [
    "# shape of y\n",
    "# TODO\n",
    "print(y.shape)"
   ]
  },
  {
   "cell_type": "code",
   "execution_count": 12,
   "metadata": {
    "collapsed": true
   },
   "outputs": [],
   "source": [
    "# Create training and test sets\n",
    "# Test size should be 15%\n",
    "# The test and train set should be stratified\n",
    "# use a random state (for reproducibility) of 42\n",
    "# TODO \n",
    "X_train, X_test, y_train, y_test = train_test_split(X, y, test_size=0.15, random_state=42)"
   ]
  },
  {
   "cell_type": "code",
   "execution_count": 13,
   "metadata": {
    "collapsed": true
   },
   "outputs": [
    {
     "name": "stdout",
     "output_type": "stream",
     "text": [
      "(116, 8)\n"
     ]
    }
   ],
   "source": [
    "# shape of X_test\n",
    "# TODO\n",
    "print(X_test.shape)"
   ]
  },
  {
   "cell_type": "markdown",
   "metadata": {},
   "source": [
    "# Model"
   ]
  },
  {
   "cell_type": "code",
   "execution_count": 14,
   "metadata": {
    "collapsed": true
   },
   "outputs": [],
   "source": [
    "# 1. Create Sequential model\n",
    "# 2. + 3. Add two hidden dense layers with 12 and 8 nodes. Both should have Relu activations \n",
    "# 4. Add a final output layer\n",
    "# Think about how many nodes the final output layer should have and what activation function is appropiate\n",
    "# TODO\n",
    "\n",
    "model = Sequential()\n",
    "\n",
    "model.add(Dense(12, activation='relu'))\n",
    "model.add(Dense(8, activation='relu'))\n",
    "\n",
    "model.add(Dense(2, activation='softmax'))"
   ]
  },
  {
   "cell_type": "code",
   "execution_count": 15,
   "metadata": {
    "collapsed": true
   },
   "outputs": [
    {
     "name": "stdout",
     "output_type": "stream",
     "text": [
      "WARNING:tensorflow:From /Users/DERJAN/anaconda3/lib/python3.7/site-packages/tensorflow/python/framework/op_def_library.py:263: colocate_with (from tensorflow.python.framework.ops) is deprecated and will be removed in a future version.\n",
      "Instructions for updating:\n",
      "Colocations handled automatically by placer.\n"
     ]
    }
   ],
   "source": [
    "# Compile the model\n",
    "# Think about what loss function is appropiate\n",
    "# Use as the optimizer Adam\n",
    "# Track as an additional metric Accuracy\n",
    "# TODO\n",
    "model.compile(optimizer='adam', loss='binary_crossentropy', metrics=['accuracy'])"
   ]
  },
  {
   "cell_type": "code",
   "execution_count": 16,
   "metadata": {
    "collapsed": true
   },
   "outputs": [
    {
     "name": "stdout",
     "output_type": "stream",
     "text": [
      "WARNING:tensorflow:From /Users/DERJAN/anaconda3/lib/python3.7/site-packages/tensorflow/python/ops/math_ops.py:3066: to_int32 (from tensorflow.python.ops.math_ops) is deprecated and will be removed in a future version.\n",
      "Instructions for updating:\n",
      "Use tf.cast instead.\n",
      "Train on 554 samples, validate on 98 samples\n",
      "Epoch 1/300\n",
      "554/554 [==============================] - 1s 1ms/step - loss: 1.8858 - acc: 0.5144 - val_loss: 1.2243 - val_acc: 0.5510\n",
      "Epoch 2/300\n",
      "554/554 [==============================] - 0s 283us/step - loss: 0.9862 - acc: 0.6336 - val_loss: 0.8587 - val_acc: 0.6837\n",
      "Epoch 3/300\n",
      "554/554 [==============================] - 0s 236us/step - loss: 0.8357 - acc: 0.6643 - val_loss: 0.8663 - val_acc: 0.6224\n",
      "Epoch 4/300\n",
      "554/554 [==============================] - 0s 185us/step - loss: 0.7593 - acc: 0.6715 - val_loss: 0.7176 - val_acc: 0.6939\n",
      "Epoch 5/300\n",
      "554/554 [==============================] - 0s 197us/step - loss: 0.7437 - acc: 0.6444 - val_loss: 0.7118 - val_acc: 0.7041\n",
      "Epoch 6/300\n",
      "554/554 [==============================] - 0s 362us/step - loss: 0.7283 - acc: 0.6444 - val_loss: 0.6717 - val_acc: 0.7551\n",
      "Epoch 7/300\n",
      "554/554 [==============================] - 0s 233us/step - loss: 0.7048 - acc: 0.6877 - val_loss: 0.6851 - val_acc: 0.7041\n",
      "Epoch 8/300\n",
      "554/554 [==============================] - 0s 196us/step - loss: 0.7199 - acc: 0.6697 - val_loss: 0.7599 - val_acc: 0.7449\n",
      "Epoch 9/300\n",
      "554/554 [==============================] - 0s 194us/step - loss: 0.6947 - acc: 0.6733 - val_loss: 0.6903 - val_acc: 0.7449\n",
      "Epoch 10/300\n",
      "554/554 [==============================] - 0s 215us/step - loss: 0.6716 - acc: 0.6733 - val_loss: 0.7299 - val_acc: 0.7245\n",
      "Epoch 11/300\n",
      "554/554 [==============================] - 0s 256us/step - loss: 0.6614 - acc: 0.6805 - val_loss: 0.7570 - val_acc: 0.7551\n",
      "Epoch 12/300\n",
      "554/554 [==============================] - 0s 257us/step - loss: 0.6387 - acc: 0.6986 - val_loss: 0.6575 - val_acc: 0.6837\n",
      "Epoch 13/300\n",
      "554/554 [==============================] - 0s 265us/step - loss: 0.6395 - acc: 0.6805 - val_loss: 0.6299 - val_acc: 0.7449\n",
      "Epoch 14/300\n",
      "554/554 [==============================] - 0s 249us/step - loss: 0.6300 - acc: 0.7004 - val_loss: 0.6153 - val_acc: 0.7347\n",
      "Epoch 15/300\n",
      "554/554 [==============================] - 0s 254us/step - loss: 0.6116 - acc: 0.7022 - val_loss: 0.6522 - val_acc: 0.6429\n",
      "Epoch 16/300\n",
      "554/554 [==============================] - 0s 261us/step - loss: 0.6224 - acc: 0.7022 - val_loss: 0.6676 - val_acc: 0.6429\n",
      "Epoch 17/300\n",
      "554/554 [==============================] - 0s 184us/step - loss: 0.6328 - acc: 0.6949 - val_loss: 0.5869 - val_acc: 0.7041\n",
      "Epoch 18/300\n",
      "554/554 [==============================] - 0s 185us/step - loss: 0.5821 - acc: 0.7166 - val_loss: 0.6465 - val_acc: 0.7755\n",
      "Epoch 19/300\n",
      "554/554 [==============================] - 0s 181us/step - loss: 0.6104 - acc: 0.6931 - val_loss: 0.6002 - val_acc: 0.7449\n",
      "Epoch 20/300\n",
      "554/554 [==============================] - 0s 177us/step - loss: 0.6070 - acc: 0.6931 - val_loss: 0.6015 - val_acc: 0.7143\n",
      "Epoch 21/300\n",
      "554/554 [==============================] - 0s 170us/step - loss: 0.5941 - acc: 0.7040 - val_loss: 0.6000 - val_acc: 0.7449\n",
      "Epoch 22/300\n",
      "554/554 [==============================] - 0s 201us/step - loss: 0.6092 - acc: 0.6877 - val_loss: 0.6058 - val_acc: 0.7347\n",
      "Epoch 23/300\n",
      "554/554 [==============================] - 0s 222us/step - loss: 0.5966 - acc: 0.6895 - val_loss: 0.6035 - val_acc: 0.7551\n",
      "Epoch 24/300\n",
      "554/554 [==============================] - 0s 191us/step - loss: 0.6344 - acc: 0.7058 - val_loss: 0.5921 - val_acc: 0.7347\n",
      "Epoch 25/300\n",
      "554/554 [==============================] - 0s 181us/step - loss: 0.6001 - acc: 0.6859 - val_loss: 0.6149 - val_acc: 0.7347\n",
      "Epoch 26/300\n",
      "554/554 [==============================] - 0s 207us/step - loss: 0.5594 - acc: 0.7112 - val_loss: 0.5827 - val_acc: 0.7143\n",
      "Epoch 27/300\n",
      "554/554 [==============================] - 0s 207us/step - loss: 0.5749 - acc: 0.7112 - val_loss: 0.6475 - val_acc: 0.6633\n",
      "Epoch 28/300\n",
      "554/554 [==============================] - 0s 212us/step - loss: 0.6091 - acc: 0.7076 - val_loss: 0.5325 - val_acc: 0.7551\n",
      "Epoch 29/300\n",
      "554/554 [==============================] - 0s 171us/step - loss: 0.5545 - acc: 0.7401 - val_loss: 0.5773 - val_acc: 0.7653\n",
      "Epoch 30/300\n",
      "554/554 [==============================] - 0s 179us/step - loss: 0.5671 - acc: 0.7256 - val_loss: 0.6339 - val_acc: 0.6633\n",
      "Epoch 31/300\n",
      "554/554 [==============================] - 0s 180us/step - loss: 0.5628 - acc: 0.7238 - val_loss: 0.5763 - val_acc: 0.7551\n",
      "Epoch 32/300\n",
      "554/554 [==============================] - 0s 183us/step - loss: 0.5750 - acc: 0.7112 - val_loss: 0.5743 - val_acc: 0.7347\n",
      "Epoch 33/300\n",
      "554/554 [==============================] - 0s 177us/step - loss: 0.5556 - acc: 0.7274 - val_loss: 0.6185 - val_acc: 0.7041\n",
      "Epoch 34/300\n",
      "554/554 [==============================] - 0s 187us/step - loss: 0.5576 - acc: 0.7112 - val_loss: 0.5727 - val_acc: 0.7653\n",
      "Epoch 35/300\n",
      "554/554 [==============================] - 0s 180us/step - loss: 0.5376 - acc: 0.7256 - val_loss: 0.5518 - val_acc: 0.7449\n",
      "Epoch 36/300\n",
      "554/554 [==============================] - 0s 177us/step - loss: 0.5685 - acc: 0.7347 - val_loss: 0.5578 - val_acc: 0.7449\n",
      "Epoch 37/300\n",
      "554/554 [==============================] - 0s 175us/step - loss: 0.5549 - acc: 0.7292 - val_loss: 0.5450 - val_acc: 0.7449\n",
      "Epoch 38/300\n",
      "554/554 [==============================] - 0s 180us/step - loss: 0.5506 - acc: 0.7347 - val_loss: 0.5536 - val_acc: 0.7347\n",
      "Epoch 39/300\n",
      "554/554 [==============================] - 0s 176us/step - loss: 0.5526 - acc: 0.7202 - val_loss: 0.5360 - val_acc: 0.7551\n",
      "Epoch 40/300\n",
      "554/554 [==============================] - 0s 162us/step - loss: 0.5659 - acc: 0.7220 - val_loss: 0.5615 - val_acc: 0.7347\n",
      "Epoch 41/300\n",
      "554/554 [==============================] - 0s 161us/step - loss: 0.5897 - acc: 0.7112 - val_loss: 0.6017 - val_acc: 0.7041\n",
      "Epoch 42/300\n",
      "554/554 [==============================] - 0s 172us/step - loss: 0.5504 - acc: 0.7148 - val_loss: 0.6221 - val_acc: 0.7245\n",
      "Epoch 43/300\n",
      "554/554 [==============================] - 0s 170us/step - loss: 0.5527 - acc: 0.7329 - val_loss: 0.5469 - val_acc: 0.7857\n",
      "Epoch 44/300\n",
      "554/554 [==============================] - 0s 157us/step - loss: 0.5911 - acc: 0.7022 - val_loss: 0.5277 - val_acc: 0.7551\n",
      "Epoch 45/300\n",
      "554/554 [==============================] - 0s 158us/step - loss: 0.5743 - acc: 0.7058 - val_loss: 0.5601 - val_acc: 0.7551\n",
      "Epoch 46/300\n",
      "554/554 [==============================] - 0s 165us/step - loss: 0.5311 - acc: 0.7419 - val_loss: 0.6141 - val_acc: 0.7449\n",
      "Epoch 47/300\n",
      "554/554 [==============================] - 0s 161us/step - loss: 0.5179 - acc: 0.7274 - val_loss: 0.5670 - val_acc: 0.7347\n",
      "Epoch 48/300\n",
      "554/554 [==============================] - 0s 171us/step - loss: 0.5357 - acc: 0.7130 - val_loss: 0.7172 - val_acc: 0.7143\n",
      "Epoch 49/300\n",
      "554/554 [==============================] - 0s 173us/step - loss: 0.5930 - acc: 0.6986 - val_loss: 0.5156 - val_acc: 0.7653\n",
      "Epoch 50/300\n",
      "554/554 [==============================] - 0s 178us/step - loss: 0.5430 - acc: 0.7310 - val_loss: 0.6297 - val_acc: 0.7143\n",
      "Epoch 51/300\n",
      "554/554 [==============================] - 0s 191us/step - loss: 0.5332 - acc: 0.7437 - val_loss: 0.5927 - val_acc: 0.7143\n",
      "Epoch 52/300\n",
      "554/554 [==============================] - 0s 174us/step - loss: 0.5241 - acc: 0.7329 - val_loss: 0.5215 - val_acc: 0.7857\n",
      "Epoch 53/300\n",
      "554/554 [==============================] - 0s 197us/step - loss: 0.5170 - acc: 0.7274 - val_loss: 0.5343 - val_acc: 0.7245\n",
      "Epoch 54/300\n",
      "554/554 [==============================] - 0s 187us/step - loss: 0.5302 - acc: 0.7274 - val_loss: 0.5584 - val_acc: 0.7143\n",
      "Epoch 55/300\n",
      "554/554 [==============================] - 0s 164us/step - loss: 0.5168 - acc: 0.7347 - val_loss: 0.5924 - val_acc: 0.6633\n",
      "Epoch 56/300\n",
      "554/554 [==============================] - 0s 169us/step - loss: 0.5333 - acc: 0.7130 - val_loss: 0.5413 - val_acc: 0.7551\n",
      "Epoch 57/300\n",
      "554/554 [==============================] - 0s 163us/step - loss: 0.5127 - acc: 0.7419 - val_loss: 0.5585 - val_acc: 0.7653\n",
      "Epoch 58/300\n",
      "554/554 [==============================] - 0s 181us/step - loss: 0.5237 - acc: 0.7365 - val_loss: 0.5482 - val_acc: 0.8061\n",
      "Epoch 59/300\n",
      "554/554 [==============================] - 0s 169us/step - loss: 0.5074 - acc: 0.7509 - val_loss: 0.5343 - val_acc: 0.7755\n",
      "Epoch 60/300\n",
      "554/554 [==============================] - 0s 175us/step - loss: 0.5135 - acc: 0.7383 - val_loss: 0.5815 - val_acc: 0.6939\n",
      "Epoch 61/300\n",
      "554/554 [==============================] - 0s 178us/step - loss: 0.5182 - acc: 0.7401 - val_loss: 0.5247 - val_acc: 0.7449\n",
      "Epoch 62/300\n",
      "554/554 [==============================] - 0s 261us/step - loss: 0.5212 - acc: 0.7401 - val_loss: 0.5593 - val_acc: 0.7245\n",
      "Epoch 63/300\n",
      "554/554 [==============================] - 0s 171us/step - loss: 0.5311 - acc: 0.7347 - val_loss: 0.5262 - val_acc: 0.7653\n",
      "Epoch 64/300\n",
      "554/554 [==============================] - 0s 168us/step - loss: 0.5302 - acc: 0.7455 - val_loss: 0.4977 - val_acc: 0.7959\n",
      "Epoch 65/300\n",
      "554/554 [==============================] - 0s 169us/step - loss: 0.5005 - acc: 0.7383 - val_loss: 0.5694 - val_acc: 0.7551\n",
      "Epoch 66/300\n",
      "554/554 [==============================] - 0s 172us/step - loss: 0.5195 - acc: 0.7220 - val_loss: 0.5274 - val_acc: 0.7347\n",
      "Epoch 67/300\n",
      "554/554 [==============================] - 0s 185us/step - loss: 0.5053 - acc: 0.7527 - val_loss: 0.5283 - val_acc: 0.7755\n",
      "Epoch 68/300\n",
      "554/554 [==============================] - 0s 190us/step - loss: 0.4928 - acc: 0.7419 - val_loss: 0.5869 - val_acc: 0.7347\n",
      "Epoch 69/300\n",
      "554/554 [==============================] - 0s 184us/step - loss: 0.5134 - acc: 0.7455 - val_loss: 0.5097 - val_acc: 0.7857\n",
      "Epoch 70/300\n",
      "554/554 [==============================] - 0s 181us/step - loss: 0.5154 - acc: 0.7473 - val_loss: 0.5227 - val_acc: 0.7959\n",
      "Epoch 71/300\n",
      "554/554 [==============================] - 0s 178us/step - loss: 0.4945 - acc: 0.7527 - val_loss: 0.5322 - val_acc: 0.7245\n",
      "Epoch 72/300\n",
      "554/554 [==============================] - 0s 166us/step - loss: 0.5064 - acc: 0.7419 - val_loss: 0.5084 - val_acc: 0.7347\n",
      "Epoch 73/300\n",
      "554/554 [==============================] - 0s 173us/step - loss: 0.4914 - acc: 0.7473 - val_loss: 0.5125 - val_acc: 0.7347\n",
      "Epoch 74/300\n",
      "554/554 [==============================] - 0s 173us/step - loss: 0.5095 - acc: 0.7473 - val_loss: 0.5599 - val_acc: 0.7041\n",
      "Epoch 75/300\n",
      "554/554 [==============================] - 0s 175us/step - loss: 0.5306 - acc: 0.7401 - val_loss: 0.5274 - val_acc: 0.7347\n",
      "Epoch 76/300\n",
      "554/554 [==============================] - 0s 173us/step - loss: 0.5393 - acc: 0.7383 - val_loss: 0.5033 - val_acc: 0.7755\n",
      "Epoch 77/300\n",
      "554/554 [==============================] - 0s 171us/step - loss: 0.5192 - acc: 0.7365 - val_loss: 0.5582 - val_acc: 0.7959\n",
      "Epoch 78/300\n",
      "554/554 [==============================] - 0s 170us/step - loss: 0.5085 - acc: 0.7329 - val_loss: 0.5370 - val_acc: 0.7041\n",
      "Epoch 79/300\n",
      "554/554 [==============================] - 0s 181us/step - loss: 0.4873 - acc: 0.7347 - val_loss: 0.5792 - val_acc: 0.7551\n",
      "Epoch 80/300\n",
      "554/554 [==============================] - 0s 196us/step - loss: 0.4809 - acc: 0.7545 - val_loss: 0.4927 - val_acc: 0.7653\n",
      "Epoch 81/300\n",
      "554/554 [==============================] - 0s 188us/step - loss: 0.4780 - acc: 0.7599 - val_loss: 0.5525 - val_acc: 0.7755\n",
      "Epoch 82/300\n",
      "554/554 [==============================] - 0s 192us/step - loss: 0.5335 - acc: 0.7383 - val_loss: 0.5721 - val_acc: 0.7143\n",
      "Epoch 83/300\n",
      "554/554 [==============================] - 0s 186us/step - loss: 0.5266 - acc: 0.7292 - val_loss: 0.5490 - val_acc: 0.7959\n",
      "Epoch 84/300\n",
      "554/554 [==============================] - 0s 190us/step - loss: 0.4840 - acc: 0.7617 - val_loss: 0.4966 - val_acc: 0.7755\n",
      "Epoch 85/300\n",
      "554/554 [==============================] - 0s 164us/step - loss: 0.4765 - acc: 0.7563 - val_loss: 0.4922 - val_acc: 0.7653\n",
      "Epoch 86/300\n",
      "554/554 [==============================] - 0s 175us/step - loss: 0.5060 - acc: 0.7437 - val_loss: 0.5691 - val_acc: 0.7449\n",
      "Epoch 87/300\n",
      "554/554 [==============================] - 0s 214us/step - loss: 0.5260 - acc: 0.7473 - val_loss: 0.5045 - val_acc: 0.7347\n",
      "Epoch 88/300\n",
      "554/554 [==============================] - 0s 228us/step - loss: 0.4926 - acc: 0.7455 - val_loss: 0.5951 - val_acc: 0.6531\n",
      "Epoch 89/300\n",
      "554/554 [==============================] - 0s 226us/step - loss: 0.4982 - acc: 0.7383 - val_loss: 0.5334 - val_acc: 0.7347\n",
      "Epoch 90/300\n",
      "554/554 [==============================] - 0s 259us/step - loss: 0.4855 - acc: 0.7545 - val_loss: 0.5046 - val_acc: 0.7347\n",
      "Epoch 91/300\n",
      "554/554 [==============================] - 0s 265us/step - loss: 0.4857 - acc: 0.7581 - val_loss: 0.5490 - val_acc: 0.7551\n",
      "Epoch 92/300\n",
      "554/554 [==============================] - 0s 283us/step - loss: 0.5021 - acc: 0.7437 - val_loss: 0.5037 - val_acc: 0.7857\n",
      "Epoch 93/300\n",
      "554/554 [==============================] - 0s 268us/step - loss: 0.5130 - acc: 0.7383 - val_loss: 0.5641 - val_acc: 0.7143\n",
      "Epoch 94/300\n",
      "554/554 [==============================] - 0s 241us/step - loss: 0.4819 - acc: 0.7671 - val_loss: 0.4996 - val_acc: 0.7551\n",
      "Epoch 95/300\n",
      "554/554 [==============================] - 0s 270us/step - loss: 0.4996 - acc: 0.7599 - val_loss: 0.5230 - val_acc: 0.7245\n",
      "Epoch 96/300\n",
      "554/554 [==============================] - 0s 244us/step - loss: 0.4825 - acc: 0.7708 - val_loss: 0.4848 - val_acc: 0.7755\n",
      "Epoch 97/300\n",
      "554/554 [==============================] - 0s 230us/step - loss: 0.4744 - acc: 0.7671 - val_loss: 0.5535 - val_acc: 0.7041\n",
      "Epoch 98/300\n",
      "554/554 [==============================] - 0s 220us/step - loss: 0.4941 - acc: 0.7617 - val_loss: 0.5026 - val_acc: 0.7755\n",
      "Epoch 99/300\n",
      "554/554 [==============================] - 0s 266us/step - loss: 0.4912 - acc: 0.7744 - val_loss: 0.5030 - val_acc: 0.7449\n",
      "Epoch 100/300\n",
      "554/554 [==============================] - 0s 252us/step - loss: 0.4875 - acc: 0.7653 - val_loss: 0.4908 - val_acc: 0.7653\n",
      "Epoch 101/300\n",
      "554/554 [==============================] - 0s 234us/step - loss: 0.4800 - acc: 0.7563 - val_loss: 0.5361 - val_acc: 0.7245\n",
      "Epoch 102/300\n",
      "554/554 [==============================] - 0s 215us/step - loss: 0.4911 - acc: 0.7690 - val_loss: 0.5813 - val_acc: 0.7041\n",
      "Epoch 103/300\n",
      "554/554 [==============================] - 0s 230us/step - loss: 0.4921 - acc: 0.7563 - val_loss: 0.4878 - val_acc: 0.7449\n",
      "Epoch 104/300\n",
      "554/554 [==============================] - 0s 230us/step - loss: 0.4905 - acc: 0.7581 - val_loss: 0.5117 - val_acc: 0.7347\n",
      "Epoch 105/300\n",
      "554/554 [==============================] - 0s 191us/step - loss: 0.4928 - acc: 0.7473 - val_loss: 0.4978 - val_acc: 0.7857\n",
      "Epoch 106/300\n",
      "554/554 [==============================] - 0s 201us/step - loss: 0.4917 - acc: 0.7653 - val_loss: 0.5394 - val_acc: 0.7755\n",
      "Epoch 107/300\n",
      "554/554 [==============================] - 0s 222us/step - loss: 0.5025 - acc: 0.7653 - val_loss: 0.5089 - val_acc: 0.7857\n",
      "Epoch 108/300\n",
      "554/554 [==============================] - 0s 203us/step - loss: 0.5003 - acc: 0.7527 - val_loss: 0.5147 - val_acc: 0.7245\n",
      "Epoch 109/300\n",
      "554/554 [==============================] - 0s 241us/step - loss: 0.5046 - acc: 0.7527 - val_loss: 0.5432 - val_acc: 0.7755\n",
      "Epoch 110/300\n",
      "554/554 [==============================] - 0s 230us/step - loss: 0.4724 - acc: 0.7762 - val_loss: 0.4787 - val_acc: 0.7449\n",
      "Epoch 111/300\n",
      "554/554 [==============================] - 0s 235us/step - loss: 0.5184 - acc: 0.7292 - val_loss: 0.5099 - val_acc: 0.7551\n",
      "Epoch 112/300\n",
      "554/554 [==============================] - 0s 252us/step - loss: 0.4656 - acc: 0.7726 - val_loss: 0.5100 - val_acc: 0.7347\n",
      "Epoch 113/300\n",
      "554/554 [==============================] - 0s 229us/step - loss: 0.4814 - acc: 0.7527 - val_loss: 0.5198 - val_acc: 0.7347\n",
      "Epoch 114/300\n",
      "554/554 [==============================] - 0s 229us/step - loss: 0.4679 - acc: 0.7545 - val_loss: 0.5365 - val_acc: 0.7857\n",
      "Epoch 115/300\n",
      "554/554 [==============================] - 0s 231us/step - loss: 0.4981 - acc: 0.7491 - val_loss: 0.5123 - val_acc: 0.7449\n",
      "Epoch 116/300\n",
      "554/554 [==============================] - 0s 231us/step - loss: 0.4906 - acc: 0.7599 - val_loss: 0.5064 - val_acc: 0.7755\n",
      "Epoch 117/300\n",
      "554/554 [==============================] - 0s 223us/step - loss: 0.4907 - acc: 0.7527 - val_loss: 0.5072 - val_acc: 0.7245\n",
      "Epoch 118/300\n",
      "554/554 [==============================] - 0s 243us/step - loss: 0.4777 - acc: 0.7671 - val_loss: 0.5610 - val_acc: 0.7449\n",
      "Epoch 119/300\n",
      "554/554 [==============================] - 0s 244us/step - loss: 0.4662 - acc: 0.7762 - val_loss: 0.5632 - val_acc: 0.7653\n",
      "Epoch 120/300\n",
      "554/554 [==============================] - 0s 247us/step - loss: 0.4748 - acc: 0.7671 - val_loss: 0.5041 - val_acc: 0.7755\n",
      "Epoch 121/300\n",
      "554/554 [==============================] - 0s 223us/step - loss: 0.4712 - acc: 0.7581 - val_loss: 0.4919 - val_acc: 0.7245\n",
      "Epoch 122/300\n",
      "554/554 [==============================] - 0s 230us/step - loss: 0.4840 - acc: 0.7527 - val_loss: 0.4964 - val_acc: 0.7245\n",
      "Epoch 123/300\n",
      "554/554 [==============================] - 0s 227us/step - loss: 0.4918 - acc: 0.7599 - val_loss: 0.5976 - val_acc: 0.6837\n",
      "Epoch 124/300\n",
      "554/554 [==============================] - 0s 231us/step - loss: 0.4628 - acc: 0.7690 - val_loss: 0.4896 - val_acc: 0.7551\n",
      "Epoch 125/300\n",
      "554/554 [==============================] - 0s 230us/step - loss: 0.4711 - acc: 0.7671 - val_loss: 0.6415 - val_acc: 0.6531\n",
      "Epoch 126/300\n",
      "554/554 [==============================] - 0s 236us/step - loss: 0.4660 - acc: 0.7617 - val_loss: 0.4854 - val_acc: 0.7347\n",
      "Epoch 127/300\n",
      "554/554 [==============================] - 0s 230us/step - loss: 0.4578 - acc: 0.7816 - val_loss: 0.5417 - val_acc: 0.7245\n",
      "Epoch 128/300\n",
      "554/554 [==============================] - 0s 233us/step - loss: 0.4834 - acc: 0.7545 - val_loss: 0.4932 - val_acc: 0.7245\n",
      "Epoch 129/300\n",
      "554/554 [==============================] - 0s 255us/step - loss: 0.4655 - acc: 0.7816 - val_loss: 0.5437 - val_acc: 0.7551\n",
      "Epoch 130/300\n",
      "554/554 [==============================] - 0s 277us/step - loss: 0.4856 - acc: 0.7491 - val_loss: 0.5512 - val_acc: 0.7347\n",
      "Epoch 131/300\n",
      "554/554 [==============================] - 0s 234us/step - loss: 0.4642 - acc: 0.7527 - val_loss: 0.5216 - val_acc: 0.7551\n",
      "Epoch 132/300\n",
      "554/554 [==============================] - 0s 259us/step - loss: 0.4841 - acc: 0.7744 - val_loss: 0.5345 - val_acc: 0.7551\n",
      "Epoch 133/300\n",
      "554/554 [==============================] - 0s 250us/step - loss: 0.4736 - acc: 0.7671 - val_loss: 0.5251 - val_acc: 0.7755\n",
      "Epoch 134/300\n",
      "554/554 [==============================] - 0s 232us/step - loss: 0.4632 - acc: 0.7708 - val_loss: 0.4786 - val_acc: 0.7449\n",
      "Epoch 135/300\n",
      "554/554 [==============================] - 0s 229us/step - loss: 0.4484 - acc: 0.7653 - val_loss: 0.5662 - val_acc: 0.7551\n",
      "Epoch 136/300\n",
      "554/554 [==============================] - 0s 228us/step - loss: 0.4634 - acc: 0.7798 - val_loss: 0.4922 - val_acc: 0.7347\n",
      "Epoch 137/300\n",
      "554/554 [==============================] - 0s 237us/step - loss: 0.4661 - acc: 0.7671 - val_loss: 0.4708 - val_acc: 0.7551\n",
      "Epoch 138/300\n",
      "554/554 [==============================] - 0s 241us/step - loss: 0.4671 - acc: 0.7744 - val_loss: 0.5085 - val_acc: 0.7857\n",
      "Epoch 139/300\n",
      "554/554 [==============================] - 0s 251us/step - loss: 0.4734 - acc: 0.7653 - val_loss: 0.4923 - val_acc: 0.7449\n",
      "Epoch 140/300\n",
      "554/554 [==============================] - 0s 246us/step - loss: 0.4604 - acc: 0.7671 - val_loss: 0.4924 - val_acc: 0.7449\n",
      "Epoch 141/300\n",
      "554/554 [==============================] - 0s 219us/step - loss: 0.4633 - acc: 0.7744 - val_loss: 0.4853 - val_acc: 0.7347\n",
      "Epoch 142/300\n",
      "554/554 [==============================] - 0s 225us/step - loss: 0.4697 - acc: 0.7690 - val_loss: 0.4822 - val_acc: 0.7449\n",
      "Epoch 143/300\n",
      "554/554 [==============================] - 0s 273us/step - loss: 0.5440 - acc: 0.7581 - val_loss: 0.5402 - val_acc: 0.7245\n",
      "Epoch 144/300\n",
      "554/554 [==============================] - 0s 250us/step - loss: 0.4577 - acc: 0.7834 - val_loss: 0.5147 - val_acc: 0.7449\n",
      "Epoch 145/300\n",
      "554/554 [==============================] - 0s 259us/step - loss: 0.4682 - acc: 0.7780 - val_loss: 0.5115 - val_acc: 0.7245\n",
      "Epoch 146/300\n",
      "554/554 [==============================] - 0s 256us/step - loss: 0.4696 - acc: 0.7798 - val_loss: 0.4945 - val_acc: 0.7245\n",
      "Epoch 147/300\n",
      "554/554 [==============================] - 0s 254us/step - loss: 0.4587 - acc: 0.7870 - val_loss: 0.4866 - val_acc: 0.7755\n",
      "Epoch 148/300\n",
      "554/554 [==============================] - 0s 261us/step - loss: 0.4527 - acc: 0.7581 - val_loss: 0.4847 - val_acc: 0.7449\n",
      "Epoch 149/300\n",
      "554/554 [==============================] - 0s 267us/step - loss: 0.4805 - acc: 0.7473 - val_loss: 0.4790 - val_acc: 0.7551\n",
      "Epoch 150/300\n",
      "554/554 [==============================] - 0s 290us/step - loss: 0.4557 - acc: 0.7690 - val_loss: 0.5315 - val_acc: 0.7755\n",
      "Epoch 151/300\n",
      "554/554 [==============================] - 0s 250us/step - loss: 0.4658 - acc: 0.7816 - val_loss: 0.5034 - val_acc: 0.7857\n",
      "Epoch 152/300\n",
      "554/554 [==============================] - 0s 265us/step - loss: 0.4869 - acc: 0.7527 - val_loss: 0.4859 - val_acc: 0.7449\n",
      "Epoch 153/300\n",
      "554/554 [==============================] - 0s 273us/step - loss: 0.4590 - acc: 0.7744 - val_loss: 0.4898 - val_acc: 0.7449\n",
      "Epoch 154/300\n",
      "554/554 [==============================] - 0s 245us/step - loss: 0.4466 - acc: 0.7906 - val_loss: 0.5676 - val_acc: 0.7551\n",
      "Epoch 155/300\n",
      "554/554 [==============================] - 0s 234us/step - loss: 0.4722 - acc: 0.7509 - val_loss: 0.5109 - val_acc: 0.7551\n",
      "Epoch 156/300\n",
      "554/554 [==============================] - 0s 286us/step - loss: 0.4578 - acc: 0.7816 - val_loss: 0.5302 - val_acc: 0.7653\n",
      "Epoch 157/300\n",
      "554/554 [==============================] - 0s 282us/step - loss: 0.4706 - acc: 0.7671 - val_loss: 0.5101 - val_acc: 0.7347\n",
      "Epoch 158/300\n",
      "554/554 [==============================] - 0s 252us/step - loss: 0.4710 - acc: 0.7762 - val_loss: 0.4990 - val_acc: 0.7551\n",
      "Epoch 159/300\n",
      "554/554 [==============================] - 0s 325us/step - loss: 0.4664 - acc: 0.7888 - val_loss: 0.6383 - val_acc: 0.6633\n",
      "Epoch 160/300\n",
      "554/554 [==============================] - 0s 258us/step - loss: 0.4975 - acc: 0.7563 - val_loss: 0.4981 - val_acc: 0.7959\n",
      "Epoch 161/300\n",
      "554/554 [==============================] - 0s 248us/step - loss: 0.4834 - acc: 0.7581 - val_loss: 0.5304 - val_acc: 0.7857\n",
      "Epoch 162/300\n",
      "554/554 [==============================] - 0s 256us/step - loss: 0.4656 - acc: 0.7744 - val_loss: 0.5042 - val_acc: 0.7245\n",
      "Epoch 163/300\n",
      "554/554 [==============================] - 0s 270us/step - loss: 0.4568 - acc: 0.7762 - val_loss: 0.5066 - val_acc: 0.7143\n",
      "Epoch 164/300\n",
      "554/554 [==============================] - 0s 216us/step - loss: 0.4547 - acc: 0.7708 - val_loss: 0.4872 - val_acc: 0.7245\n",
      "Epoch 165/300\n",
      "554/554 [==============================] - 0s 203us/step - loss: 0.4557 - acc: 0.7744 - val_loss: 0.5188 - val_acc: 0.7551\n",
      "Epoch 166/300\n",
      "554/554 [==============================] - 0s 219us/step - loss: 0.4612 - acc: 0.7635 - val_loss: 0.5358 - val_acc: 0.7653\n",
      "Epoch 167/300\n",
      "554/554 [==============================] - 0s 209us/step - loss: 0.4822 - acc: 0.7671 - val_loss: 0.4878 - val_acc: 0.7245\n",
      "Epoch 168/300\n",
      "554/554 [==============================] - 0s 210us/step - loss: 0.4641 - acc: 0.7726 - val_loss: 0.5539 - val_acc: 0.6939\n",
      "Epoch 169/300\n",
      "554/554 [==============================] - 0s 209us/step - loss: 0.4695 - acc: 0.7599 - val_loss: 0.4881 - val_acc: 0.7347\n",
      "Epoch 170/300\n",
      "554/554 [==============================] - 0s 194us/step - loss: 0.4549 - acc: 0.7726 - val_loss: 0.5711 - val_acc: 0.7245\n",
      "Epoch 171/300\n",
      "554/554 [==============================] - 0s 197us/step - loss: 0.4649 - acc: 0.7708 - val_loss: 0.4891 - val_acc: 0.7653\n",
      "Epoch 172/300\n",
      "554/554 [==============================] - 0s 221us/step - loss: 0.4451 - acc: 0.7798 - val_loss: 0.5147 - val_acc: 0.7449\n",
      "Epoch 173/300\n",
      "554/554 [==============================] - 0s 209us/step - loss: 0.4549 - acc: 0.7906 - val_loss: 0.5030 - val_acc: 0.7449\n",
      "Epoch 174/300\n",
      "554/554 [==============================] - 0s 183us/step - loss: 0.4459 - acc: 0.7834 - val_loss: 0.5329 - val_acc: 0.7347\n",
      "Epoch 175/300\n",
      "554/554 [==============================] - 0s 186us/step - loss: 0.4772 - acc: 0.7690 - val_loss: 0.4961 - val_acc: 0.7449\n",
      "Epoch 176/300\n",
      "554/554 [==============================] - 0s 195us/step - loss: 0.4381 - acc: 0.8087 - val_loss: 0.4835 - val_acc: 0.7347\n",
      "Epoch 177/300\n",
      "554/554 [==============================] - 0s 212us/step - loss: 0.4755 - acc: 0.7708 - val_loss: 0.4913 - val_acc: 0.7347\n",
      "Epoch 178/300\n",
      "554/554 [==============================] - 0s 191us/step - loss: 0.4598 - acc: 0.7744 - val_loss: 0.5519 - val_acc: 0.7347\n",
      "Epoch 179/300\n",
      "554/554 [==============================] - 0s 232us/step - loss: 0.4630 - acc: 0.7834 - val_loss: 0.5669 - val_acc: 0.6939\n",
      "Epoch 180/300\n",
      "554/554 [==============================] - 0s 223us/step - loss: 0.4822 - acc: 0.7780 - val_loss: 0.4857 - val_acc: 0.7449\n",
      "Epoch 181/300\n",
      "554/554 [==============================] - 0s 230us/step - loss: 0.4539 - acc: 0.7726 - val_loss: 0.5746 - val_acc: 0.7755\n",
      "Epoch 182/300\n",
      "554/554 [==============================] - 0s 219us/step - loss: 0.4706 - acc: 0.7816 - val_loss: 0.5144 - val_acc: 0.7551\n",
      "Epoch 183/300\n",
      "554/554 [==============================] - 0s 198us/step - loss: 0.4569 - acc: 0.7635 - val_loss: 0.5147 - val_acc: 0.7245\n",
      "Epoch 184/300\n",
      "554/554 [==============================] - 0s 181us/step - loss: 0.4518 - acc: 0.7708 - val_loss: 0.4827 - val_acc: 0.7551\n",
      "Epoch 185/300\n",
      "554/554 [==============================] - 0s 218us/step - loss: 0.4600 - acc: 0.7762 - val_loss: 0.4907 - val_acc: 0.7347\n",
      "Epoch 186/300\n",
      "554/554 [==============================] - 0s 208us/step - loss: 0.4483 - acc: 0.7816 - val_loss: 0.4902 - val_acc: 0.7449\n",
      "Epoch 187/300\n",
      "554/554 [==============================] - 0s 181us/step - loss: 0.4387 - acc: 0.7924 - val_loss: 0.4876 - val_acc: 0.7449\n",
      "Epoch 188/300\n",
      "554/554 [==============================] - 0s 199us/step - loss: 0.4653 - acc: 0.7762 - val_loss: 0.5347 - val_acc: 0.7347\n",
      "Epoch 189/300\n",
      "554/554 [==============================] - 0s 255us/step - loss: 0.4457 - acc: 0.7924 - val_loss: 0.5126 - val_acc: 0.7755\n",
      "Epoch 190/300\n",
      "554/554 [==============================] - 0s 289us/step - loss: 0.4496 - acc: 0.7978 - val_loss: 0.5060 - val_acc: 0.7347\n",
      "Epoch 191/300\n",
      "554/554 [==============================] - 0s 247us/step - loss: 0.4693 - acc: 0.7780 - val_loss: 0.4710 - val_acc: 0.7653\n",
      "Epoch 192/300\n",
      "554/554 [==============================] - 0s 342us/step - loss: 0.4565 - acc: 0.7762 - val_loss: 0.5306 - val_acc: 0.7551\n",
      "Epoch 193/300\n",
      "554/554 [==============================] - 0s 377us/step - loss: 0.4564 - acc: 0.7852 - val_loss: 0.5162 - val_acc: 0.7653\n",
      "Epoch 194/300\n",
      "554/554 [==============================] - 0s 249us/step - loss: 0.4443 - acc: 0.7780 - val_loss: 0.4637 - val_acc: 0.7755\n",
      "Epoch 195/300\n",
      "554/554 [==============================] - 0s 237us/step - loss: 0.4473 - acc: 0.7924 - val_loss: 0.4961 - val_acc: 0.7551\n",
      "Epoch 196/300\n",
      "554/554 [==============================] - 0s 238us/step - loss: 0.4396 - acc: 0.7780 - val_loss: 0.5015 - val_acc: 0.7551\n",
      "Epoch 197/300\n",
      "554/554 [==============================] - 0s 216us/step - loss: 0.4498 - acc: 0.7960 - val_loss: 0.4741 - val_acc: 0.7755\n",
      "Epoch 198/300\n",
      "554/554 [==============================] - 0s 186us/step - loss: 0.4500 - acc: 0.7888 - val_loss: 0.5861 - val_acc: 0.7143\n",
      "Epoch 199/300\n",
      "554/554 [==============================] - 0s 233us/step - loss: 0.4541 - acc: 0.7762 - val_loss: 0.5192 - val_acc: 0.7347\n",
      "Epoch 200/300\n",
      "554/554 [==============================] - 0s 202us/step - loss: 0.4389 - acc: 0.7888 - val_loss: 0.4885 - val_acc: 0.7551\n",
      "Epoch 201/300\n",
      "554/554 [==============================] - 0s 232us/step - loss: 0.4467 - acc: 0.7798 - val_loss: 0.5156 - val_acc: 0.7857\n",
      "Epoch 202/300\n",
      "554/554 [==============================] - 0s 209us/step - loss: 0.4547 - acc: 0.7780 - val_loss: 0.4939 - val_acc: 0.7653\n",
      "Epoch 203/300\n",
      "554/554 [==============================] - 0s 208us/step - loss: 0.4483 - acc: 0.7798 - val_loss: 0.5219 - val_acc: 0.7653\n",
      "Epoch 204/300\n",
      "554/554 [==============================] - 0s 184us/step - loss: 0.4446 - acc: 0.7816 - val_loss: 0.4958 - val_acc: 0.7143\n",
      "Epoch 205/300\n",
      "554/554 [==============================] - 0s 216us/step - loss: 0.4425 - acc: 0.7798 - val_loss: 0.4901 - val_acc: 0.7449\n",
      "Epoch 206/300\n",
      "554/554 [==============================] - 0s 187us/step - loss: 0.4357 - acc: 0.7816 - val_loss: 0.4859 - val_acc: 0.7347\n",
      "Epoch 207/300\n",
      "554/554 [==============================] - 0s 201us/step - loss: 0.4362 - acc: 0.7834 - val_loss: 0.4857 - val_acc: 0.7449\n",
      "Epoch 208/300\n",
      "554/554 [==============================] - 0s 175us/step - loss: 0.4565 - acc: 0.7671 - val_loss: 0.5887 - val_acc: 0.7347\n",
      "Epoch 209/300\n",
      "554/554 [==============================] - 0s 189us/step - loss: 0.4537 - acc: 0.7888 - val_loss: 0.4844 - val_acc: 0.7347\n",
      "Epoch 210/300\n",
      "554/554 [==============================] - 0s 188us/step - loss: 0.4629 - acc: 0.7816 - val_loss: 0.5368 - val_acc: 0.7653\n",
      "Epoch 211/300\n",
      "554/554 [==============================] - 0s 186us/step - loss: 0.4642 - acc: 0.7653 - val_loss: 0.5172 - val_acc: 0.7551\n",
      "Epoch 212/300\n",
      "554/554 [==============================] - 0s 231us/step - loss: 0.4264 - acc: 0.7852 - val_loss: 0.6288 - val_acc: 0.6939\n",
      "Epoch 213/300\n",
      "554/554 [==============================] - 0s 234us/step - loss: 0.4418 - acc: 0.7834 - val_loss: 0.5002 - val_acc: 0.7449\n",
      "Epoch 214/300\n",
      "554/554 [==============================] - 0s 202us/step - loss: 0.4571 - acc: 0.7708 - val_loss: 0.5343 - val_acc: 0.7143\n",
      "Epoch 215/300\n",
      "554/554 [==============================] - 0s 196us/step - loss: 0.5322 - acc: 0.7383 - val_loss: 0.4858 - val_acc: 0.8061\n",
      "Epoch 216/300\n",
      "554/554 [==============================] - 0s 162us/step - loss: 0.4637 - acc: 0.7690 - val_loss: 0.4669 - val_acc: 0.7347\n",
      "Epoch 217/300\n",
      "554/554 [==============================] - 0s 207us/step - loss: 0.4341 - acc: 0.7852 - val_loss: 0.4862 - val_acc: 0.7755\n",
      "Epoch 218/300\n",
      "554/554 [==============================] - 0s 215us/step - loss: 0.4512 - acc: 0.7690 - val_loss: 0.5268 - val_acc: 0.7347\n",
      "Epoch 219/300\n",
      "554/554 [==============================] - 0s 194us/step - loss: 0.4451 - acc: 0.7798 - val_loss: 0.4807 - val_acc: 0.7449\n",
      "Epoch 220/300\n",
      "554/554 [==============================] - 0s 212us/step - loss: 0.4327 - acc: 0.8032 - val_loss: 0.4817 - val_acc: 0.7347\n",
      "Epoch 221/300\n",
      "554/554 [==============================] - 0s 214us/step - loss: 0.4535 - acc: 0.7744 - val_loss: 0.5964 - val_acc: 0.7245\n",
      "Epoch 222/300\n",
      "554/554 [==============================] - 0s 227us/step - loss: 0.4533 - acc: 0.7708 - val_loss: 0.4657 - val_acc: 0.7449\n",
      "Epoch 223/300\n",
      "554/554 [==============================] - 0s 243us/step - loss: 0.4370 - acc: 0.7780 - val_loss: 0.4975 - val_acc: 0.7143\n",
      "Epoch 224/300\n",
      "554/554 [==============================] - 0s 218us/step - loss: 0.4421 - acc: 0.7744 - val_loss: 0.4749 - val_acc: 0.7449\n",
      "Epoch 225/300\n",
      "554/554 [==============================] - 0s 233us/step - loss: 0.4463 - acc: 0.7888 - val_loss: 0.4671 - val_acc: 0.7755\n",
      "Epoch 226/300\n",
      "554/554 [==============================] - 0s 214us/step - loss: 0.4518 - acc: 0.7762 - val_loss: 0.5776 - val_acc: 0.7143\n",
      "Epoch 227/300\n",
      "554/554 [==============================] - 0s 281us/step - loss: 0.4684 - acc: 0.7671 - val_loss: 0.4783 - val_acc: 0.7551\n",
      "Epoch 228/300\n",
      "554/554 [==============================] - 0s 253us/step - loss: 0.4639 - acc: 0.7780 - val_loss: 0.5271 - val_acc: 0.7449\n",
      "Epoch 229/300\n",
      "554/554 [==============================] - 0s 249us/step - loss: 0.4358 - acc: 0.7996 - val_loss: 0.5462 - val_acc: 0.7143\n",
      "Epoch 230/300\n",
      "554/554 [==============================] - 0s 269us/step - loss: 0.4346 - acc: 0.8032 - val_loss: 0.5070 - val_acc: 0.7755\n",
      "Epoch 231/300\n",
      "554/554 [==============================] - 0s 272us/step - loss: 0.4618 - acc: 0.7852 - val_loss: 0.4702 - val_acc: 0.7347\n",
      "Epoch 232/300\n",
      "554/554 [==============================] - 0s 264us/step - loss: 0.4338 - acc: 0.7852 - val_loss: 0.4848 - val_acc: 0.7449\n",
      "Epoch 233/300\n",
      "554/554 [==============================] - 0s 252us/step - loss: 0.4326 - acc: 0.7960 - val_loss: 0.4858 - val_acc: 0.7449\n",
      "Epoch 234/300\n",
      "554/554 [==============================] - 0s 233us/step - loss: 0.4206 - acc: 0.8032 - val_loss: 0.4834 - val_acc: 0.7143\n",
      "Epoch 235/300\n",
      "554/554 [==============================] - 0s 253us/step - loss: 0.4425 - acc: 0.7798 - val_loss: 0.4824 - val_acc: 0.7347\n",
      "Epoch 236/300\n",
      "554/554 [==============================] - 0s 238us/step - loss: 0.4488 - acc: 0.7888 - val_loss: 0.4901 - val_acc: 0.7347\n",
      "Epoch 237/300\n",
      "554/554 [==============================] - 0s 225us/step - loss: 0.4750 - acc: 0.7671 - val_loss: 0.5140 - val_acc: 0.7347\n",
      "Epoch 238/300\n",
      "554/554 [==============================] - 0s 235us/step - loss: 0.4198 - acc: 0.7924 - val_loss: 0.5305 - val_acc: 0.7347\n",
      "Epoch 239/300\n",
      "554/554 [==============================] - 0s 276us/step - loss: 0.4503 - acc: 0.7888 - val_loss: 0.5048 - val_acc: 0.7653\n",
      "Epoch 240/300\n",
      "554/554 [==============================] - 0s 242us/step - loss: 0.4366 - acc: 0.7798 - val_loss: 0.5629 - val_acc: 0.7551\n",
      "Epoch 241/300\n",
      "554/554 [==============================] - 0s 255us/step - loss: 0.4413 - acc: 0.7798 - val_loss: 0.5038 - val_acc: 0.7755\n",
      "Epoch 242/300\n",
      "554/554 [==============================] - 0s 265us/step - loss: 0.4354 - acc: 0.7924 - val_loss: 0.4825 - val_acc: 0.7449\n",
      "Epoch 243/300\n",
      "554/554 [==============================] - 0s 286us/step - loss: 0.4261 - acc: 0.7906 - val_loss: 0.4647 - val_acc: 0.7449\n",
      "Epoch 244/300\n",
      "554/554 [==============================] - 0s 231us/step - loss: 0.4296 - acc: 0.7852 - val_loss: 0.4747 - val_acc: 0.7143\n",
      "Epoch 245/300\n",
      "554/554 [==============================] - 0s 253us/step - loss: 0.4301 - acc: 0.7870 - val_loss: 0.5027 - val_acc: 0.7755\n",
      "Epoch 246/300\n",
      "554/554 [==============================] - 0s 260us/step - loss: 0.4493 - acc: 0.7726 - val_loss: 0.4634 - val_acc: 0.7347\n",
      "Epoch 247/300\n",
      "554/554 [==============================] - 0s 262us/step - loss: 0.4568 - acc: 0.7888 - val_loss: 0.5000 - val_acc: 0.7755\n",
      "Epoch 248/300\n",
      "554/554 [==============================] - 0s 224us/step - loss: 0.4286 - acc: 0.7870 - val_loss: 0.4562 - val_acc: 0.7551\n",
      "Epoch 249/300\n",
      "554/554 [==============================] - 0s 245us/step - loss: 0.4387 - acc: 0.7888 - val_loss: 0.4877 - val_acc: 0.7449\n",
      "Epoch 250/300\n",
      "554/554 [==============================] - 0s 286us/step - loss: 0.4348 - acc: 0.7888 - val_loss: 0.4681 - val_acc: 0.7449\n",
      "Epoch 251/300\n",
      "554/554 [==============================] - 0s 243us/step - loss: 0.4459 - acc: 0.7870 - val_loss: 0.4774 - val_acc: 0.7347\n",
      "Epoch 252/300\n",
      "554/554 [==============================] - 0s 251us/step - loss: 0.4518 - acc: 0.7780 - val_loss: 0.5375 - val_acc: 0.7449\n",
      "Epoch 253/300\n",
      "554/554 [==============================] - 0s 240us/step - loss: 0.4365 - acc: 0.7888 - val_loss: 0.4913 - val_acc: 0.7857\n",
      "Epoch 254/300\n",
      "554/554 [==============================] - 0s 260us/step - loss: 0.4218 - acc: 0.7888 - val_loss: 0.5178 - val_acc: 0.7755\n",
      "Epoch 255/300\n",
      "554/554 [==============================] - 0s 232us/step - loss: 0.4230 - acc: 0.7978 - val_loss: 0.4983 - val_acc: 0.7449\n",
      "Epoch 256/300\n",
      "554/554 [==============================] - 0s 223us/step - loss: 0.4368 - acc: 0.7906 - val_loss: 0.5479 - val_acc: 0.7551\n",
      "Epoch 257/300\n",
      "554/554 [==============================] - 0s 249us/step - loss: 0.4562 - acc: 0.7996 - val_loss: 0.4954 - val_acc: 0.7653\n",
      "Epoch 258/300\n",
      "554/554 [==============================] - 0s 245us/step - loss: 0.4382 - acc: 0.7888 - val_loss: 0.5324 - val_acc: 0.7347\n",
      "Epoch 259/300\n",
      "554/554 [==============================] - 0s 248us/step - loss: 0.4363 - acc: 0.7798 - val_loss: 0.4808 - val_acc: 0.7653\n",
      "Epoch 260/300\n",
      "554/554 [==============================] - 0s 243us/step - loss: 0.4177 - acc: 0.7960 - val_loss: 0.4635 - val_acc: 0.7449\n",
      "Epoch 261/300\n",
      "554/554 [==============================] - 0s 234us/step - loss: 0.4533 - acc: 0.7780 - val_loss: 0.5333 - val_acc: 0.7959\n",
      "Epoch 262/300\n",
      "554/554 [==============================] - 0s 246us/step - loss: 0.4476 - acc: 0.7653 - val_loss: 0.4675 - val_acc: 0.7551\n",
      "Epoch 263/300\n",
      "554/554 [==============================] - 0s 239us/step - loss: 0.4274 - acc: 0.8032 - val_loss: 0.5350 - val_acc: 0.7245\n",
      "Epoch 264/300\n",
      "554/554 [==============================] - 0s 253us/step - loss: 0.4669 - acc: 0.7744 - val_loss: 0.4671 - val_acc: 0.7755\n",
      "Epoch 265/300\n",
      "554/554 [==============================] - 0s 231us/step - loss: 0.4368 - acc: 0.7870 - val_loss: 0.4905 - val_acc: 0.7245\n",
      "Epoch 266/300\n",
      "554/554 [==============================] - 0s 245us/step - loss: 0.4414 - acc: 0.7906 - val_loss: 0.4781 - val_acc: 0.7347\n",
      "Epoch 267/300\n",
      "554/554 [==============================] - 0s 288us/step - loss: 0.4309 - acc: 0.7942 - val_loss: 0.4749 - val_acc: 0.7245\n",
      "Epoch 268/300\n",
      "554/554 [==============================] - 0s 252us/step - loss: 0.4336 - acc: 0.7960 - val_loss: 0.4656 - val_acc: 0.7347\n",
      "Epoch 269/300\n",
      "554/554 [==============================] - 0s 264us/step - loss: 0.4236 - acc: 0.7978 - val_loss: 0.5086 - val_acc: 0.7347\n",
      "Epoch 270/300\n",
      "554/554 [==============================] - 0s 236us/step - loss: 0.4418 - acc: 0.7978 - val_loss: 0.4778 - val_acc: 0.7245\n",
      "Epoch 271/300\n",
      "554/554 [==============================] - 0s 218us/step - loss: 0.4310 - acc: 0.7870 - val_loss: 0.4623 - val_acc: 0.7449\n",
      "Epoch 272/300\n",
      "554/554 [==============================] - 0s 227us/step - loss: 0.4478 - acc: 0.7816 - val_loss: 0.4679 - val_acc: 0.7551\n",
      "Epoch 273/300\n",
      "554/554 [==============================] - 0s 208us/step - loss: 0.4399 - acc: 0.7888 - val_loss: 0.4708 - val_acc: 0.7653\n",
      "Epoch 274/300\n",
      "554/554 [==============================] - 0s 237us/step - loss: 0.4207 - acc: 0.7906 - val_loss: 0.4734 - val_acc: 0.7347\n",
      "Epoch 275/300\n",
      "554/554 [==============================] - 0s 317us/step - loss: 0.4360 - acc: 0.7888 - val_loss: 0.5332 - val_acc: 0.7245\n",
      "Epoch 276/300\n",
      "554/554 [==============================] - 0s 223us/step - loss: 0.4350 - acc: 0.7906 - val_loss: 0.4772 - val_acc: 0.7551\n",
      "Epoch 277/300\n",
      "554/554 [==============================] - 0s 231us/step - loss: 0.4352 - acc: 0.7870 - val_loss: 0.4651 - val_acc: 0.7449\n",
      "Epoch 278/300\n",
      "554/554 [==============================] - 0s 222us/step - loss: 0.4294 - acc: 0.7942 - val_loss: 0.5510 - val_acc: 0.7143\n",
      "Epoch 279/300\n",
      "554/554 [==============================] - 0s 229us/step - loss: 0.4454 - acc: 0.7852 - val_loss: 0.5319 - val_acc: 0.7755\n",
      "Epoch 280/300\n",
      "554/554 [==============================] - 0s 196us/step - loss: 0.4486 - acc: 0.7924 - val_loss: 0.4748 - val_acc: 0.7347\n",
      "Epoch 281/300\n",
      "554/554 [==============================] - 0s 216us/step - loss: 0.4333 - acc: 0.7852 - val_loss: 0.4773 - val_acc: 0.7449\n",
      "Epoch 282/300\n",
      "554/554 [==============================] - 0s 206us/step - loss: 0.4417 - acc: 0.7996 - val_loss: 0.4949 - val_acc: 0.7143\n",
      "Epoch 283/300\n",
      "554/554 [==============================] - 0s 240us/step - loss: 0.4411 - acc: 0.7924 - val_loss: 0.4889 - val_acc: 0.7449\n",
      "Epoch 284/300\n",
      "554/554 [==============================] - 0s 225us/step - loss: 0.4222 - acc: 0.7924 - val_loss: 0.4997 - val_acc: 0.7653\n",
      "Epoch 285/300\n",
      "554/554 [==============================] - 0s 270us/step - loss: 0.4492 - acc: 0.7780 - val_loss: 0.5049 - val_acc: 0.7755\n",
      "Epoch 286/300\n",
      "554/554 [==============================] - 0s 266us/step - loss: 0.4284 - acc: 0.7960 - val_loss: 0.5007 - val_acc: 0.7755\n",
      "Epoch 287/300\n",
      "554/554 [==============================] - 0s 305us/step - loss: 0.4471 - acc: 0.7888 - val_loss: 0.4978 - val_acc: 0.7347\n",
      "Epoch 288/300\n",
      "554/554 [==============================] - 0s 269us/step - loss: 0.4250 - acc: 0.7888 - val_loss: 0.4522 - val_acc: 0.7551\n",
      "Epoch 289/300\n",
      "554/554 [==============================] - 0s 251us/step - loss: 0.4303 - acc: 0.7906 - val_loss: 0.4758 - val_acc: 0.7449\n",
      "Epoch 290/300\n",
      "554/554 [==============================] - 0s 225us/step - loss: 0.4395 - acc: 0.7870 - val_loss: 0.6124 - val_acc: 0.7041\n",
      "Epoch 291/300\n",
      "554/554 [==============================] - 0s 213us/step - loss: 0.4344 - acc: 0.8014 - val_loss: 0.5003 - val_acc: 0.7551\n",
      "Epoch 292/300\n",
      "554/554 [==============================] - 0s 208us/step - loss: 0.4497 - acc: 0.7852 - val_loss: 0.5534 - val_acc: 0.7143\n",
      "Epoch 293/300\n",
      "554/554 [==============================] - 0s 195us/step - loss: 0.4425 - acc: 0.7834 - val_loss: 0.4871 - val_acc: 0.7959\n",
      "Epoch 294/300\n",
      "554/554 [==============================] - 0s 168us/step - loss: 0.4336 - acc: 0.8069 - val_loss: 0.5733 - val_acc: 0.7143\n",
      "Epoch 295/300\n",
      "554/554 [==============================] - 0s 225us/step - loss: 0.4443 - acc: 0.7888 - val_loss: 0.5092 - val_acc: 0.7347\n",
      "Epoch 296/300\n",
      "554/554 [==============================] - 0s 178us/step - loss: 0.4269 - acc: 0.7924 - val_loss: 0.4849 - val_acc: 0.7653\n",
      "Epoch 297/300\n",
      "554/554 [==============================] - 0s 168us/step - loss: 0.4254 - acc: 0.8014 - val_loss: 0.4941 - val_acc: 0.7347\n",
      "Epoch 298/300\n",
      "554/554 [==============================] - 0s 172us/step - loss: 0.4332 - acc: 0.7978 - val_loss: 0.4702 - val_acc: 0.7347\n",
      "Epoch 299/300\n",
      "554/554 [==============================] - 0s 206us/step - loss: 0.4324 - acc: 0.7762 - val_loss: 0.5100 - val_acc: 0.7551\n",
      "Epoch 300/300\n",
      "554/554 [==============================] - 0s 173us/step - loss: 0.4163 - acc: 0.7978 - val_loss: 0.4545 - val_acc: 0.7347\n"
     ]
    }
   ],
   "source": [
    "# Fit the model\n",
    "# Use 15% for Validation\n",
    "# Train for 300 epochs\n",
    "# User batch size = 10\n",
    "# Save the model fitting into the variable history\n",
    "# TODO\n",
    "\n",
    "history = model.fit(X_train, y_train, batch_size=10, epochs=300, validation_split=0.15)"
   ]
  },
  {
   "cell_type": "code",
   "execution_count": 17,
   "metadata": {
    "collapsed": true
   },
   "outputs": [
    {
     "name": "stdout",
     "output_type": "stream",
     "text": [
      "dict_keys(['val_loss', 'val_acc', 'loss', 'acc'])\n"
     ]
    }
   ],
   "source": [
    "# list all data in history\n",
    "print(history.history.keys())"
   ]
  },
  {
   "cell_type": "code",
   "execution_count": 18,
   "metadata": {
    "collapsed": true
   },
   "outputs": [
    {
     "data": {
      "text/plain": [
       "<matplotlib.legend.Legend at 0x1a2cdae780>"
      ]
     },
     "execution_count": 18,
     "metadata": {},
     "output_type": "execute_result"
    },
    {
     "data": {
      "image/png": "[encoded data removed]",
      "text/plain": [
       "<Figure size 648x504 with 1 Axes>"
      ]
     },
     "metadata": {},
     "output_type": "display_data"
    }
   ],
   "source": [
    "# Plot the History of Training Loss (history.history['loss']) and the Validation Loss (history.history['val_loss'])\n",
    "# Title should be \"Model Loss\"\n",
    "# x label: \"Loss\"\n",
    "# y label: \"Epoch\"\n",
    "# Legend: \"Train\" and \"Validation\"\n",
    "# TODO\n",
    "\n",
    "\n",
    "sns.set_style('darkgrid')\n",
    "\n",
    "plt.figure(figsize=(9,7))\n",
    "\n",
    "plt.plot(history.history['loss'])\n",
    "plt.plot(history.history['val_loss'])\n",
    "\n",
    "plt.title('Model Loss')\n",
    "plt.xlabel('Loss')\n",
    "plt.ylabel('Epoch')\n",
    "plt.legend(['Train', 'Test'])"
   ]
  },
  {
   "cell_type": "code",
   "execution_count": 19,
   "metadata": {
    "collapsed": true
   },
   "outputs": [
    {
     "data": {
      "text/plain": [
       "<matplotlib.legend.Legend at 0x1a2ce5bd68>"
      ]
     },
     "execution_count": 19,
     "metadata": {},
     "output_type": "execute_result"
    },
    {
     "data": {
      "image/png": "[encoded data removed]",
      "text/plain": [
       "<Figure size 648x504 with 1 Axes>"
      ]
     },
     "metadata": {},
     "output_type": "display_data"
    }
   ],
   "source": [
    "# Plot the History of Training Accuracy (history.history['acc']) and \n",
    "# the Validation Accuracy (history.history['val_acc'])\n",
    "#\n",
    "# Title should be \"Model Accuracy\"\n",
    "# x label: \"Accuracy\"\n",
    "# y label: \"Epoch\"\n",
    "# Legend: \"Train\" and \"Validation\"\n",
    "# TODO\n",
    "\n",
    "\n",
    "\n",
    "sns.set_style('darkgrid')\n",
    "\n",
    "plt.figure(figsize=(9,7))\n",
    "\n",
    "plt.plot(history.history['acc'])\n",
    "plt.plot(history.history['val_acc'])\n",
    "\n",
    "plt.title('Model Accuracy')\n",
    "plt.xlabel('Accuracy')\n",
    "plt.ylabel('Epoch')\n",
    "plt.legend(['Train', 'Test'])"
   ]
  },
  {
   "cell_type": "code",
   "execution_count": 20,
   "metadata": {
    "collapsed": true
   },
   "outputs": [
    {
     "name": "stdout",
     "output_type": "stream",
     "text": [
      "116/116 [==============================] - 0s 197us/step\n"
     ]
    }
   ],
   "source": [
    "# Evaluate the loss and accuracy on the test data\n",
    "loss, accuracy = model.evaluate(X_test, y_test, )"
   ]
  },
  {
   "cell_type": "code",
   "execution_count": 21,
   "metadata": {
    "collapsed": true
   },
   "outputs": [
    {
     "name": "stdout",
     "output_type": "stream",
     "text": [
      "Test score: 0.595746987852557\n",
      "Test accuracy: 0.758620691710505\n"
     ]
    }
   ],
   "source": [
    "print('Test score:', loss)\n",
    "print('Test accuracy:', accuracy)"
   ]
  }
 ],
 "metadata": {
  "kernelspec": {
   "display_name": "Python 3",
   "language": "python",
   "name": "python3"
  },
  "language_info": {
   "codemirror_mode": {
    "name": "ipython",
    "version": 3
   },
   "file_extension": ".py",
   "mimetype": "text/x-python",
   "name": "python",
   "nbconvert_exporter": "python",
   "pygments_lexer": "ipython3",
   "version": "3.7.0"
  },
  "varInspector": {
   "cols": {
    "lenName": 16,
    "lenType": 16,
    "lenVar": 40
   },
   "kernels_config": {
    "python": {
     "delete_cmd_postfix": "",
     "delete_cmd_prefix": "del ",
     "library": "var_list.py",
     "varRefreshCmd": "print(var_dic_list())"
    },
    "r": {
     "delete_cmd_postfix": ") ",
     "delete_cmd_prefix": "rm(",
     "library": "var_list.r",
     "varRefreshCmd": "cat(var_dic_list()) "
    }
   },
   "types_to_exclude": [
    "module",
    "function",
    "builtin_function_or_method",
    "instance",
    "_Feature"
   ],
   "window_display": false
  }
 },
 "nbformat": 4,
 "nbformat_minor": 2
}
