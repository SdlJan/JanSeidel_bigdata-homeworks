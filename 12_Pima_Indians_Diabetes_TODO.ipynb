{
 "cells": [
  {
   "cell_type": "markdown",
   "metadata": {},
   "source": [
    "# Data \n",
    "\n",
    "The Pima Indians dataset is about the prediction of diabetes . This is a small dataset available from the UCI Machine Learning Repository. https://archive.ics.uci.edu/ml/datasets/Pima+Indians+Diabetes\n",
    "\n",
    "**Attribute Information:**\n",
    "\n",
    "1. Number of times pregnant\n",
    "2. Plasma glucose concentration a 2 hours in an oral glucose tolerance test\n",
    "3. Diastolic blood pressure (mm Hg)\n",
    "4. Triceps skin fold thickness (mm)\n",
    "5. 2-Hour serum insulin (mu U/ml)\n",
    "6. Body mass index (weight in kg/(height in m)^2)\n",
    "7. Diabetes pedigree function\n",
    "8. Age (years)\n",
    "9. Class variable (0 or 1) (diabetes mellitus)"
   ]
  },
  {
   "cell_type": "code",
   "execution_count": null,
   "metadata": {
    "collapsed": true
   },
   "outputs": [],
   "source": [
    "#import wget\n",
    "\n",
    "#url = 'https://gist.githubusercontent.com/ktisha/c21e73a1bd1700294ef790c56c8aec1f/raw/819b69b5736821ccee93d05b51de0510bea00294/pima-indians-diabetes.csv'\n",
    "\n",
    "#pima-indians-diabetes.csv = wget.download(url)\n",
    "# Download the data\n",
    "#wget -O pima-indians-diabetes.csv https://gist.githubusercontent.com/ktisha/c21e73a1bd1700294ef790c56c8aec1f/raw/819b69b5736821ccee93d05b51de0510bea00294/pima-indians-diabetes.csv"
   ]
  },
  {
   "cell_type": "code",
   "execution_count": 1,
   "metadata": {
    "collapsed": true
   },
   "outputs": [
    {
     "name": "stdout",
     "output_type": "stream",
     "text": [
      "total 896\n",
      "-rw-r--r--  1 DERJAN  staff  12025 Apr 25 13:25 1 Timing Algorithms.ipynb\n",
      "-rw-r--r--  1 DERJAN  staff  24900 May  6 10:05 10 MongoDB-Todo.ipynb\n",
      "-rw-r--r--  1 DERJAN  staff  86070 Jun  9 22:06 12_Pima_Indians_Diabetes_TODO.ipynb\n",
      "-rw-r--r--  1 DERJAN  staff   7094 Apr 25 13:25 2 Finding values in collections Solution.ipynb\n",
      "-rw-r--r--  1 DERJAN  staff   5800 Apr 25 13:25 2 Finding values in collections Todo.ipynb\n",
      "-rw-r--r--  1 DERJAN  staff  68221 Apr 25 13:25 3 Time Complexity-Solution.ipynb\n",
      "-rw-r--r--  1 DERJAN  staff  30348 Apr 25 13:25 3 Time Complexity.ipynb\n",
      "-rw-r--r--  1 DERJAN  staff  19962 Apr 25 13:25 4 Decision Trees Solution.ipynb\n",
      "-rw-r--r--  1 DERJAN  staff   3844 Apr 25 13:25 4 Decision Trees Todo.ipynb\n",
      "-rw-r--r--  1 DERJAN  staff  16729 Apr 25 13:25 5 Programming Paradigms.ipynb\n",
      "-rw-r--r--  1 DERJAN  staff   4608 Apr 25 13:25 6 Linked-List-Todo.ipynb\n",
      "-rw-r--r--  1 DERJAN  staff   3596 Apr 25 13:25 7 Binary Search Tree-Todo.ipynb\n",
      "-rw-r--r--  1 DERJAN  staff  63785 Apr 25 13:25 8 Amdahl's Law.ipynb\n",
      "-rw-r--r--  1 DERJAN  staff  34927 Apr 30 00:41 9 Web API.ipynb\n",
      "-rw-r--r--  1 DERJAN  staff  22156 Apr 25 13:25 docker.md\n",
      "-rwxr-xr-x@ 1 DERJAN  staff  23628 Apr  4  2017 \u001b[31mpima-indians-diabetes.csv\u001b[m\u001b[m*\n"
     ]
    }
   ],
   "source": [
    "# check if the data is downloaded\n",
    "%ls -l"
   ]
  },
  {
   "cell_type": "code",
   "execution_count": 2,
   "metadata": {
    "collapsed": true
   },
   "outputs": [
    {
     "name": "stderr",
     "output_type": "stream",
     "text": [
      "Using TensorFlow backend.\n"
     ]
    }
   ],
   "source": [
    "from sklearn.model_selection import train_test_split\n",
    "from keras.models import Sequential\n",
    "from keras.layers import Dense\n",
    "import matplotlib.pyplot as plt\n",
    "from matplotlib.ticker import MaxNLocator\n",
    "import numpy as np\n",
    "import pandas as pd\n",
    "import seaborn as sns"
   ]
  },
  {
   "cell_type": "code",
   "execution_count": 3,
   "metadata": {
    "collapsed": true
   },
   "outputs": [],
   "source": [
    "# fix random seed for reproducibility\n",
    "seed = 7\n",
    "np.random.seed(seed)"
   ]
  },
  {
   "cell_type": "code",
   "execution_count": 4,
   "metadata": {
    "collapsed": true
   },
   "outputs": [],
   "source": [
    "# load pima indians dataset\n",
    "df = np.loadtxt(\"pima-indians-diabetes.csv\", delimiter=\",\")"
   ]
  },
  {
   "cell_type": "code",
   "execution_count": null,
   "metadata": {},
   "outputs": [],
   "source": [
    "# create df from array\n",
    "\n",
    "#df = pd.DataFrame({'NumPreg':dataframe[:,0],'PlasGlucConc':dataframe[:,1], 'BloodPres':dataframe[:,2], 'SfThick':dataframe[:,3], 'SerumIns':dataframe[:,4], 'BMI':dataframe[:,5], 'DiabPredFunc':dataframe[:,6], 'Age':dataframe[:,7], 'Class':dataframe[:,8]})\n",
    "#df.head()"
   ]
  },
  {
   "cell_type": "code",
   "execution_count": 5,
   "metadata": {
    "collapsed": true
   },
   "outputs": [],
   "source": [
    "# split dataset into input (X) and output (Y) variables\n",
    "# output is the last column\n",
    "\n",
    "X = df[:, 0:8]\n",
    "y = df[:,8]"
   ]
  },
  {
   "cell_type": "code",
   "execution_count": 6,
   "metadata": {
    "collapsed": true
   },
   "outputs": [
    {
     "name": "stdout",
     "output_type": "stream",
     "text": [
      "(768, 8)\n"
     ]
    }
   ],
   "source": [
    "# print the shape of x\n",
    "\n",
    "print(X.shape)\n"
   ]
  },
  {
   "cell_type": "code",
   "execution_count": 7,
   "metadata": {
    "collapsed": true
   },
   "outputs": [
    {
     "data": {
      "text/plain": [
       "8"
      ]
     },
     "execution_count": 7,
     "metadata": {},
     "output_type": "execute_result"
    }
   ],
   "source": [
    "# save to number of input dimensions in input_dim\n",
    "input_dim = 8\n",
    "input_dim"
   ]
  },
  {
   "cell_type": "code",
   "execution_count": 8,
   "metadata": {},
   "outputs": [],
   "source": [
    "from keras.utils import to_categorical\n",
    "y = to_categorical(y, 2)"
   ]
  },
  {
   "cell_type": "code",
   "execution_count": 9,
   "metadata": {
    "collapsed": true
   },
   "outputs": [
    {
     "name": "stdout",
     "output_type": "stream",
     "text": [
      "(768, 2)\n"
     ]
    }
   ],
   "source": [
    "# shape of y\n",
    "# TODO\n",
    "print(y.shape)"
   ]
  },
  {
   "cell_type": "code",
   "execution_count": 10,
   "metadata": {
    "collapsed": true
   },
   "outputs": [],
   "source": [
    "# Create training and test sets\n",
    "# Test size should be 15%\n",
    "# The test and train set should be stratified\n",
    "# use a random state (for reproducibility) of 42\n",
    "# TODO \n",
    "X_train, X_test, y_train, y_test = train_test_split(X, y, test_size=0.15, random_state=42)"
   ]
  },
  {
   "cell_type": "code",
   "execution_count": 11,
   "metadata": {
    "collapsed": true
   },
   "outputs": [
    {
     "name": "stdout",
     "output_type": "stream",
     "text": [
      "(116, 8)\n"
     ]
    }
   ],
   "source": [
    "# shape of X_test\n",
    "# TODO\n",
    "print(X_test.shape)"
   ]
  },
  {
   "cell_type": "markdown",
   "metadata": {},
   "source": [
    "# Model"
   ]
  },
  {
   "cell_type": "code",
   "execution_count": 12,
   "metadata": {
    "collapsed": true
   },
   "outputs": [],
   "source": [
    "# 1. Create Sequential model\n",
    "# 2. + 3. Add two hidden dense layers with 12 and 8 nodes. Both should have Relu activations \n",
    "# 4. Add a final output layer\n",
    "# Think about how many nodes the final output layer should have and what activation function is appropiate\n",
    "# TODO\n",
    "\n",
    "model = Sequential()\n",
    "\n",
    "model.add(Dense(12, activation='relu'))\n",
    "model.add(Dense(8, activation='relu'))\n",
    "\n",
    "model.add(Dense(2, activation='softmax'))"
   ]
  },
  {
   "cell_type": "code",
   "execution_count": 14,
   "metadata": {
    "collapsed": true
   },
   "outputs": [],
   "source": [
    "# Compile the model\n",
    "# Think about what loss function is appropiate\n",
    "# Use as the optimizer Adam\n",
    "# Track as an additional metric Accuracy\n",
    "# TODO\n",
    "model.compile(optimizer='adam', loss='binary_crossentropy', metrics=['accuracy'])"
   ]
  },
  {
   "cell_type": "code",
   "execution_count": 15,
   "metadata": {
    "collapsed": true
   },
   "outputs": [
    {
     "name": "stdout",
     "output_type": "stream",
     "text": [
      "WARNING:tensorflow:From /Users/DERJAN/anaconda3/lib/python3.7/site-packages/tensorflow/python/ops/math_ops.py:3066: to_int32 (from tensorflow.python.ops.math_ops) is deprecated and will be removed in a future version.\n",
      "Instructions for updating:\n",
      "Use tf.cast instead.\n",
      "Train on 554 samples, validate on 98 samples\n",
      "Epoch 1/300\n",
      "554/554 [==============================] - 1s 911us/step - loss: 1.8809 - acc: 0.5162 - val_loss: 1.2137 - val_acc: 0.5510\n",
      "Epoch 2/300\n",
      "554/554 [==============================] - 0s 188us/step - loss: 0.9851 - acc: 0.6336 - val_loss: 0.8590 - val_acc: 0.6837\n",
      "Epoch 3/300\n",
      "554/554 [==============================] - 0s 182us/step - loss: 0.8339 - acc: 0.6643 - val_loss: 0.8669 - val_acc: 0.6224\n",
      "Epoch 4/300\n",
      "554/554 [==============================] - 0s 203us/step - loss: 0.7588 - acc: 0.6715 - val_loss: 0.7198 - val_acc: 0.6939\n",
      "Epoch 5/300\n",
      "554/554 [==============================] - 0s 262us/step - loss: 0.7436 - acc: 0.6426 - val_loss: 0.7170 - val_acc: 0.6939\n",
      "Epoch 6/300\n",
      "554/554 [==============================] - 0s 290us/step - loss: 0.7295 - acc: 0.6444 - val_loss: 0.6794 - val_acc: 0.7551\n",
      "Epoch 7/300\n",
      "554/554 [==============================] - 0s 240us/step - loss: 0.7059 - acc: 0.6895 - val_loss: 0.6876 - val_acc: 0.7041\n",
      "Epoch 8/300\n",
      "554/554 [==============================] - 0s 203us/step - loss: 0.7207 - acc: 0.6679 - val_loss: 0.7617 - val_acc: 0.7551\n",
      "Epoch 9/300\n",
      "554/554 [==============================] - 0s 249us/step - loss: 0.6940 - acc: 0.6769 - val_loss: 0.6912 - val_acc: 0.7449\n",
      "Epoch 10/300\n",
      "554/554 [==============================] - 0s 233us/step - loss: 0.6705 - acc: 0.6751 - val_loss: 0.7297 - val_acc: 0.7347\n",
      "Epoch 11/300\n",
      "554/554 [==============================] - 0s 181us/step - loss: 0.6611 - acc: 0.6823 - val_loss: 0.7576 - val_acc: 0.7551\n",
      "Epoch 12/300\n",
      "554/554 [==============================] - 0s 189us/step - loss: 0.6396 - acc: 0.6986 - val_loss: 0.6536 - val_acc: 0.6939\n",
      "Epoch 13/300\n",
      "554/554 [==============================] - 0s 196us/step - loss: 0.6400 - acc: 0.6841 - val_loss: 0.6262 - val_acc: 0.7347\n",
      "Epoch 14/300\n",
      "554/554 [==============================] - 0s 226us/step - loss: 0.6292 - acc: 0.7022 - val_loss: 0.6159 - val_acc: 0.7347\n",
      "Epoch 15/300\n",
      "554/554 [==============================] - 0s 219us/step - loss: 0.6121 - acc: 0.7040 - val_loss: 0.6518 - val_acc: 0.6429\n",
      "Epoch 16/300\n",
      "554/554 [==============================] - 0s 183us/step - loss: 0.6224 - acc: 0.7004 - val_loss: 0.6667 - val_acc: 0.6429\n",
      "Epoch 17/300\n",
      "554/554 [==============================] - 0s 174us/step - loss: 0.6328 - acc: 0.6949 - val_loss: 0.5874 - val_acc: 0.7041\n",
      "Epoch 18/300\n",
      "554/554 [==============================] - 0s 185us/step - loss: 0.5821 - acc: 0.7148 - val_loss: 0.6458 - val_acc: 0.7755\n",
      "Epoch 19/300\n",
      "554/554 [==============================] - 0s 193us/step - loss: 0.6104 - acc: 0.6913 - val_loss: 0.6000 - val_acc: 0.7449\n",
      "Epoch 20/300\n",
      "554/554 [==============================] - 0s 278us/step - loss: 0.6076 - acc: 0.6913 - val_loss: 0.6014 - val_acc: 0.6939\n",
      "Epoch 21/300\n",
      "554/554 [==============================] - 0s 244us/step - loss: 0.5937 - acc: 0.7076 - val_loss: 0.5975 - val_acc: 0.7449\n",
      "Epoch 22/300\n",
      "554/554 [==============================] - 0s 229us/step - loss: 0.6089 - acc: 0.6931 - val_loss: 0.6050 - val_acc: 0.7347\n",
      "Epoch 23/300\n",
      "554/554 [==============================] - 0s 255us/step - loss: 0.5967 - acc: 0.6877 - val_loss: 0.6027 - val_acc: 0.7551\n",
      "Epoch 24/300\n",
      "554/554 [==============================] - 0s 195us/step - loss: 0.6339 - acc: 0.7076 - val_loss: 0.5921 - val_acc: 0.7347\n",
      "Epoch 25/300\n",
      "554/554 [==============================] - 0s 214us/step - loss: 0.5991 - acc: 0.6805 - val_loss: 0.6149 - val_acc: 0.7551\n",
      "Epoch 26/300\n",
      "554/554 [==============================] - 0s 214us/step - loss: 0.5592 - acc: 0.7148 - val_loss: 0.5808 - val_acc: 0.7245\n",
      "Epoch 27/300\n",
      "554/554 [==============================] - 0s 242us/step - loss: 0.5762 - acc: 0.7004 - val_loss: 0.6380 - val_acc: 0.6633\n",
      "Epoch 28/300\n",
      "554/554 [==============================] - 0s 225us/step - loss: 0.6073 - acc: 0.7076 - val_loss: 0.5285 - val_acc: 0.7551\n",
      "Epoch 29/300\n",
      "554/554 [==============================] - 0s 207us/step - loss: 0.5537 - acc: 0.7329 - val_loss: 0.5759 - val_acc: 0.7755\n",
      "Epoch 30/300\n",
      "554/554 [==============================] - 0s 215us/step - loss: 0.5648 - acc: 0.7274 - val_loss: 0.6199 - val_acc: 0.6633\n",
      "Epoch 31/300\n",
      "554/554 [==============================] - 0s 219us/step - loss: 0.5605 - acc: 0.7202 - val_loss: 0.5701 - val_acc: 0.7653\n",
      "Epoch 32/300\n",
      "554/554 [==============================] - 0s 201us/step - loss: 0.5752 - acc: 0.7130 - val_loss: 0.5717 - val_acc: 0.7347\n",
      "Epoch 33/300\n",
      "554/554 [==============================] - 0s 229us/step - loss: 0.5536 - acc: 0.7274 - val_loss: 0.6136 - val_acc: 0.7143\n",
      "Epoch 34/300\n",
      "554/554 [==============================] - 0s 237us/step - loss: 0.5549 - acc: 0.7184 - val_loss: 0.5668 - val_acc: 0.7755\n",
      "Epoch 35/300\n",
      "554/554 [==============================] - 0s 247us/step - loss: 0.5367 - acc: 0.7202 - val_loss: 0.5430 - val_acc: 0.7347\n",
      "Epoch 36/300\n",
      "554/554 [==============================] - 0s 245us/step - loss: 0.5660 - acc: 0.7365 - val_loss: 0.5495 - val_acc: 0.7347\n",
      "Epoch 37/300\n",
      "554/554 [==============================] - 0s 241us/step - loss: 0.5533 - acc: 0.7220 - val_loss: 0.5405 - val_acc: 0.7653\n",
      "Epoch 38/300\n",
      "554/554 [==============================] - 0s 253us/step - loss: 0.5498 - acc: 0.7310 - val_loss: 0.5446 - val_acc: 0.7551\n",
      "Epoch 39/300\n",
      "554/554 [==============================] - 0s 246us/step - loss: 0.5507 - acc: 0.7202 - val_loss: 0.5318 - val_acc: 0.7551\n",
      "Epoch 40/300\n",
      "554/554 [==============================] - 0s 247us/step - loss: 0.5649 - acc: 0.7202 - val_loss: 0.5575 - val_acc: 0.7347\n",
      "Epoch 41/300\n",
      "554/554 [==============================] - 0s 265us/step - loss: 0.5843 - acc: 0.7094 - val_loss: 0.6062 - val_acc: 0.7143\n",
      "Epoch 42/300\n",
      "554/554 [==============================] - 0s 220us/step - loss: 0.5497 - acc: 0.7094 - val_loss: 0.6180 - val_acc: 0.7347\n",
      "Epoch 43/300\n",
      "554/554 [==============================] - 0s 226us/step - loss: 0.5473 - acc: 0.7437 - val_loss: 0.5434 - val_acc: 0.7857\n",
      "Epoch 44/300\n",
      "554/554 [==============================] - 0s 238us/step - loss: 0.5887 - acc: 0.7058 - val_loss: 0.5204 - val_acc: 0.7755\n",
      "Epoch 45/300\n",
      "554/554 [==============================] - 0s 234us/step - loss: 0.5756 - acc: 0.7022 - val_loss: 0.5546 - val_acc: 0.7653\n",
      "Epoch 46/300\n",
      "554/554 [==============================] - 0s 277us/step - loss: 0.5321 - acc: 0.7365 - val_loss: 0.6147 - val_acc: 0.7449\n",
      "Epoch 47/300\n",
      "554/554 [==============================] - 0s 190us/step - loss: 0.5177 - acc: 0.7292 - val_loss: 0.5626 - val_acc: 0.7143\n",
      "Epoch 48/300\n",
      "554/554 [==============================] - 0s 177us/step - loss: 0.5363 - acc: 0.7202 - val_loss: 0.7170 - val_acc: 0.7143\n",
      "Epoch 49/300\n",
      "554/554 [==============================] - 0s 214us/step - loss: 0.5919 - acc: 0.7022 - val_loss: 0.5152 - val_acc: 0.7653\n",
      "Epoch 50/300\n",
      "554/554 [==============================] - 0s 258us/step - loss: 0.5434 - acc: 0.7292 - val_loss: 0.6297 - val_acc: 0.7143\n",
      "Epoch 51/300\n",
      "554/554 [==============================] - 0s 252us/step - loss: 0.5332 - acc: 0.7401 - val_loss: 0.5906 - val_acc: 0.7245\n",
      "Epoch 52/300\n",
      "554/554 [==============================] - 0s 190us/step - loss: 0.5242 - acc: 0.7329 - val_loss: 0.5199 - val_acc: 0.7857\n",
      "Epoch 53/300\n",
      "554/554 [==============================] - 0s 209us/step - loss: 0.5166 - acc: 0.7292 - val_loss: 0.5329 - val_acc: 0.7245\n",
      "Epoch 54/300\n",
      "554/554 [==============================] - 0s 232us/step - loss: 0.5293 - acc: 0.7274 - val_loss: 0.5590 - val_acc: 0.7143\n",
      "Epoch 55/300\n",
      "554/554 [==============================] - 0s 259us/step - loss: 0.5168 - acc: 0.7347 - val_loss: 0.5927 - val_acc: 0.6735\n",
      "Epoch 56/300\n",
      "554/554 [==============================] - 0s 202us/step - loss: 0.5340 - acc: 0.7130 - val_loss: 0.5449 - val_acc: 0.7653\n",
      "Epoch 57/300\n",
      "554/554 [==============================] - 0s 189us/step - loss: 0.5144 - acc: 0.7437 - val_loss: 0.5559 - val_acc: 0.7653\n",
      "Epoch 58/300\n",
      "554/554 [==============================] - 0s 187us/step - loss: 0.5247 - acc: 0.7329 - val_loss: 0.5476 - val_acc: 0.8061\n",
      "Epoch 59/300\n",
      "554/554 [==============================] - 0s 174us/step - loss: 0.5074 - acc: 0.7473 - val_loss: 0.5322 - val_acc: 0.7755\n",
      "Epoch 60/300\n",
      "554/554 [==============================] - 0s 172us/step - loss: 0.5134 - acc: 0.7365 - val_loss: 0.5754 - val_acc: 0.6939\n",
      "Epoch 61/300\n",
      "554/554 [==============================] - 0s 198us/step - loss: 0.5170 - acc: 0.7401 - val_loss: 0.5264 - val_acc: 0.7449\n",
      "Epoch 62/300\n",
      "554/554 [==============================] - 0s 216us/step - loss: 0.5221 - acc: 0.7401 - val_loss: 0.5638 - val_acc: 0.7347\n",
      "Epoch 63/300\n",
      "554/554 [==============================] - 0s 247us/step - loss: 0.5320 - acc: 0.7401 - val_loss: 0.5255 - val_acc: 0.7653\n",
      "Epoch 64/300\n",
      "554/554 [==============================] - 0s 193us/step - loss: 0.5292 - acc: 0.7455 - val_loss: 0.4995 - val_acc: 0.7755\n",
      "Epoch 65/300\n",
      "554/554 [==============================] - 0s 170us/step - loss: 0.5003 - acc: 0.7365 - val_loss: 0.5649 - val_acc: 0.7653\n",
      "Epoch 66/300\n",
      "554/554 [==============================] - 0s 178us/step - loss: 0.5195 - acc: 0.7274 - val_loss: 0.5275 - val_acc: 0.7449\n",
      "Epoch 67/300\n",
      "554/554 [==============================] - 0s 178us/step - loss: 0.5044 - acc: 0.7527 - val_loss: 0.5289 - val_acc: 0.7959\n",
      "Epoch 68/300\n",
      "554/554 [==============================] - 0s 175us/step - loss: 0.4926 - acc: 0.7437 - val_loss: 0.5879 - val_acc: 0.7449\n",
      "Epoch 69/300\n",
      "554/554 [==============================] - 0s 220us/step - loss: 0.5135 - acc: 0.7401 - val_loss: 0.5108 - val_acc: 0.7755\n",
      "Epoch 70/300\n",
      "554/554 [==============================] - 0s 233us/step - loss: 0.5153 - acc: 0.7509 - val_loss: 0.5231 - val_acc: 0.7857\n",
      "Epoch 71/300\n",
      "554/554 [==============================] - 0s 185us/step - loss: 0.4961 - acc: 0.7491 - val_loss: 0.5375 - val_acc: 0.7143\n",
      "Epoch 72/300\n",
      "554/554 [==============================] - 0s 171us/step - loss: 0.5078 - acc: 0.7455 - val_loss: 0.5112 - val_acc: 0.7449\n",
      "Epoch 73/300\n",
      "554/554 [==============================] - 0s 175us/step - loss: 0.4937 - acc: 0.7473 - val_loss: 0.5130 - val_acc: 0.7245\n",
      "Epoch 74/300\n",
      "554/554 [==============================] - 0s 170us/step - loss: 0.5112 - acc: 0.7545 - val_loss: 0.5640 - val_acc: 0.6939\n",
      "Epoch 75/300\n",
      "554/554 [==============================] - 0s 182us/step - loss: 0.5337 - acc: 0.7365 - val_loss: 0.5315 - val_acc: 0.7347\n",
      "Epoch 76/300\n",
      "554/554 [==============================] - 0s 171us/step - loss: 0.5408 - acc: 0.7347 - val_loss: 0.5063 - val_acc: 0.7755\n",
      "Epoch 77/300\n",
      "554/554 [==============================] - 0s 170us/step - loss: 0.5198 - acc: 0.7383 - val_loss: 0.5586 - val_acc: 0.7959\n",
      "Epoch 78/300\n",
      "554/554 [==============================] - 0s 183us/step - loss: 0.5098 - acc: 0.7347 - val_loss: 0.5316 - val_acc: 0.7041\n",
      "Epoch 79/300\n",
      "554/554 [==============================] - 0s 167us/step - loss: 0.4869 - acc: 0.7419 - val_loss: 0.5779 - val_acc: 0.7551\n",
      "Epoch 80/300\n",
      "554/554 [==============================] - 0s 164us/step - loss: 0.4811 - acc: 0.7527 - val_loss: 0.4919 - val_acc: 0.7653\n",
      "Epoch 81/300\n",
      "554/554 [==============================] - 0s 165us/step - loss: 0.4785 - acc: 0.7599 - val_loss: 0.5518 - val_acc: 0.7755\n",
      "Epoch 82/300\n",
      "554/554 [==============================] - 0s 167us/step - loss: 0.5338 - acc: 0.7347 - val_loss: 0.5682 - val_acc: 0.7143\n",
      "Epoch 83/300\n",
      "554/554 [==============================] - 0s 166us/step - loss: 0.5254 - acc: 0.7256 - val_loss: 0.5487 - val_acc: 0.7959\n",
      "Epoch 84/300\n",
      "554/554 [==============================] - 0s 163us/step - loss: 0.4848 - acc: 0.7617 - val_loss: 0.4959 - val_acc: 0.7755\n",
      "Epoch 85/300\n",
      "554/554 [==============================] - 0s 176us/step - loss: 0.4761 - acc: 0.7617 - val_loss: 0.4918 - val_acc: 0.7653\n",
      "Epoch 86/300\n",
      "554/554 [==============================] - 0s 173us/step - loss: 0.5065 - acc: 0.7419 - val_loss: 0.5700 - val_acc: 0.7449\n",
      "Epoch 87/300\n",
      "554/554 [==============================] - 0s 183us/step - loss: 0.5298 - acc: 0.7455 - val_loss: 0.5034 - val_acc: 0.7551\n",
      "Epoch 88/300\n",
      "554/554 [==============================] - 0s 187us/step - loss: 0.4926 - acc: 0.7401 - val_loss: 0.5930 - val_acc: 0.6837\n",
      "Epoch 89/300\n",
      "554/554 [==============================] - 0s 214us/step - loss: 0.4990 - acc: 0.7365 - val_loss: 0.5353 - val_acc: 0.7347\n",
      "Epoch 90/300\n",
      "554/554 [==============================] - 0s 184us/step - loss: 0.4820 - acc: 0.7581 - val_loss: 0.5058 - val_acc: 0.7143\n",
      "Epoch 91/300\n",
      "554/554 [==============================] - 0s 231us/step - loss: 0.4852 - acc: 0.7635 - val_loss: 0.5548 - val_acc: 0.7653\n",
      "Epoch 92/300\n",
      "554/554 [==============================] - 0s 183us/step - loss: 0.5028 - acc: 0.7419 - val_loss: 0.5068 - val_acc: 0.7857\n",
      "Epoch 93/300\n",
      "554/554 [==============================] - 0s 174us/step - loss: 0.5131 - acc: 0.7365 - val_loss: 0.5705 - val_acc: 0.7143\n",
      "Epoch 94/300\n",
      "554/554 [==============================] - 0s 190us/step - loss: 0.4820 - acc: 0.7635 - val_loss: 0.5023 - val_acc: 0.7551\n",
      "Epoch 95/300\n",
      "554/554 [==============================] - 0s 158us/step - loss: 0.4996 - acc: 0.7563 - val_loss: 0.5229 - val_acc: 0.7245\n",
      "Epoch 96/300\n",
      "554/554 [==============================] - 0s 191us/step - loss: 0.4827 - acc: 0.7690 - val_loss: 0.4869 - val_acc: 0.7755\n",
      "Epoch 97/300\n",
      "554/554 [==============================] - 0s 181us/step - loss: 0.4746 - acc: 0.7671 - val_loss: 0.5543 - val_acc: 0.7041\n",
      "Epoch 98/300\n",
      "554/554 [==============================] - 0s 175us/step - loss: 0.4945 - acc: 0.7635 - val_loss: 0.5049 - val_acc: 0.7755\n",
      "Epoch 99/300\n",
      "554/554 [==============================] - 0s 178us/step - loss: 0.4914 - acc: 0.7690 - val_loss: 0.5054 - val_acc: 0.7347\n",
      "Epoch 100/300\n",
      "554/554 [==============================] - 0s 177us/step - loss: 0.4875 - acc: 0.7653 - val_loss: 0.4925 - val_acc: 0.7653\n",
      "Epoch 101/300\n",
      "554/554 [==============================] - 0s 177us/step - loss: 0.4798 - acc: 0.7581 - val_loss: 0.5372 - val_acc: 0.7143\n",
      "Epoch 102/300\n",
      "554/554 [==============================] - 0s 173us/step - loss: 0.4910 - acc: 0.7690 - val_loss: 0.5825 - val_acc: 0.7041\n",
      "Epoch 103/300\n",
      "554/554 [==============================] - 0s 167us/step - loss: 0.4922 - acc: 0.7581 - val_loss: 0.4889 - val_acc: 0.7347\n",
      "Epoch 104/300\n",
      "554/554 [==============================] - 0s 207us/step - loss: 0.4915 - acc: 0.7545 - val_loss: 0.5120 - val_acc: 0.7347\n",
      "Epoch 105/300\n",
      "554/554 [==============================] - 0s 199us/step - loss: 0.4934 - acc: 0.7491 - val_loss: 0.5000 - val_acc: 0.7857\n",
      "Epoch 106/300\n",
      "554/554 [==============================] - 0s 210us/step - loss: 0.4908 - acc: 0.7599 - val_loss: 0.5396 - val_acc: 0.7755\n",
      "Epoch 107/300\n",
      "554/554 [==============================] - 0s 176us/step - loss: 0.5019 - acc: 0.7599 - val_loss: 0.5095 - val_acc: 0.7857\n",
      "Epoch 108/300\n",
      "554/554 [==============================] - 0s 200us/step - loss: 0.5002 - acc: 0.7509 - val_loss: 0.5156 - val_acc: 0.7245\n",
      "Epoch 109/300\n",
      "554/554 [==============================] - 0s 191us/step - loss: 0.5050 - acc: 0.7509 - val_loss: 0.5417 - val_acc: 0.7959\n",
      "Epoch 110/300\n",
      "554/554 [==============================] - 0s 193us/step - loss: 0.4717 - acc: 0.7762 - val_loss: 0.4799 - val_acc: 0.7449\n",
      "Epoch 111/300\n",
      "554/554 [==============================] - 0s 185us/step - loss: 0.5196 - acc: 0.7310 - val_loss: 0.5117 - val_acc: 0.7551\n",
      "Epoch 112/300\n",
      "554/554 [==============================] - 0s 187us/step - loss: 0.4642 - acc: 0.7708 - val_loss: 0.5113 - val_acc: 0.7449\n",
      "Epoch 113/300\n",
      "554/554 [==============================] - 0s 183us/step - loss: 0.4816 - acc: 0.7509 - val_loss: 0.5220 - val_acc: 0.7347\n",
      "Epoch 114/300\n",
      "554/554 [==============================] - 0s 178us/step - loss: 0.4681 - acc: 0.7545 - val_loss: 0.5364 - val_acc: 0.7857\n",
      "Epoch 115/300\n",
      "554/554 [==============================] - 0s 181us/step - loss: 0.4980 - acc: 0.7473 - val_loss: 0.5125 - val_acc: 0.7551\n",
      "Epoch 116/300\n",
      "554/554 [==============================] - 0s 179us/step - loss: 0.4909 - acc: 0.7599 - val_loss: 0.5072 - val_acc: 0.7653\n",
      "Epoch 117/300\n",
      "554/554 [==============================] - 0s 192us/step - loss: 0.4903 - acc: 0.7527 - val_loss: 0.5057 - val_acc: 0.7245\n",
      "Epoch 118/300\n",
      "554/554 [==============================] - 0s 173us/step - loss: 0.4780 - acc: 0.7671 - val_loss: 0.5608 - val_acc: 0.7449\n",
      "Epoch 119/300\n",
      "554/554 [==============================] - 0s 156us/step - loss: 0.4660 - acc: 0.7762 - val_loss: 0.5656 - val_acc: 0.7653\n",
      "Epoch 120/300\n",
      "554/554 [==============================] - 0s 167us/step - loss: 0.4752 - acc: 0.7671 - val_loss: 0.5017 - val_acc: 0.7755\n",
      "Epoch 121/300\n",
      "554/554 [==============================] - 0s 169us/step - loss: 0.4714 - acc: 0.7617 - val_loss: 0.4932 - val_acc: 0.7245\n",
      "Epoch 122/300\n",
      "554/554 [==============================] - 0s 292us/step - loss: 0.4827 - acc: 0.7581 - val_loss: 0.4964 - val_acc: 0.7347\n",
      "Epoch 123/300\n",
      "554/554 [==============================] - 0s 342us/step - loss: 0.4906 - acc: 0.7653 - val_loss: 0.5970 - val_acc: 0.6837\n",
      "Epoch 124/300\n",
      "554/554 [==============================] - 0s 241us/step - loss: 0.4638 - acc: 0.7671 - val_loss: 0.4906 - val_acc: 0.7551\n",
      "Epoch 125/300\n",
      "554/554 [==============================] - 0s 231us/step - loss: 0.4713 - acc: 0.7671 - val_loss: 0.6467 - val_acc: 0.6327\n",
      "Epoch 126/300\n",
      "554/554 [==============================] - 0s 201us/step - loss: 0.4662 - acc: 0.7599 - val_loss: 0.4851 - val_acc: 0.7245\n",
      "Epoch 127/300\n",
      "554/554 [==============================] - 0s 189us/step - loss: 0.4575 - acc: 0.7798 - val_loss: 0.5405 - val_acc: 0.7245\n",
      "Epoch 128/300\n",
      "554/554 [==============================] - 0s 225us/step - loss: 0.4832 - acc: 0.7563 - val_loss: 0.4942 - val_acc: 0.7245\n",
      "Epoch 129/300\n",
      "554/554 [==============================] - 0s 184us/step - loss: 0.4656 - acc: 0.7780 - val_loss: 0.5405 - val_acc: 0.7653\n",
      "Epoch 130/300\n",
      "554/554 [==============================] - 0s 230us/step - loss: 0.4847 - acc: 0.7473 - val_loss: 0.5504 - val_acc: 0.7347\n",
      "Epoch 131/300\n",
      "554/554 [==============================] - 0s 191us/step - loss: 0.4644 - acc: 0.7491 - val_loss: 0.5214 - val_acc: 0.7449\n",
      "Epoch 132/300\n",
      "554/554 [==============================] - 0s 186us/step - loss: 0.4832 - acc: 0.7762 - val_loss: 0.5346 - val_acc: 0.7653\n",
      "Epoch 133/300\n",
      "554/554 [==============================] - 0s 203us/step - loss: 0.4729 - acc: 0.7690 - val_loss: 0.5290 - val_acc: 0.7449\n",
      "Epoch 134/300\n",
      "554/554 [==============================] - 0s 276us/step - loss: 0.4628 - acc: 0.7653 - val_loss: 0.4803 - val_acc: 0.7449\n",
      "Epoch 135/300\n",
      "554/554 [==============================] - 0s 242us/step - loss: 0.4480 - acc: 0.7690 - val_loss: 0.5642 - val_acc: 0.7551\n",
      "Epoch 136/300\n",
      "554/554 [==============================] - 0s 193us/step - loss: 0.4624 - acc: 0.7816 - val_loss: 0.4939 - val_acc: 0.7347\n",
      "Epoch 137/300\n",
      "554/554 [==============================] - 0s 233us/step - loss: 0.4655 - acc: 0.7690 - val_loss: 0.4704 - val_acc: 0.7551\n",
      "Epoch 138/300\n",
      "554/554 [==============================] - 0s 178us/step - loss: 0.4662 - acc: 0.7744 - val_loss: 0.5092 - val_acc: 0.7755\n",
      "Epoch 139/300\n",
      "554/554 [==============================] - 0s 178us/step - loss: 0.4723 - acc: 0.7635 - val_loss: 0.4960 - val_acc: 0.7449\n",
      "Epoch 140/300\n",
      "554/554 [==============================] - 0s 181us/step - loss: 0.4609 - acc: 0.7653 - val_loss: 0.4944 - val_acc: 0.7245\n",
      "Epoch 141/300\n",
      "554/554 [==============================] - 0s 221us/step - loss: 0.4635 - acc: 0.7671 - val_loss: 0.4915 - val_acc: 0.7347\n",
      "Epoch 142/300\n",
      "554/554 [==============================] - 0s 250us/step - loss: 0.4654 - acc: 0.7780 - val_loss: 0.4859 - val_acc: 0.7449\n",
      "Epoch 143/300\n",
      "554/554 [==============================] - 0s 225us/step - loss: 0.5476 - acc: 0.7581 - val_loss: 0.5430 - val_acc: 0.7449\n",
      "Epoch 144/300\n",
      "554/554 [==============================] - 0s 177us/step - loss: 0.4595 - acc: 0.7870 - val_loss: 0.5208 - val_acc: 0.7449\n",
      "Epoch 145/300\n",
      "554/554 [==============================] - 0s 168us/step - loss: 0.4698 - acc: 0.7762 - val_loss: 0.5149 - val_acc: 0.7245\n",
      "Epoch 146/300\n",
      "554/554 [==============================] - 0s 180us/step - loss: 0.4692 - acc: 0.7708 - val_loss: 0.4955 - val_acc: 0.7245\n",
      "Epoch 147/300\n",
      "554/554 [==============================] - 0s 193us/step - loss: 0.4587 - acc: 0.7834 - val_loss: 0.4875 - val_acc: 0.7857\n",
      "Epoch 148/300\n",
      "554/554 [==============================] - 0s 214us/step - loss: 0.4524 - acc: 0.7581 - val_loss: 0.4863 - val_acc: 0.7449\n",
      "Epoch 149/300\n",
      "554/554 [==============================] - 0s 189us/step - loss: 0.4794 - acc: 0.7401 - val_loss: 0.4795 - val_acc: 0.7449\n",
      "Epoch 150/300\n",
      "554/554 [==============================] - 0s 182us/step - loss: 0.4552 - acc: 0.7762 - val_loss: 0.5316 - val_acc: 0.7755\n",
      "Epoch 151/300\n",
      "554/554 [==============================] - 0s 173us/step - loss: 0.4658 - acc: 0.7780 - val_loss: 0.5042 - val_acc: 0.7959\n",
      "Epoch 152/300\n",
      "554/554 [==============================] - 0s 162us/step - loss: 0.4870 - acc: 0.7563 - val_loss: 0.4862 - val_acc: 0.7449\n",
      "Epoch 153/300\n",
      "554/554 [==============================] - 0s 166us/step - loss: 0.4577 - acc: 0.7708 - val_loss: 0.4911 - val_acc: 0.7449\n",
      "Epoch 154/300\n",
      "554/554 [==============================] - 0s 179us/step - loss: 0.4463 - acc: 0.7924 - val_loss: 0.5714 - val_acc: 0.7245\n",
      "Epoch 155/300\n",
      "554/554 [==============================] - 0s 189us/step - loss: 0.4719 - acc: 0.7545 - val_loss: 0.5130 - val_acc: 0.7551\n",
      "Epoch 156/300\n",
      "554/554 [==============================] - 0s 193us/step - loss: 0.4575 - acc: 0.7780 - val_loss: 0.5325 - val_acc: 0.7551\n",
      "Epoch 157/300\n",
      "554/554 [==============================] - 0s 187us/step - loss: 0.4716 - acc: 0.7635 - val_loss: 0.5115 - val_acc: 0.7347\n",
      "Epoch 158/300\n",
      "554/554 [==============================] - 0s 191us/step - loss: 0.4692 - acc: 0.7762 - val_loss: 0.5041 - val_acc: 0.7449\n",
      "Epoch 159/300\n",
      "554/554 [==============================] - 0s 185us/step - loss: 0.4644 - acc: 0.7906 - val_loss: 0.6354 - val_acc: 0.6633\n",
      "Epoch 160/300\n",
      "554/554 [==============================] - 0s 195us/step - loss: 0.4956 - acc: 0.7563 - val_loss: 0.5029 - val_acc: 0.7959\n",
      "Epoch 161/300\n",
      "554/554 [==============================] - 0s 180us/step - loss: 0.4821 - acc: 0.7599 - val_loss: 0.5304 - val_acc: 0.7449\n",
      "Epoch 162/300\n",
      "554/554 [==============================] - 0s 215us/step - loss: 0.4643 - acc: 0.7671 - val_loss: 0.5093 - val_acc: 0.7245\n",
      "Epoch 163/300\n",
      "554/554 [==============================] - 0s 193us/step - loss: 0.4553 - acc: 0.7744 - val_loss: 0.5086 - val_acc: 0.7143\n",
      "Epoch 164/300\n",
      "554/554 [==============================] - 0s 191us/step - loss: 0.4541 - acc: 0.7726 - val_loss: 0.4905 - val_acc: 0.7347\n",
      "Epoch 165/300\n",
      "554/554 [==============================] - 0s 184us/step - loss: 0.4550 - acc: 0.7726 - val_loss: 0.5212 - val_acc: 0.7347\n",
      "Epoch 166/300\n",
      "554/554 [==============================] - 0s 171us/step - loss: 0.4608 - acc: 0.7635 - val_loss: 0.5388 - val_acc: 0.7653\n",
      "Epoch 167/300\n",
      "554/554 [==============================] - 0s 227us/step - loss: 0.4818 - acc: 0.7690 - val_loss: 0.4888 - val_acc: 0.7347\n",
      "Epoch 168/300\n",
      "554/554 [==============================] - 0s 191us/step - loss: 0.4642 - acc: 0.7671 - val_loss: 0.5498 - val_acc: 0.7143\n",
      "Epoch 169/300\n",
      "554/554 [==============================] - 0s 182us/step - loss: 0.4679 - acc: 0.7599 - val_loss: 0.4936 - val_acc: 0.7245\n",
      "Epoch 170/300\n",
      "554/554 [==============================] - 0s 183us/step - loss: 0.4555 - acc: 0.7780 - val_loss: 0.5736 - val_acc: 0.7143\n",
      "Epoch 171/300\n",
      "554/554 [==============================] - 0s 194us/step - loss: 0.4650 - acc: 0.7690 - val_loss: 0.4900 - val_acc: 0.7755\n",
      "Epoch 172/300\n",
      "554/554 [==============================] - 0s 174us/step - loss: 0.4445 - acc: 0.7816 - val_loss: 0.5178 - val_acc: 0.7347\n",
      "Epoch 173/300\n",
      "554/554 [==============================] - 0s 168us/step - loss: 0.4546 - acc: 0.7816 - val_loss: 0.4996 - val_acc: 0.7551\n",
      "Epoch 174/300\n",
      "554/554 [==============================] - 0s 178us/step - loss: 0.4464 - acc: 0.7780 - val_loss: 0.5357 - val_acc: 0.7347\n",
      "Epoch 175/300\n",
      "554/554 [==============================] - 0s 170us/step - loss: 0.4771 - acc: 0.7671 - val_loss: 0.5013 - val_acc: 0.7347\n",
      "Epoch 176/300\n",
      "554/554 [==============================] - 0s 173us/step - loss: 0.4376 - acc: 0.8105 - val_loss: 0.4855 - val_acc: 0.7347\n",
      "Epoch 177/300\n",
      "554/554 [==============================] - 0s 164us/step - loss: 0.4743 - acc: 0.7671 - val_loss: 0.4935 - val_acc: 0.7347\n",
      "Epoch 178/300\n",
      "554/554 [==============================] - 0s 174us/step - loss: 0.4572 - acc: 0.7671 - val_loss: 0.5541 - val_acc: 0.7143\n",
      "Epoch 179/300\n",
      "554/554 [==============================] - 0s 199us/step - loss: 0.4639 - acc: 0.7852 - val_loss: 0.5715 - val_acc: 0.6837\n",
      "Epoch 180/300\n",
      "554/554 [==============================] - 0s 201us/step - loss: 0.4828 - acc: 0.7726 - val_loss: 0.4833 - val_acc: 0.7347\n",
      "Epoch 181/300\n",
      "554/554 [==============================] - 0s 185us/step - loss: 0.4545 - acc: 0.7690 - val_loss: 0.5720 - val_acc: 0.7347\n",
      "Epoch 182/300\n",
      "554/554 [==============================] - 0s 180us/step - loss: 0.4548 - acc: 0.7942 - val_loss: 0.5150 - val_acc: 0.7551\n",
      "Epoch 183/300\n",
      "554/554 [==============================] - 0s 170us/step - loss: 0.4567 - acc: 0.7744 - val_loss: 0.5204 - val_acc: 0.7245\n",
      "Epoch 184/300\n",
      "554/554 [==============================] - 0s 190us/step - loss: 0.4518 - acc: 0.7653 - val_loss: 0.4802 - val_acc: 0.7449\n",
      "Epoch 185/300\n",
      "554/554 [==============================] - 0s 188us/step - loss: 0.4586 - acc: 0.7834 - val_loss: 0.4925 - val_acc: 0.7245\n",
      "Epoch 186/300\n",
      "554/554 [==============================] - 0s 194us/step - loss: 0.4483 - acc: 0.7780 - val_loss: 0.4966 - val_acc: 0.7551\n",
      "Epoch 187/300\n",
      "554/554 [==============================] - 0s 175us/step - loss: 0.4379 - acc: 0.7906 - val_loss: 0.4834 - val_acc: 0.7449\n",
      "Epoch 188/300\n",
      "554/554 [==============================] - 0s 211us/step - loss: 0.4610 - acc: 0.7780 - val_loss: 0.5399 - val_acc: 0.7347\n",
      "Epoch 189/300\n",
      "554/554 [==============================] - 0s 210us/step - loss: 0.4542 - acc: 0.7834 - val_loss: 0.5125 - val_acc: 0.7653\n",
      "Epoch 190/300\n",
      "554/554 [==============================] - 0s 182us/step - loss: 0.4518 - acc: 0.7978 - val_loss: 0.5064 - val_acc: 0.7347\n",
      "Epoch 191/300\n",
      "554/554 [==============================] - 0s 171us/step - loss: 0.4681 - acc: 0.7780 - val_loss: 0.4817 - val_acc: 0.7755\n",
      "Epoch 192/300\n",
      "554/554 [==============================] - 0s 166us/step - loss: 0.4512 - acc: 0.7690 - val_loss: 0.5290 - val_acc: 0.7449\n",
      "Epoch 193/300\n",
      "554/554 [==============================] - 0s 170us/step - loss: 0.4556 - acc: 0.7852 - val_loss: 0.5276 - val_acc: 0.7653\n",
      "Epoch 194/300\n",
      "554/554 [==============================] - 0s 174us/step - loss: 0.4471 - acc: 0.7780 - val_loss: 0.4644 - val_acc: 0.7857\n",
      "Epoch 195/300\n",
      "554/554 [==============================] - 0s 172us/step - loss: 0.4471 - acc: 0.7870 - val_loss: 0.5002 - val_acc: 0.7551\n",
      "Epoch 196/300\n",
      "554/554 [==============================] - 0s 171us/step - loss: 0.4395 - acc: 0.7780 - val_loss: 0.4986 - val_acc: 0.7653\n",
      "Epoch 197/300\n",
      "554/554 [==============================] - 0s 174us/step - loss: 0.4523 - acc: 0.7906 - val_loss: 0.4782 - val_acc: 0.7653\n",
      "Epoch 198/300\n",
      "554/554 [==============================] - 0s 186us/step - loss: 0.4486 - acc: 0.7906 - val_loss: 0.5829 - val_acc: 0.7143\n",
      "Epoch 199/300\n",
      "554/554 [==============================] - 0s 169us/step - loss: 0.4527 - acc: 0.7726 - val_loss: 0.5226 - val_acc: 0.7449\n",
      "Epoch 200/300\n",
      "554/554 [==============================] - 0s 187us/step - loss: 0.4378 - acc: 0.7870 - val_loss: 0.4867 - val_acc: 0.7551\n",
      "Epoch 201/300\n",
      "554/554 [==============================] - 0s 195us/step - loss: 0.4460 - acc: 0.7834 - val_loss: 0.5145 - val_acc: 0.7857\n",
      "Epoch 202/300\n",
      "554/554 [==============================] - 0s 189us/step - loss: 0.4519 - acc: 0.7798 - val_loss: 0.4963 - val_acc: 0.7755\n",
      "Epoch 203/300\n",
      "554/554 [==============================] - 0s 190us/step - loss: 0.4484 - acc: 0.7744 - val_loss: 0.5290 - val_acc: 0.7551\n",
      "Epoch 204/300\n",
      "554/554 [==============================] - 0s 177us/step - loss: 0.4442 - acc: 0.7798 - val_loss: 0.4950 - val_acc: 0.7245\n",
      "Epoch 205/300\n",
      "554/554 [==============================] - 0s 174us/step - loss: 0.4429 - acc: 0.7834 - val_loss: 0.4909 - val_acc: 0.7551\n",
      "Epoch 206/300\n",
      "554/554 [==============================] - 0s 182us/step - loss: 0.4370 - acc: 0.7834 - val_loss: 0.4845 - val_acc: 0.7347\n",
      "Epoch 207/300\n",
      "554/554 [==============================] - 0s 169us/step - loss: 0.4372 - acc: 0.7762 - val_loss: 0.4833 - val_acc: 0.7347\n",
      "Epoch 208/300\n",
      "554/554 [==============================] - 0s 181us/step - loss: 0.4562 - acc: 0.7708 - val_loss: 0.5741 - val_acc: 0.7245\n",
      "Epoch 209/300\n",
      "554/554 [==============================] - 0s 182us/step - loss: 0.4505 - acc: 0.7888 - val_loss: 0.4882 - val_acc: 0.7449\n",
      "Epoch 210/300\n",
      "554/554 [==============================] - 0s 173us/step - loss: 0.4647 - acc: 0.7834 - val_loss: 0.5324 - val_acc: 0.7449\n",
      "Epoch 211/300\n",
      "554/554 [==============================] - 0s 197us/step - loss: 0.4631 - acc: 0.7671 - val_loss: 0.5142 - val_acc: 0.7551\n",
      "Epoch 212/300\n",
      "554/554 [==============================] - 0s 202us/step - loss: 0.4245 - acc: 0.7888 - val_loss: 0.6272 - val_acc: 0.7041\n",
      "Epoch 213/300\n",
      "554/554 [==============================] - 0s 235us/step - loss: 0.4420 - acc: 0.7798 - val_loss: 0.5019 - val_acc: 0.7449\n",
      "Epoch 214/300\n",
      "554/554 [==============================] - 0s 197us/step - loss: 0.4575 - acc: 0.7671 - val_loss: 0.5294 - val_acc: 0.7347\n",
      "Epoch 215/300\n",
      "554/554 [==============================] - 0s 212us/step - loss: 0.5365 - acc: 0.7365 - val_loss: 0.4786 - val_acc: 0.7959\n",
      "Epoch 216/300\n",
      "554/554 [==============================] - 0s 192us/step - loss: 0.4601 - acc: 0.7708 - val_loss: 0.4624 - val_acc: 0.7449\n",
      "Epoch 217/300\n",
      "554/554 [==============================] - 0s 232us/step - loss: 0.4329 - acc: 0.7834 - val_loss: 0.4825 - val_acc: 0.7755\n",
      "Epoch 218/300\n",
      "554/554 [==============================] - 0s 225us/step - loss: 0.4489 - acc: 0.7744 - val_loss: 0.5250 - val_acc: 0.7449\n",
      "Epoch 219/300\n",
      "554/554 [==============================] - 0s 210us/step - loss: 0.4454 - acc: 0.7852 - val_loss: 0.4799 - val_acc: 0.7449\n",
      "Epoch 220/300\n",
      "554/554 [==============================] - 0s 211us/step - loss: 0.4306 - acc: 0.8014 - val_loss: 0.4803 - val_acc: 0.7449\n",
      "Epoch 221/300\n",
      "554/554 [==============================] - 0s 185us/step - loss: 0.4527 - acc: 0.7762 - val_loss: 0.5965 - val_acc: 0.7347\n",
      "Epoch 222/300\n",
      "554/554 [==============================] - 0s 186us/step - loss: 0.4532 - acc: 0.7708 - val_loss: 0.4648 - val_acc: 0.7449\n",
      "Epoch 223/300\n",
      "554/554 [==============================] - 0s 202us/step - loss: 0.4372 - acc: 0.7816 - val_loss: 0.4964 - val_acc: 0.7347\n",
      "Epoch 224/300\n",
      "554/554 [==============================] - 0s 178us/step - loss: 0.4409 - acc: 0.7852 - val_loss: 0.4747 - val_acc: 0.7449\n",
      "Epoch 225/300\n",
      "554/554 [==============================] - 0s 175us/step - loss: 0.4466 - acc: 0.7798 - val_loss: 0.4678 - val_acc: 0.7857\n",
      "Epoch 226/300\n",
      "554/554 [==============================] - 0s 194us/step - loss: 0.4519 - acc: 0.7780 - val_loss: 0.5980 - val_acc: 0.7143\n",
      "Epoch 227/300\n",
      "554/554 [==============================] - 0s 198us/step - loss: 0.4740 - acc: 0.7744 - val_loss: 0.4768 - val_acc: 0.7347\n",
      "Epoch 228/300\n",
      "554/554 [==============================] - 0s 186us/step - loss: 0.4698 - acc: 0.7816 - val_loss: 0.5281 - val_acc: 0.7449\n",
      "Epoch 229/300\n",
      "554/554 [==============================] - 0s 220us/step - loss: 0.4379 - acc: 0.7942 - val_loss: 0.5585 - val_acc: 0.7143\n",
      "Epoch 230/300\n",
      "554/554 [==============================] - 0s 176us/step - loss: 0.4374 - acc: 0.7996 - val_loss: 0.5084 - val_acc: 0.7653\n",
      "Epoch 231/300\n",
      "554/554 [==============================] - 0s 206us/step - loss: 0.4625 - acc: 0.7816 - val_loss: 0.4706 - val_acc: 0.7347\n",
      "Epoch 232/300\n",
      "554/554 [==============================] - 0s 182us/step - loss: 0.4343 - acc: 0.7834 - val_loss: 0.4825 - val_acc: 0.7449\n",
      "Epoch 233/300\n",
      "554/554 [==============================] - 0s 177us/step - loss: 0.4314 - acc: 0.7960 - val_loss: 0.4854 - val_acc: 0.7449\n",
      "Epoch 234/300\n",
      "554/554 [==============================] - 0s 168us/step - loss: 0.4204 - acc: 0.8014 - val_loss: 0.4789 - val_acc: 0.7245\n",
      "Epoch 235/300\n",
      "554/554 [==============================] - 0s 181us/step - loss: 0.4440 - acc: 0.7870 - val_loss: 0.4757 - val_acc: 0.7449\n",
      "Epoch 236/300\n",
      "554/554 [==============================] - 0s 220us/step - loss: 0.4467 - acc: 0.7888 - val_loss: 0.4886 - val_acc: 0.7245\n",
      "Epoch 237/300\n",
      "554/554 [==============================] - 0s 184us/step - loss: 0.4786 - acc: 0.7635 - val_loss: 0.5358 - val_acc: 0.7449\n",
      "Epoch 238/300\n",
      "554/554 [==============================] - 0s 173us/step - loss: 0.4206 - acc: 0.7870 - val_loss: 0.5254 - val_acc: 0.7551\n",
      "Epoch 239/300\n",
      "554/554 [==============================] - 0s 179us/step - loss: 0.4507 - acc: 0.7870 - val_loss: 0.5079 - val_acc: 0.7755\n",
      "Epoch 240/300\n",
      "554/554 [==============================] - 0s 182us/step - loss: 0.4350 - acc: 0.7870 - val_loss: 0.5598 - val_acc: 0.7551\n",
      "Epoch 241/300\n",
      "554/554 [==============================] - 0s 187us/step - loss: 0.4399 - acc: 0.7798 - val_loss: 0.5014 - val_acc: 0.7551\n",
      "Epoch 242/300\n",
      "554/554 [==============================] - 0s 170us/step - loss: 0.4348 - acc: 0.7924 - val_loss: 0.4809 - val_acc: 0.7449\n",
      "Epoch 243/300\n",
      "554/554 [==============================] - 0s 180us/step - loss: 0.4256 - acc: 0.7906 - val_loss: 0.4619 - val_acc: 0.7449\n",
      "Epoch 244/300\n",
      "554/554 [==============================] - 0s 166us/step - loss: 0.4299 - acc: 0.7816 - val_loss: 0.4738 - val_acc: 0.7143\n",
      "Epoch 245/300\n",
      "554/554 [==============================] - 0s 249us/step - loss: 0.4305 - acc: 0.7888 - val_loss: 0.4971 - val_acc: 0.7857\n",
      "Epoch 246/300\n",
      "554/554 [==============================] - 0s 214us/step - loss: 0.4480 - acc: 0.7726 - val_loss: 0.4569 - val_acc: 0.7449\n",
      "Epoch 247/300\n",
      "554/554 [==============================] - 0s 187us/step - loss: 0.4578 - acc: 0.7906 - val_loss: 0.4975 - val_acc: 0.7755\n",
      "Epoch 248/300\n",
      "554/554 [==============================] - 0s 185us/step - loss: 0.4284 - acc: 0.7816 - val_loss: 0.4510 - val_acc: 0.7653\n",
      "Epoch 249/300\n",
      "554/554 [==============================] - 0s 172us/step - loss: 0.4375 - acc: 0.7870 - val_loss: 0.4876 - val_acc: 0.7449\n",
      "Epoch 250/300\n",
      "554/554 [==============================] - 0s 181us/step - loss: 0.4324 - acc: 0.7888 - val_loss: 0.4566 - val_acc: 0.7347\n",
      "Epoch 251/300\n",
      "554/554 [==============================] - 0s 174us/step - loss: 0.4447 - acc: 0.7780 - val_loss: 0.4836 - val_acc: 0.7347\n",
      "Epoch 252/300\n",
      "554/554 [==============================] - 0s 175us/step - loss: 0.4522 - acc: 0.7744 - val_loss: 0.5414 - val_acc: 0.7449\n",
      "Epoch 253/300\n",
      "554/554 [==============================] - 0s 173us/step - loss: 0.4368 - acc: 0.7834 - val_loss: 0.4960 - val_acc: 0.7857\n",
      "Epoch 254/300\n",
      "554/554 [==============================] - 0s 191us/step - loss: 0.4230 - acc: 0.7888 - val_loss: 0.5220 - val_acc: 0.7857\n",
      "Epoch 255/300\n",
      "554/554 [==============================] - 0s 164us/step - loss: 0.4229 - acc: 0.7924 - val_loss: 0.5062 - val_acc: 0.7755\n",
      "Epoch 256/300\n",
      "554/554 [==============================] - 0s 184us/step - loss: 0.4336 - acc: 0.7942 - val_loss: 0.5472 - val_acc: 0.7449\n",
      "Epoch 257/300\n",
      "554/554 [==============================] - 0s 170us/step - loss: 0.4574 - acc: 0.7960 - val_loss: 0.4974 - val_acc: 0.7551\n",
      "Epoch 258/300\n",
      "554/554 [==============================] - 0s 183us/step - loss: 0.4382 - acc: 0.7942 - val_loss: 0.5278 - val_acc: 0.7347\n",
      "Epoch 259/300\n",
      "554/554 [==============================] - 0s 193us/step - loss: 0.4355 - acc: 0.7780 - val_loss: 0.4791 - val_acc: 0.7653\n",
      "Epoch 260/300\n",
      "554/554 [==============================] - 0s 193us/step - loss: 0.4185 - acc: 0.7942 - val_loss: 0.4597 - val_acc: 0.7449\n",
      "Epoch 261/300\n",
      "554/554 [==============================] - 0s 180us/step - loss: 0.4517 - acc: 0.7780 - val_loss: 0.5348 - val_acc: 0.7959\n",
      "Epoch 262/300\n",
      "554/554 [==============================] - 0s 176us/step - loss: 0.4476 - acc: 0.7671 - val_loss: 0.4685 - val_acc: 0.7551\n",
      "Epoch 263/300\n",
      "554/554 [==============================] - 0s 189us/step - loss: 0.4265 - acc: 0.7996 - val_loss: 0.5372 - val_acc: 0.7245\n",
      "Epoch 264/300\n",
      "554/554 [==============================] - 0s 199us/step - loss: 0.4660 - acc: 0.7762 - val_loss: 0.4614 - val_acc: 0.7755\n",
      "Epoch 265/300\n",
      "554/554 [==============================] - 0s 220us/step - loss: 0.4321 - acc: 0.7924 - val_loss: 0.4911 - val_acc: 0.7041\n",
      "Epoch 266/300\n",
      "554/554 [==============================] - 0s 197us/step - loss: 0.4401 - acc: 0.7960 - val_loss: 0.4791 - val_acc: 0.7347\n",
      "Epoch 267/300\n",
      "554/554 [==============================] - 0s 186us/step - loss: 0.4318 - acc: 0.7942 - val_loss: 0.4685 - val_acc: 0.7245\n",
      "Epoch 268/300\n",
      "554/554 [==============================] - 0s 172us/step - loss: 0.4329 - acc: 0.7924 - val_loss: 0.4631 - val_acc: 0.7347\n",
      "Epoch 269/300\n",
      "554/554 [==============================] - 0s 214us/step - loss: 0.4236 - acc: 0.7978 - val_loss: 0.5054 - val_acc: 0.7347\n",
      "Epoch 270/300\n",
      "554/554 [==============================] - 0s 206us/step - loss: 0.4415 - acc: 0.8032 - val_loss: 0.4748 - val_acc: 0.7347\n",
      "Epoch 271/300\n",
      "554/554 [==============================] - 0s 181us/step - loss: 0.4330 - acc: 0.7870 - val_loss: 0.4587 - val_acc: 0.7449\n",
      "Epoch 272/300\n",
      "554/554 [==============================] - 0s 199us/step - loss: 0.4469 - acc: 0.7816 - val_loss: 0.4615 - val_acc: 0.7449\n",
      "Epoch 273/300\n",
      "554/554 [==============================] - 0s 202us/step - loss: 0.4472 - acc: 0.7924 - val_loss: 0.4708 - val_acc: 0.7653\n",
      "Epoch 274/300\n",
      "554/554 [==============================] - 0s 164us/step - loss: 0.4226 - acc: 0.7852 - val_loss: 0.4745 - val_acc: 0.7449\n",
      "Epoch 275/300\n",
      "554/554 [==============================] - 0s 166us/step - loss: 0.4353 - acc: 0.7888 - val_loss: 0.5380 - val_acc: 0.7245\n",
      "Epoch 276/300\n",
      "554/554 [==============================] - 0s 168us/step - loss: 0.4337 - acc: 0.7888 - val_loss: 0.4780 - val_acc: 0.7551\n",
      "Epoch 277/300\n",
      "554/554 [==============================] - 0s 159us/step - loss: 0.4353 - acc: 0.7888 - val_loss: 0.4635 - val_acc: 0.7449\n",
      "Epoch 278/300\n",
      "554/554 [==============================] - 0s 170us/step - loss: 0.4284 - acc: 0.7924 - val_loss: 0.5595 - val_acc: 0.7143\n",
      "Epoch 279/300\n",
      "554/554 [==============================] - 0s 173us/step - loss: 0.4463 - acc: 0.7888 - val_loss: 0.5289 - val_acc: 0.7755\n",
      "Epoch 280/300\n",
      "554/554 [==============================] - 0s 163us/step - loss: 0.4461 - acc: 0.7978 - val_loss: 0.4754 - val_acc: 0.7449\n",
      "Epoch 281/300\n",
      "554/554 [==============================] - 0s 181us/step - loss: 0.4319 - acc: 0.7960 - val_loss: 0.4745 - val_acc: 0.7449\n",
      "Epoch 282/300\n",
      "554/554 [==============================] - 0s 169us/step - loss: 0.4424 - acc: 0.7960 - val_loss: 0.4985 - val_acc: 0.7245\n",
      "Epoch 283/300\n",
      "554/554 [==============================] - 0s 171us/step - loss: 0.4458 - acc: 0.7834 - val_loss: 0.4876 - val_acc: 0.7449\n",
      "Epoch 284/300\n",
      "554/554 [==============================] - 0s 175us/step - loss: 0.4220 - acc: 0.7942 - val_loss: 0.5059 - val_acc: 0.7755\n",
      "Epoch 285/300\n",
      "554/554 [==============================] - 0s 164us/step - loss: 0.4562 - acc: 0.7744 - val_loss: 0.5026 - val_acc: 0.7755\n",
      "Epoch 286/300\n",
      "554/554 [==============================] - 0s 173us/step - loss: 0.4286 - acc: 0.7906 - val_loss: 0.4921 - val_acc: 0.7653\n",
      "Epoch 287/300\n",
      "554/554 [==============================] - 0s 169us/step - loss: 0.4430 - acc: 0.7888 - val_loss: 0.4964 - val_acc: 0.7245\n",
      "Epoch 288/300\n",
      "554/554 [==============================] - 0s 171us/step - loss: 0.4258 - acc: 0.7924 - val_loss: 0.4493 - val_acc: 0.7551\n",
      "Epoch 289/300\n",
      "554/554 [==============================] - 0s 169us/step - loss: 0.4293 - acc: 0.7924 - val_loss: 0.4732 - val_acc: 0.7449\n",
      "Epoch 290/300\n",
      "554/554 [==============================] - 0s 175us/step - loss: 0.4433 - acc: 0.7834 - val_loss: 0.6187 - val_acc: 0.6939\n",
      "Epoch 291/300\n",
      "554/554 [==============================] - 0s 162us/step - loss: 0.4301 - acc: 0.8032 - val_loss: 0.4934 - val_acc: 0.7551\n",
      "Epoch 292/300\n",
      "554/554 [==============================] - 0s 164us/step - loss: 0.4493 - acc: 0.7816 - val_loss: 0.5470 - val_acc: 0.7347\n",
      "Epoch 293/300\n",
      "554/554 [==============================] - 0s 164us/step - loss: 0.4404 - acc: 0.7816 - val_loss: 0.4880 - val_acc: 0.7959\n",
      "Epoch 294/300\n",
      "554/554 [==============================] - 0s 194us/step - loss: 0.4320 - acc: 0.8069 - val_loss: 0.5706 - val_acc: 0.7245\n",
      "Epoch 295/300\n",
      "554/554 [==============================] - 0s 187us/step - loss: 0.4428 - acc: 0.7834 - val_loss: 0.5047 - val_acc: 0.7347\n",
      "Epoch 296/300\n",
      "554/554 [==============================] - 0s 168us/step - loss: 0.4264 - acc: 0.7906 - val_loss: 0.4817 - val_acc: 0.7653\n",
      "Epoch 297/300\n",
      "554/554 [==============================] - 0s 160us/step - loss: 0.4246 - acc: 0.7960 - val_loss: 0.4959 - val_acc: 0.7347\n",
      "Epoch 298/300\n",
      "554/554 [==============================] - 0s 165us/step - loss: 0.4328 - acc: 0.7996 - val_loss: 0.4672 - val_acc: 0.7449\n",
      "Epoch 299/300\n",
      "554/554 [==============================] - 0s 165us/step - loss: 0.4324 - acc: 0.7762 - val_loss: 0.5101 - val_acc: 0.7653\n",
      "Epoch 300/300\n",
      "554/554 [==============================] - 0s 167us/step - loss: 0.4154 - acc: 0.7960 - val_loss: 0.4510 - val_acc: 0.7449\n"
     ]
    }
   ],
   "source": [
    "# Fit the model\n",
    "# Use 15% for Validation\n",
    "# Train for 300 epochs\n",
    "# User batch size = 10\n",
    "# Save the model fitting into the variable history\n",
    "# TODO\n",
    "\n",
    "history = model.fit(X_train, y_train, batch_size=10, epochs=300, validation_split=0.15)"
   ]
  },
  {
   "cell_type": "code",
   "execution_count": 16,
   "metadata": {
    "collapsed": true
   },
   "outputs": [
    {
     "name": "stdout",
     "output_type": "stream",
     "text": [
      "dict_keys(['val_loss', 'val_acc', 'loss', 'acc'])\n"
     ]
    }
   ],
   "source": [
    "# list all data in history\n",
    "print(history.history.keys())"
   ]
  },
  {
   "cell_type": "code",
   "execution_count": 17,
   "metadata": {
    "collapsed": true
   },
   "outputs": [
    {
     "data": {
      "text/plain": [
       "<matplotlib.legend.Legend at 0x1a2b7f5208>"
      ]
     },
     "execution_count": 17,
     "metadata": {},
     "output_type": "execute_result"
    },
    {
     "data": {
      "image/png": "[encoded data removed]",
      "text/plain": [
       "<Figure size 648x504 with 1 Axes>"
      ]
     },
     "metadata": {},
     "output_type": "display_data"
    }
   ],
   "source": [
    "# Plot the History of Training Loss (history.history['loss']) and the Validation Loss (history.history['val_loss'])\n",
    "# Title should be \"Model Loss\"\n",
    "# x label: \"Loss\"\n",
    "# y label: \"Epoch\"\n",
    "# Legend: \"Train\" and \"Validation\"\n",
    "# TODO\n",
    "\n",
    "\n",
    "sns.set_style('darkgrid')\n",
    "\n",
    "plt.figure(figsize=(9,7))\n",
    "\n",
    "plt.plot(history.history['loss'])\n",
    "plt.plot(history.history['val_loss'])\n",
    "\n",
    "plt.title('Model Loss')\n",
    "plt.xlabel('Loss')\n",
    "plt.ylabel('Epoch')\n",
    "plt.legend(['Train', 'Test'])"
   ]
  },
  {
   "cell_type": "code",
   "execution_count": 18,
   "metadata": {
    "collapsed": true
   },
   "outputs": [
    {
     "data": {
      "text/plain": [
       "<matplotlib.legend.Legend at 0x1a2b8e5860>"
      ]
     },
     "execution_count": 18,
     "metadata": {},
     "output_type": "execute_result"
    },
    {
     "data": {
      "image/png": "[encoded data removed]",
      "text/plain": [
       "<Figure size 648x504 with 1 Axes>"
      ]
     },
     "metadata": {},
     "output_type": "display_data"
    }
   ],
   "source": [
    "# Plot the History of Training Accuracy (history.history['acc']) and \n",
    "# the Validation Accuracy (history.history['val_acc'])\n",
    "#\n",
    "# Title should be \"Model Accuracy\"\n",
    "# x label: \"Accuracy\"\n",
    "# y label: \"Epoch\"\n",
    "# Legend: \"Train\" and \"Validation\"\n",
    "# TODO\n",
    "\n",
    "\n",
    "\n",
    "sns.set_style('darkgrid')\n",
    "\n",
    "plt.figure(figsize=(9,7))\n",
    "\n",
    "plt.plot(history.history['acc'])\n",
    "plt.plot(history.history['val_acc'])\n",
    "\n",
    "plt.title('Model Accuracy')\n",
    "plt.xlabel('Accuracy')\n",
    "plt.ylabel('Epoch')\n",
    "plt.legend(['Train', 'Test'])"
   ]
  },
  {
   "cell_type": "code",
   "execution_count": null,
   "metadata": {
    "collapsed": true
   },
   "outputs": [],
   "source": [
    "# Evaluate the loss and accuracy on the test data\n",
    "loss, accuracy = model.evaluate(X_test, y_test, )"
   ]
  },
  {
   "cell_type": "code",
   "execution_count": null,
   "metadata": {
    "collapsed": true
   },
   "outputs": [],
   "source": [
    "print('Test score:', loss)\n",
    "print('Test accuracy:', accuracy)"
   ]
  }
 ],
 "metadata": {
  "kernelspec": {
   "display_name": "Python 3",
   "language": "python",
   "name": "python3"
  },
  "language_info": {
   "codemirror_mode": {
    "name": "ipython",
    "version": 3
   },
   "file_extension": ".py",
   "mimetype": "text/x-python",
   "name": "python",
   "nbconvert_exporter": "python",
   "pygments_lexer": "ipython3",
   "version": "3.7.0"
  },
  "varInspector": {
   "cols": {
    "lenName": 16,
    "lenType": 16,
    "lenVar": 40
   },
   "kernels_config": {
    "python": {
     "delete_cmd_postfix": "",
     "delete_cmd_prefix": "del ",
     "library": "var_list.py",
     "varRefreshCmd": "print(var_dic_list())"
    },
    "r": {
     "delete_cmd_postfix": ") ",
     "delete_cmd_prefix": "rm(",
     "library": "var_list.r",
     "varRefreshCmd": "cat(var_dic_list()) "
    }
   },
   "types_to_exclude": [
    "module",
    "function",
    "builtin_function_or_method",
    "instance",
    "_Feature"
   ],
   "window_display": false
  }
 },
 "nbformat": 4,
 "nbformat_minor": 2
}
