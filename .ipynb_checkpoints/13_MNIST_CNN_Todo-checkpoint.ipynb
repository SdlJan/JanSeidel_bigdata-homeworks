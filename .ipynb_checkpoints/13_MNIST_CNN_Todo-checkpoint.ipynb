{
 "cells": [
  {
   "cell_type": "markdown",
   "metadata": {
    "colab_type": "text",
    "id": "5uySOSqQcSSw"
   },
   "source": [
    "# MNIST with CNN"
   ]
  },
  {
   "cell_type": "code",
   "execution_count": null,
   "metadata": {
    "colab": {},
    "colab_type": "code",
    "id": "tPpSE3fgZazy"
   },
   "outputs": [],
   "source": [
    "%matplotlib inline\n",
    "import matplotlib.pyplot as plt\n",
    "import numpy as np\n",
    "import keras\n",
    "from keras.datasets import mnist\n",
    "from keras.models import Sequential\n",
    "from keras.layers import Dense, Dropout, Flatten, Conv2D, MaxPooling2D"
   ]
  },
  {
   "cell_type": "code",
   "execution_count": null,
   "metadata": {
    "colab": {},
    "colab_type": "code",
    "id": "cThfuu0cs3K1"
   },
   "outputs": [],
   "source": [
    "# input image dimensions\n",
    "img_rows, img_cols = 28, 28\n",
    "input_shape = (img_rows, img_cols, 1)\n",
    "num_classes = 10"
   ]
  },
  {
   "cell_type": "code",
   "execution_count": null,
   "metadata": {
    "colab": {},
    "colab_type": "code",
    "id": "tKf-qrBEZj_Z"
   },
   "outputs": [],
   "source": [
    "# the data, shuffled and split between train and test sets\n",
    "(x_train, y_train), (x_test, y_test) = mnist.load_data()"
   ]
  },
  {
   "cell_type": "code",
   "execution_count": null,
   "metadata": {
    "colab": {
     "base_uri": "https://localhost:8080/",
     "height": 34
    },
    "colab_type": "code",
    "id": "-vUwF8uKsJ3a",
    "outputId": "9d094dc5-671a-4b91-915b-ced68bca88cf"
   },
   "outputs": [],
   "source": [
    "print('x_train shape:', x_train.shape)"
   ]
  },
  {
   "cell_type": "code",
   "execution_count": null,
   "metadata": {
    "colab": {
     "base_uri": "https://localhost:8080/",
     "height": 1476
    },
    "colab_type": "code",
    "id": "nL65o8Ejvepy",
    "outputId": "941f7b92-fae3-430d-9854-9f85b1fd9f35"
   },
   "outputs": [],
   "source": [
    "# The color is encoded as a number from 0 to 255\n",
    "x_train[0]"
   ]
  },
  {
   "cell_type": "code",
   "execution_count": null,
   "metadata": {
    "colab": {
     "base_uri": "https://localhost:8080/",
     "height": 34
    },
    "colab_type": "code",
    "id": "xtCd3vKFZ2Ej",
    "outputId": "e3b20531-280e-4250-a88c-3663dc385bb1"
   },
   "outputs": [],
   "source": [
    "# Keras wants the picture not in a 3D tensor but in a 4D tensor\n",
    "# first dimension is the different pictures\n",
    "# second and third dimensions are the 28x28 x and y axis of the picture\n",
    "# fourth dimension: Color channel (we only have one color (grey))\n",
    "# reshape train and test data to 4D tensor\n",
    "x_train = x_train.reshape(x_train.shape[0], img_rows, img_cols, 1)\n",
    "x_test = x_test.reshape(x_test.shape[0], img_rows, img_cols, 1)\n",
    "print('x_train shape:', x_train.shape)"
   ]
  },
  {
   "cell_type": "code",
   "execution_count": null,
   "metadata": {
    "colab": {
     "base_uri": "https://localhost:8080/",
     "height": 52
    },
    "colab_type": "code",
    "id": "sOprR4sDsdrN",
    "outputId": "97f6cd5f-0417-43ce-ce20-d59b0649db51"
   },
   "outputs": [],
   "source": [
    "# gray scale is encodes an integer between 0 to 255\n",
    "# the neural network needs at as a float\n",
    "x_train = x_train.astype('float32')\n",
    "x_test = x_test.astype('float32')\n",
    "# We rescale the tensor so that the numbers are between 0 and 1\n",
    "x_train /= 255\n",
    "x_test /= 255\n",
    "print(x_train.shape[0], 'train samples')\n",
    "print(x_test.shape[0], 'test samples')"
   ]
  },
  {
   "cell_type": "code",
   "execution_count": null,
   "metadata": {
    "colab": {
     "base_uri": "https://localhost:8080/",
     "height": 304
    },
    "colab_type": "code",
    "id": "0_g0Oo9GaPiH",
    "outputId": "440a715a-09e0-4b20-ba84-2e0090acc009"
   },
   "outputs": [],
   "source": [
    "# Let us us look at an example\n",
    "img_index = 20\n",
    "print(\"true class:\", y_train[img_index])\n",
    "plt.imshow(np.reshape(x_train[img_index],(28,28)),cmap='gray')"
   ]
  },
  {
   "cell_type": "code",
   "execution_count": null,
   "metadata": {
    "colab": {},
    "colab_type": "code",
    "id": "PqlRN8ZfbDR7"
   },
   "outputs": [],
   "source": [
    "# convert class vectors to one-hot endoded binary class matrices\n",
    "\n",
    "y_train = keras.utils.to_categorical(y_train, num_classes)\n",
    "y_test = keras.utils.to_categorical(y_test, num_classes)"
   ]
  },
  {
   "cell_type": "code",
   "execution_count": null,
   "metadata": {
    "colab": {
     "base_uri": "https://localhost:8080/",
     "height": 304
    },
    "colab_type": "code",
    "id": "uaKWDbEucJm6",
    "outputId": "506c7345-01f0-4eaa-9d14-070397b09b86"
   },
   "outputs": [],
   "source": [
    "# Show the image 20 with the true class\n",
    "img_index = 20\n",
    "print(\"true class:\", y_train[img_index])\n",
    "plt.imshow(np.reshape(x_train[img_index],(28,28)),cmap='gray')"
   ]
  },
  {
   "cell_type": "code",
   "execution_count": null,
   "metadata": {
    "colab": {
     "base_uri": "https://localhost:8080/",
     "height": 141
    },
    "colab_type": "code",
    "id": "bC1g4auJbD7u",
    "outputId": "3946bf95-d7ab-4c7d-9101-8ad493639ece"
   },
   "outputs": [],
   "source": [
    "# Create a Sequential Model\n",
    "# Add a Convolutional Layer with the 32 Kernels, each with the size 3x3, user Relu as the activation function, and define the input shape\n",
    "# Add another Convolutional Layer with the 64 Kernels, each with the size 3x3, user Relu as the activation function\n",
    "# Add a Max Pooling Layer with pool size of 2x2\n",
    "# Add then a Dropout of 25%\n",
    "# Add then a Flatten Operator to get a one dimensional vector\n",
    "# Add a dense layer with 128 node and Relu activation\n",
    "# Add then a Dropout of 50%\n",
    "# Finally add a dense layer for the output. Think about the number of nodes and the activation function you need --> 10 because we have 10 digits and softmax\n",
    "model = Sequential()\n",
    "model.add(Conv2D(32, kernel_size = (3,3), activation = 'relu', input_shape = input_shape))\n",
    "model.add(Conv2D(64, kernel_size = (3,3), activation = 'relu'))\n",
    "model.add(MaxPooling2D(pool_size = (2, 2)))\n",
    "model.add(Dropout(0.25))\n",
    "model.add(Flatten())\n",
    "model.add(Dense(128, activation = 'relu'))\n",
    "model.add(Dropout(0.5))\n",
    "model.add(Dense(num_classes, activation = 'softmax')) "
   ]
  },
  {
   "cell_type": "code",
   "execution_count": null,
   "metadata": {
    "colab": {},
    "colab_type": "code",
    "id": "JFj5b-akbRpn"
   },
   "outputs": [],
   "source": [
    "# Compile the model\n",
    "# Think about the appropiate loss function\n",
    "# Use as the Optimizer Adadelta\n",
    "# Add as another metric Accuracy\n",
    "# TODO\n",
    "\n",
    "model.compile(loss = keras.losses.categorical_crossentropy, optimizer = keras.optimizers.Adadelta(), metrics = ['accuracy'])\n"
   ]
  },
  {
   "cell_type": "code",
   "execution_count": null,
   "metadata": {
    "colab": {
     "base_uri": "https://localhost:8080/",
     "height": 523
    },
    "colab_type": "code",
    "id": "g8sU7Wz9bGwn",
    "outputId": "71a24cd9-4b7a-4e1c-8860-1925f9eda3e7"
   },
   "outputs": [],
   "source": [
    "# Fit the model\n",
    "# save the learning history in a variable history\n",
    "# use batch size 128, and 12 epochs\n",
    "# TODO\n",
    "\n",
    "history = model.fit(x_train, y_train, batch_size = 128, epochs = 12, validation_data = (x_test, y_test))"
   ]
  },
  {
   "cell_type": "code",
   "execution_count": null,
   "metadata": {
    "colab": {
     "base_uri": "https://localhost:8080/",
     "height": 52
    },
    "colab_type": "code",
    "id": "30TFyx8BbUmA",
    "outputId": "fa2b18a2-67d8-4e8d-be52-c9d0c3aff095"
   },
   "outputs": [],
   "source": [
    "# Test the model based on the test data\n",
    "# Print the Test loss and the test accuracy\n",
    "# TODO\n",
    "score = model.evaluate(x_test, y_test)\n",
    "print('Test Loss:', score[0])\n",
    "print('Test Accuracy:', score[1])\n",
    "\n",
    "print(history.history.keys())"
   ]
  },
  {
   "cell_type": "code",
   "execution_count": null,
   "metadata": {
    "colab": {
     "base_uri": "https://localhost:8080/",
     "height": 283
    },
    "colab_type": "code",
    "id": "9E84NcCxbYY6",
    "outputId": "80eba6fb-689b-4c04-ceaf-d312adf78095"
   },
   "outputs": [],
   "source": [
    "# Create a plot to show Training and Validation Accuracy\n",
    "# TODO\n",
    "plt.plot(history.history['acc'])\n",
    "plt.plot(history.history['val_acc'])\n",
    "plt.title('Training and Validation Accuracy')\n",
    "plt.ylabel('Loss')\n",
    "plt.xlabel('Epoch')\n",
    "plt.legend(['training accuracy', 'Validation accuracy'], loc='lower right')\n",
    "plt.show()"
   ]
  },
  {
   "cell_type": "code",
   "execution_count": null,
   "metadata": {
    "colab": {
     "base_uri": "https://localhost:8080/",
     "height": 232
    },
    "colab_type": "code",
    "id": "TxHqY0P5baoX",
    "outputId": "b624f2e6-a5a8-4487-c3a5-bbe1ecdaab35"
   },
   "outputs": [],
   "source": [
    "# Shows Test Pictures and predicted class\n",
    "grid_x = 8\n",
    "grid_y = 3\n",
    "plt.figure(figsize=(1*grid_x, 2*grid_y))\n",
    "for y in range(grid_y):\n",
    "    for x in range(grid_x):\n",
    "        index = x + (grid_x * y)\n",
    "        plt_index = x + (grid_x * y)\n",
    "        plt.subplot(2*grid_y, grid_x, 1+plt_index)\n",
    "        img_index = index+500\n",
    "        pred_data = np.reshape(x_test[img_index], (1, 28, 28, 1))\n",
    "        pred = model.predict(pred_data, verbose=0)\n",
    "        plt.imshow(np.reshape(x_test[img_index],(28,28)),cmap='gray')\n",
    "        plt.xticks([],[])\n",
    "        plt.yticks([],[])\n",
    "        plt.title(str(np.argmax(pred)))\n",
    "plt.tight_layout()\n",
    "plt.show()"
   ]
  },
  {
   "cell_type": "code",
   "execution_count": null,
   "metadata": {
    "colab": {
     "base_uri": "https://localhost:8080/",
     "height": 416
    },
    "colab_type": "code",
    "id": "Hm_0kj13bu44",
    "outputId": "92b32ef4-cd99-4cb7-a0fb-c0ffafffcb29"
   },
   "outputs": [],
   "source": [
    "# Show a Model Summary\n",
    "# TODO\n",
    "\n",
    "print (model.summary())"
   ]
  },
  {
   "cell_type": "code",
   "execution_count": null,
   "metadata": {
    "colab": {},
    "colab_type": "code",
    "id": "UrG3UV1mcO-6"
   },
   "outputs": [],
   "source": []
  }
 ],
 "metadata": {
  "accelerator": "GPU",
  "colab": {
   "collapsed_sections": [],
   "name": "13_MNIST_Todo.ipynb",
   "provenance": [],
   "version": "0.3.2"
  },
  "kernelspec": {
   "display_name": "Python 3",
   "language": "python",
   "name": "python3"
  },
  "language_info": {
   "codemirror_mode": {
    "name": "ipython",
    "version": 3
   },
   "file_extension": ".py",
   "mimetype": "text/x-python",
   "name": "python",
   "nbconvert_exporter": "python",
   "pygments_lexer": "ipython3",
   "version": "3.6.8"
  }
 },
 "nbformat": 4,
 "nbformat_minor": 2
}
