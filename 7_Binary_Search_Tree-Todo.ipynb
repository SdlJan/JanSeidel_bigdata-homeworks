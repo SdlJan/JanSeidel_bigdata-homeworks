{
 "cells": [
  {
   "cell_type": "markdown",
   "metadata": {},
   "source": [
    "Animation: https://www.cs.usfca.edu/~galles/visualization/BST.html"
   ]
  },
  {
   "cell_type": "code",
   "execution_count": 3,
   "metadata": {},
   "outputs": [],
   "source": [
    "class Node:\n",
    "    \"\"\"\n",
    "    Tree node with left and right child and value\n",
    "    \"\"\"\n",
    "    def __init__(self, val):\n",
    "        self.value=val \n",
    "        self.rightChild=None \n",
    "        self.leftChild=None \n",
    "        "
   ]
  },
  {
   "cell_type": "code",
   "execution_count": 21,
   "metadata": {},
   "outputs": [],
   "source": [
    "class BSTree:\n",
    "    def __init__(self):\n",
    "        \"\"\"Create an empty binary search tree\"\"\"\n",
    "        self.root=None \n",
    "\n",
    "    def setRoot(self, val):\n",
    "        self.root = Node(val)\n",
    "    \n",
    "    def insert(self, val):\n",
    "        \"\"\"Add an item in the binary search tree\"\"\"\n",
    "        if(self.root is None):\n",
    "            self.setRoot(val)\n",
    "        else:\n",
    "            self.insertNode(self.root, val)\n",
    "    \n",
    "    def insertNode(self, currentNode, val):\n",
    "        if(val <= currentNode.val):\n",
    "            if(currentNode.left):\n",
    "                self.insertNode(currentNode.left, val)\n",
    "            else:\n",
    "                currentNode.right = Node(val)\n",
    "        elif(val > currentNode.val):\n",
    "            if(currentNode.right):\n",
    "                self.insertNode(currentNode.right, val)\n",
    "            else:\n",
    "                currentNode.right = Node(val)\n",
    "    \n",
    "    def find(self, val):\n",
    "        \"\"\"Returns true if item is in the tree or false otherwise\"\"\"\n",
    "        return self.findNode(self.root, val)\n",
    "    \n",
    "    def findNode(self, currentNode, val):\n",
    "        if(currentNode is None):\n",
    "            return False \n",
    "        elif(val == currentNode.val):\n",
    "            return True \n",
    "        elif(val < currentNode.val):\n",
    "            return self.findNode(currentNode.left, val)\n",
    "        else:\n",
    "            return self.findNode(currentNode.right, val)"
   ]
  },
  {
   "cell_type": "code",
   "execution_count": 22,
   "metadata": {},
   "outputs": [],
   "source": [
    "tree = Tree()"
   ]
  },
  {
   "cell_type": "code",
   "execution_count": 23,
   "metadata": {},
   "outputs": [],
   "source": [
    "tree.insert(30)\n",
    "tree.insert(5)\n",
    "tree.insert(50)\n",
    "tree.insert(8)\n",
    "tree.insert(3)\n",
    "tree.insert(100)\n",
    "tree.insert(40)"
   ]
  },
  {
   "cell_type": "code",
   "execution_count": 24,
   "metadata": {},
   "outputs": [
    {
     "data": {
      "text/plain": [
       "False"
      ]
     },
     "execution_count": 24,
     "metadata": {},
     "output_type": "execute_result"
    }
   ],
   "source": [
    "tree.find(8)"
   ]
  },
  {
   "cell_type": "code",
   "execution_count": 25,
   "metadata": {},
   "outputs": [
    {
     "data": {
      "text/plain": [
       "False"
      ]
     },
     "execution_count": 25,
     "metadata": {},
     "output_type": "execute_result"
    }
   ],
   "source": [
    "tree.find(9)"
   ]
  },
  {
   "cell_type": "markdown",
   "metadata": {},
   "source": [
    "## Why is the worst case time complexity of the find method only $O(n)$ and not $O(log n)$?"
   ]
  },
  {
   "cell_type": "markdown",
   "metadata": {},
   "source": [
    "I guess because in the worst case the algorithm has to iterate over all elementsit can only go through all elements in a certain list. In the worst case the length of the list is n."
   ]
  }
 ],
 "metadata": {
  "kernelspec": {
   "display_name": "Python 3",
   "language": "python",
   "name": "python3"
  },
  "language_info": {
   "codemirror_mode": {
    "name": "ipython",
    "version": 3
   },
   "file_extension": ".py",
   "mimetype": "text/x-python",
   "name": "python",
   "nbconvert_exporter": "python",
   "pygments_lexer": "ipython3",
   "version": "3.7.0"
  },
  "varInspector": {
   "cols": {
    "lenName": 16,
    "lenType": 16,
    "lenVar": 40
   },
   "kernels_config": {
    "python": {
     "delete_cmd_postfix": "",
     "delete_cmd_prefix": "del ",
     "library": "var_list.py",
     "varRefreshCmd": "print(var_dic_list())"
    },
    "r": {
     "delete_cmd_postfix": ") ",
     "delete_cmd_prefix": "rm(",
     "library": "var_list.r",
     "varRefreshCmd": "cat(var_dic_list()) "
    }
   },
   "types_to_exclude": [
    "module",
    "function",
    "builtin_function_or_method",
    "instance",
    "_Feature"
   ],
   "window_display": false
  }
 },
 "nbformat": 4,
 "nbformat_minor": 2
}
