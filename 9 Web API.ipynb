{
 "cells": [
  {
   "cell_type": "markdown",
   "metadata": {},
   "source": [
    "# Web APIs\n",
    "\n",
    "## 1. Consuming Web APIs\n",
    "\n",
    "(Partially adapted from https://www.dataquest.io/blog/python-api-tutorial/)\n",
    "\n",
    "* https://randomuser.me/ is a random user generator \n",
    "*\tIt has an API. Go to https://api.randomuser.me/ with your browser\n",
    "*\tYou get a JSON (JavaScript Object Notation) back. A JSON is similar to a Python dictionary.  \n",
    "*  Refresh the browser\n",
    "*\tYou can add query parameters. They are added to the URL with a ? . You then add then the parameter name = the value. More the one parameter are connected with a & e.g.\n",
    "\thttp://api.open-notify.org/iss-pass.json?lat=37.78&lon=-122.41\n",
    "\n",
    "*\t Go the documentation https://randomuser.me/documentation and check how you can get multiple users and to specify constraints on the output\n",
    "*\tGo to your browser and add parameters to https://api.randomuser.me/ so that you get 5 results of only males from the US\n",
    "\n",
    "Enter the URL of your solution:"
   ]
  },
  {
   "cell_type": "code",
   "execution_count": 4,
   "metadata": {
    "collapsed": true
   },
   "outputs": [],
   "source": [
    "# TODO: get 5 results of only males from the US\n",
    "\n",
    "response = requests.get(\"https://randomuser.me/\")\n",
    "\n",
    "# Enter the URL of your solution:\n",
    "url = \"https://randomuser.me/api/?results=5&gender=male&nat=US\""
   ]
  },
  {
   "cell_type": "markdown",
   "metadata": {},
   "source": [
    "* You can also get the data from the command line. Open the command line and write\n",
    "\n",
    "```bash\n",
    "curl -s https://api.randomuser.me/\n",
    "```\n",
    "\n",
    "You can also run Bash commands directly in your Jupyter Notebook with !:"
   ]
  },
  {
   "cell_type": "code",
   "execution_count": null,
   "metadata": {
    "collapsed": true
   },
   "outputs": [],
   "source": [
    "!curl -s https://api.randomuser.me/"
   ]
  },
  {
   "cell_type": "markdown",
   "metadata": {},
   "source": [
    "* Import the two libraries \n",
    "    * `requests` and \n",
    "    * `json`. \n",
    "\n",
    "You can find the documentation for the requests package here:\n",
    " http://www.python-requests.org/en/latest/ \n",
    " "
   ]
  },
  {
   "cell_type": "code",
   "execution_count": 2,
   "metadata": {
    "collapsed": true
   },
   "outputs": [],
   "source": [
    "# TODO\n",
    "import requests\n",
    "import json"
   ]
  },
  {
   "cell_type": "markdown",
   "metadata": {},
   "source": [
    "* With the requests package you can call a Web API with the URL and the method get"
   ]
  },
  {
   "cell_type": "code",
   "execution_count": null,
   "metadata": {
    "collapsed": true
   },
   "outputs": [],
   "source": [
    "response = requests.get(\"https://api.randomuser.me/\")"
   ]
  },
  {
   "cell_type": "markdown",
   "metadata": {},
   "source": [
    "* Print the status code of the request"
   ]
  },
  {
   "cell_type": "code",
   "execution_count": null,
   "metadata": {
    "collapsed": true
   },
   "outputs": [],
   "source": [
    "print(response.status_code)"
   ]
  },
  {
   "cell_type": "markdown",
   "metadata": {},
   "source": [
    "**The meaning of the status codes are:**\n",
    "* 200: everything went okay, and the result has been returned (if any)\n",
    "* 301: the server is redirecting you to a different endpoint. This can happen when a company switches domain names, or an endpoint name is changed.\n",
    "* 401: the server thinks you're not authenticated. This happens when you don't send the right credentials to access an API.\n",
    "* 400: the server thinks you made a bad request. This can happen when you don't send along the right data, among other things.\n",
    "* 403: the resource you're trying to access is forbidden – you don't have the right permissions to see it.\n",
    "* 404: the resource you tried to access wasn't found on the server.\n"
   ]
  },
  {
   "cell_type": "markdown",
   "metadata": {},
   "source": [
    "You can specify the query parameters for a URL with a Python dictionary like this:\n",
    "```python\n",
    "parameters = {\"lat\": 37.78, \"lon\": -122.41}\n",
    "```\n",
    "\n",
    "And pass the parameter to the request like this\n",
    "```python\n",
    "response = requests.get(\"http://api.open-notify.org/iss-pass.json\", params=parameters)\n",
    "```\n",
    "This is the same as \n",
    "```python\n",
    "response = requests.get(\"http://api.open-notify.org/iss-pass.json?lat=37.78&lon=-122.41\")\n",
    "```\n",
    "\n",
    "Alternatively you could build also the URL with the parameters by yourself with string concatenation. \n",
    "\n",
    "* Get with the request method 10 results of only males from the US.\n",
    "\n"
   ]
  },
  {
   "cell_type": "code",
   "execution_count": 10,
   "metadata": {
    "collapsed": true
   },
   "outputs": [
    {
     "name": "stdout",
     "output_type": "stream",
     "text": [
      "<Response [200]>\n"
     ]
    }
   ],
   "source": [
    "# TODO: Get with the request method 10 results of only males from the US.\n",
    "url = 'https://api.randomuser.me/'\n",
    "parameter = {\"results\":10,\"gender\":'male',\"nat\":'us' }\n",
    "response = requests.get(url, params=parameter)\n",
    "print(response)"
   ]
  },
  {
   "cell_type": "markdown",
   "metadata": {},
   "source": [
    "* You can show the result of the request with the method text"
   ]
  },
  {
   "cell_type": "code",
   "execution_count": 11,
   "metadata": {
    "collapsed": true,
    "scrolled": true
   },
   "outputs": [
    {
     "data": {
      "text/plain": [
       "'{\"results\":[{\"gender\":\"male\",\"name\":{\"title\":\"mr\",\"first\":\"daniel\",\"last\":\"garcia\"},\"location\":{\"street\":\"2614 homestead rd\",\"city\":\"saint paul\",\"state\":\"wisconsin\",\"postcode\":65317,\"coordinates\":{\"latitude\":\"24.1577\",\"longitude\":\"-101.6518\"},\"timezone\":{\"offset\":\"0:00\",\"description\":\"Western Europe Time, London, Lisbon, Casablanca\"}},\"email\":\"daniel.garcia@example.com\",\"login\":{\"uuid\":\"4746cf95-bf13-4c43-b711-44a580202878\",\"username\":\"lazybutterfly161\",\"password\":\"clowns\",\"salt\":\"wT0enVso\",\"md5\":\"0db29f002e6b288df1bcd59a89d465bc\",\"sha1\":\"390042eb0b04486537168969c460d0236b44bc64\",\"sha256\":\"f4c166f77ebd66bf2b07e1bc9e4721b1a638ceb228fbee21aefce2bc2276e58a\"},\"dob\":{\"date\":\"1960-01-01T07:02:38Z\",\"age\":59},\"registered\":{\"date\":\"2007-01-21T02:16:44Z\",\"age\":12},\"phone\":\"(350)-101-5455\",\"cell\":\"(302)-916-3900\",\"id\":{\"name\":\"SSN\",\"value\":\"867-69-6597\"},\"picture\":{\"large\":\"https://randomuser.me/api/portraits/men/68.jpg\",\"medium\":\"https://randomuser.me/api/portraits/med/men/68.jpg\",\"thumbnail\":\"https://randomuser.me/api/portraits/thumb/men/68.jpg\"},\"nat\":\"US\"},{\"gender\":\"male\",\"name\":{\"title\":\"mr\",\"first\":\"jeff\",\"last\":\"kim\"},\"location\":{\"street\":\"5449 n stelling rd\",\"city\":\"arvada\",\"state\":\"rhode island\",\"postcode\":93411,\"coordinates\":{\"latitude\":\"4.4218\",\"longitude\":\"-71.8784\"},\"timezone\":{\"offset\":\"+2:00\",\"description\":\"Kaliningrad, South Africa\"}},\"email\":\"jeff.kim@example.com\",\"login\":{\"uuid\":\"03f295f1-0c9b-49f9-9ebf-778880cea57f\",\"username\":\"sadtiger146\",\"password\":\"angel\",\"salt\":\"PuD0Jgl3\",\"md5\":\"d353cec39c14945f70f53026a07139c2\",\"sha1\":\"70bd0f17ba23d07cb6643591e1dc9579fa8492d2\",\"sha256\":\"bd7f6df113bca9776be4fa58f1fe29bf92eea356c3f21324d887ab1adc4ac72b\"},\"dob\":{\"date\":\"1976-10-22T18:09:59Z\",\"age\":42},\"registered\":{\"date\":\"2015-04-14T13:26:20Z\",\"age\":4},\"phone\":\"(543)-223-7366\",\"cell\":\"(644)-355-4245\",\"id\":{\"name\":\"SSN\",\"value\":\"510-89-1249\"},\"picture\":{\"large\":\"https://randomuser.me/api/portraits/men/36.jpg\",\"medium\":\"https://randomuser.me/api/portraits/med/men/36.jpg\",\"thumbnail\":\"https://randomuser.me/api/portraits/thumb/men/36.jpg\"},\"nat\":\"US\"},{\"gender\":\"male\",\"name\":{\"title\":\"mr\",\"first\":\"jason\",\"last\":\"barnes\"},\"location\":{\"street\":\"3358 ash dr\",\"city\":\"woodbridge\",\"state\":\"washington\",\"postcode\":39370,\"coordinates\":{\"latitude\":\"14.0613\",\"longitude\":\"-139.6193\"},\"timezone\":{\"offset\":\"+1:00\",\"description\":\"Brussels, Copenhagen, Madrid, Paris\"}},\"email\":\"jason.barnes@example.com\",\"login\":{\"uuid\":\"2e1be09c-5965-4346-85ba-966688736982\",\"username\":\"whiteostrich542\",\"password\":\"kiteboy\",\"salt\":\"IJhedNJe\",\"md5\":\"0deb7ad4482057be72e14534276c474f\",\"sha1\":\"167b2edabd4c897ee6949ef8a7aa4f3c726d3231\",\"sha256\":\"b7d07b3cce8579477bbf686ee64e895065bcf7a5e58260c28750c0289280ef22\"},\"dob\":{\"date\":\"1955-10-16T07:31:07Z\",\"age\":63},\"registered\":{\"date\":\"2011-12-12T20:05:45Z\",\"age\":7},\"phone\":\"(174)-008-8965\",\"cell\":\"(896)-336-1498\",\"id\":{\"name\":\"SSN\",\"value\":\"852-80-7254\"},\"picture\":{\"large\":\"https://randomuser.me/api/portraits/men/28.jpg\",\"medium\":\"https://randomuser.me/api/portraits/med/men/28.jpg\",\"thumbnail\":\"https://randomuser.me/api/portraits/thumb/men/28.jpg\"},\"nat\":\"US\"},{\"gender\":\"male\",\"name\":{\"title\":\"mr\",\"first\":\"rafael\",\"last\":\"jones\"},\"location\":{\"street\":\"239 e center st\",\"city\":\"reno\",\"state\":\"rhode island\",\"postcode\":76271,\"coordinates\":{\"latitude\":\"-85.5756\",\"longitude\":\"108.5176\"},\"timezone\":{\"offset\":\"-5:00\",\"description\":\"Eastern Time (US & Canada), Bogota, Lima\"}},\"email\":\"rafael.jones@example.com\",\"login\":{\"uuid\":\"f136f370-750f-4e58-9110-a918fb73942b\",\"username\":\"redcat611\",\"password\":\"jenn\",\"salt\":\"vHeHOpZd\",\"md5\":\"2b372cd1634d30979f506f594aa477ca\",\"sha1\":\"7a283f851f953a7a0a154edde3d6e25cfa40fec5\",\"sha256\":\"05b839d3c1b187d397939eae24810f0c4e2f40d65169c595ac2ce07a353f4ee7\"},\"dob\":{\"date\":\"1964-01-31T11:35:51Z\",\"age\":55},\"registered\":{\"date\":\"2015-07-27T21:35:36Z\",\"age\":3},\"phone\":\"(399)-441-3543\",\"cell\":\"(396)-621-8840\",\"id\":{\"name\":\"SSN\",\"value\":\"121-40-9618\"},\"picture\":{\"large\":\"https://randomuser.me/api/portraits/men/31.jpg\",\"medium\":\"https://randomuser.me/api/portraits/med/men/31.jpg\",\"thumbnail\":\"https://randomuser.me/api/portraits/thumb/men/31.jpg\"},\"nat\":\"US\"},{\"gender\":\"male\",\"name\":{\"title\":\"mr\",\"first\":\"anthony\",\"last\":\"berry\"},\"location\":{\"street\":\"7919 mcgowen st\",\"city\":\"ontario\",\"state\":\"new hampshire\",\"postcode\":85049,\"coordinates\":{\"latitude\":\"-17.6234\",\"longitude\":\"-177.8551\"},\"timezone\":{\"offset\":\"+6:00\",\"description\":\"Almaty, Dhaka, Colombo\"}},\"email\":\"anthony.berry@example.com\",\"login\":{\"uuid\":\"0ddfa9ef-a65a-427f-9e83-d0c3973c7302\",\"username\":\"organicladybug283\",\"password\":\"theone\",\"salt\":\"iSWl9CdX\",\"md5\":\"bc4cebef48769267e9312f7d06ee61ef\",\"sha1\":\"26cd8aff76e99a3472770b8d842fce98ed3a4647\",\"sha256\":\"dcb274e93f415a0144c6020ad21459e5d325e4d68274377f1a85468f1cf1c678\"},\"dob\":{\"date\":\"1982-04-19T09:18:07Z\",\"age\":37},\"registered\":{\"date\":\"2003-07-30T03:03:21Z\",\"age\":15},\"phone\":\"(120)-663-9481\",\"cell\":\"(503)-434-7654\",\"id\":{\"name\":\"SSN\",\"value\":\"601-77-6997\"},\"picture\":{\"large\":\"https://randomuser.me/api/portraits/men/95.jpg\",\"medium\":\"https://randomuser.me/api/portraits/med/men/95.jpg\",\"thumbnail\":\"https://randomuser.me/api/portraits/thumb/men/95.jpg\"},\"nat\":\"US\"},{\"gender\":\"male\",\"name\":{\"title\":\"mr\",\"first\":\"seth\",\"last\":\"hayes\"},\"location\":{\"street\":\"3536 central st\",\"city\":\"fort worth\",\"state\":\"wyoming\",\"postcode\":88546,\"coordinates\":{\"latitude\":\"40.7485\",\"longitude\":\"99.5976\"},\"timezone\":{\"offset\":\"-2:00\",\"description\":\"Mid-Atlantic\"}},\"email\":\"seth.hayes@example.com\",\"login\":{\"uuid\":\"b5818a4d-07a2-495d-86ef-77268655eaa3\",\"username\":\"happyzebra943\",\"password\":\"willy\",\"salt\":\"OwiQbYdA\",\"md5\":\"86959b82f64977d772fa8205da937e41\",\"sha1\":\"274d2ad5364d27b35d072b84785fbc11e2b5279f\",\"sha256\":\"ff69f2ad21faed657c5847fd6f895ba18be4dcda04bf9f69e61cedcedeb95e98\"},\"dob\":{\"date\":\"1976-10-03T18:19:32Z\",\"age\":42},\"registered\":{\"date\":\"2011-04-01T06:10:33Z\",\"age\":8},\"phone\":\"(707)-455-8215\",\"cell\":\"(593)-266-3125\",\"id\":{\"name\":\"SSN\",\"value\":\"392-10-6803\"},\"picture\":{\"large\":\"https://randomuser.me/api/portraits/men/35.jpg\",\"medium\":\"https://randomuser.me/api/portraits/med/men/35.jpg\",\"thumbnail\":\"https://randomuser.me/api/portraits/thumb/men/35.jpg\"},\"nat\":\"US\"},{\"gender\":\"male\",\"name\":{\"title\":\"mr\",\"first\":\"cecil\",\"last\":\"kelley\"},\"location\":{\"street\":\"423 ash dr\",\"city\":\"arvada\",\"state\":\"new hampshire\",\"postcode\":13687,\"coordinates\":{\"latitude\":\"-67.3433\",\"longitude\":\"135.2007\"},\"timezone\":{\"offset\":\"+4:30\",\"description\":\"Kabul\"}},\"email\":\"cecil.kelley@example.com\",\"login\":{\"uuid\":\"d7033260-f91d-4001-8c7a-8d2bc3f71ce9\",\"username\":\"greensnake371\",\"password\":\"autumn\",\"salt\":\"HHzlHLxM\",\"md5\":\"0a28f6d37ef214d8c7a4c6ae33887976\",\"sha1\":\"49416de03401976f06d346aa2b1b1558f70a2374\",\"sha256\":\"6dc845fd1a48aaaba7691a3937f540d6c9528c1f0fd0f760f2b8c4906a16c828\"},\"dob\":{\"date\":\"1971-06-07T10:34:04Z\",\"age\":47},\"registered\":{\"date\":\"2011-04-18T19:21:14Z\",\"age\":8},\"phone\":\"(674)-027-4433\",\"cell\":\"(739)-875-9530\",\"id\":{\"name\":\"SSN\",\"value\":\"912-86-3049\"},\"picture\":{\"large\":\"https://randomuser.me/api/portraits/men/99.jpg\",\"medium\":\"https://randomuser.me/api/portraits/med/men/99.jpg\",\"thumbnail\":\"https://randomuser.me/api/portraits/thumb/men/99.jpg\"},\"nat\":\"US\"},{\"gender\":\"male\",\"name\":{\"title\":\"mr\",\"first\":\"joe\",\"last\":\"gomez\"},\"location\":{\"street\":\"9014 ranchview dr\",\"city\":\"celina\",\"state\":\"kentucky\",\"postcode\":99444,\"coordinates\":{\"latitude\":\"-6.6756\",\"longitude\":\"-106.7892\"},\"timezone\":{\"offset\":\"-7:00\",\"description\":\"Mountain Time (US & Canada)\"}},\"email\":\"joe.gomez@example.com\",\"login\":{\"uuid\":\"b1f130aa-5f6e-4290-a657-c987a12ccaff\",\"username\":\"whitedog558\",\"password\":\"asses\",\"salt\":\"oTl6ONFp\",\"md5\":\"b8438506ac9ba1e8bf5a976cdbcdd1c8\",\"sha1\":\"de8981d980eb03a6402c5b79daed27e1e3bb01ae\",\"sha256\":\"b61d95dab58986c8d41015d72c0a16bc707b1c6bd6773040ee4c13d33562dd0f\"},\"dob\":{\"date\":\"1965-02-28T12:36:49Z\",\"age\":54},\"registered\":{\"date\":\"2017-06-11T01:30:59Z\",\"age\":1},\"phone\":\"(215)-095-3271\",\"cell\":\"(832)-708-9165\",\"id\":{\"name\":\"SSN\",\"value\":\"970-21-9494\"},\"picture\":{\"large\":\"https://randomuser.me/api/portraits/men/73.jpg\",\"medium\":\"https://randomuser.me/api/portraits/med/men/73.jpg\",\"thumbnail\":\"https://randomuser.me/api/portraits/thumb/men/73.jpg\"},\"nat\":\"US\"},{\"gender\":\"male\",\"name\":{\"title\":\"mr\",\"first\":\"john\",\"last\":\"austin\"},\"location\":{\"street\":\"8190 taylor st\",\"city\":\"mckinney\",\"state\":\"oregon\",\"postcode\":96847,\"coordinates\":{\"latitude\":\"40.3295\",\"longitude\":\"-174.8773\"},\"timezone\":{\"offset\":\"-4:00\",\"description\":\"Atlantic Time (Canada), Caracas, La Paz\"}},\"email\":\"john.austin@example.com\",\"login\":{\"uuid\":\"d66515fd-a52b-40c0-af6f-e985b0c798d4\",\"username\":\"greenduck884\",\"password\":\"hustler\",\"salt\":\"EQtkzugs\",\"md5\":\"3ef508bb79011eed092de03ef8b8285f\",\"sha1\":\"eafae4d74096ce5a7f69d19320d950ff8315f8da\",\"sha256\":\"7a054a96f0f380ef0eeadbdb7d437f483dc774bbca5f35b66bd2cc2a6cfcec50\"},\"dob\":{\"date\":\"1959-09-28T19:03:56Z\",\"age\":59},\"registered\":{\"date\":\"2008-07-05T04:23:20Z\",\"age\":10},\"phone\":\"(536)-719-5347\",\"cell\":\"(554)-188-0766\",\"id\":{\"name\":\"SSN\",\"value\":\"369-52-6564\"},\"picture\":{\"large\":\"https://randomuser.me/api/portraits/men/91.jpg\",\"medium\":\"https://randomuser.me/api/portraits/med/men/91.jpg\",\"thumbnail\":\"https://randomuser.me/api/portraits/thumb/men/91.jpg\"},\"nat\":\"US\"},{\"gender\":\"male\",\"name\":{\"title\":\"mr\",\"first\":\"ricky\",\"last\":\"steeves \"},\"location\":{\"street\":\"1610 crockett st\",\"city\":\"montgomery\",\"state\":\"new mexico\",\"postcode\":26204,\"coordinates\":{\"latitude\":\"-71.4801\",\"longitude\":\"18.1027\"},\"timezone\":{\"offset\":\"+5:30\",\"description\":\"Bombay, Calcutta, Madras, New Delhi\"}},\"email\":\"ricky.steeves@example.com\",\"login\":{\"uuid\":\"8e54aa63-394e-4410-ad05-127a00090886\",\"username\":\"sadfrog865\",\"password\":\"excess\",\"salt\":\"h7zVRYqM\",\"md5\":\"321ba77408daff963b0defc38b559e67\",\"sha1\":\"9daa685e271637633b6f611cd270cbdb9364ac08\",\"sha256\":\"59d010c82e045cd1fb3550bd1fbc905edfb2bbfe05ea2b9edf0a354f2da22581\"},\"dob\":{\"date\":\"1960-01-05T06:46:20Z\",\"age\":59},\"registered\":{\"date\":\"2004-11-02T08:22:07Z\",\"age\":14},\"phone\":\"(043)-018-2812\",\"cell\":\"(244)-986-6666\",\"id\":{\"name\":\"SSN\",\"value\":\"958-22-2474\"},\"picture\":{\"large\":\"https://randomuser.me/api/portraits/men/21.jpg\",\"medium\":\"https://randomuser.me/api/portraits/med/men/21.jpg\",\"thumbnail\":\"https://randomuser.me/api/portraits/thumb/men/21.jpg\"},\"nat\":\"US\"}],\"info\":{\"seed\":\"7140d1c1222d48cc\",\"results\":10,\"page\":1,\"version\":\"1.2\"}}'"
      ]
     },
     "execution_count": 11,
     "metadata": {},
     "output_type": "execute_result"
    }
   ],
   "source": [
    "response.text"
   ]
  },
  {
   "cell_type": "markdown",
   "metadata": {},
   "source": [
    "* You can convert the data from JSON to a Python dictionary with the package JSON"
   ]
  },
  {
   "cell_type": "code",
   "execution_count": 13,
   "metadata": {
    "collapsed": true
   },
   "outputs": [],
   "source": [
    "data = json.loads(response.text)"
   ]
  },
  {
   "cell_type": "markdown",
   "metadata": {},
   "source": [
    "* Check the type of variable data"
   ]
  },
  {
   "cell_type": "code",
   "execution_count": 15,
   "metadata": {
    "collapsed": true
   },
   "outputs": [
    {
     "name": "stdout",
     "output_type": "stream",
     "text": [
      "<class 'dict'>\n"
     ]
    }
   ],
   "source": [
    "# TODO\n",
    "print(type(data))"
   ]
  },
  {
   "cell_type": "code",
   "execution_count": null,
   "metadata": {
    "collapsed": true
   },
   "outputs": [],
   "source": [
    "print(data)"
   ]
  },
  {
   "cell_type": "markdown",
   "metadata": {},
   "source": [
    "* *pretty-print* (pprint) prints complex data structures like dictionary prettier.  https://docs.python.org/3/library/pprint.html "
   ]
  },
  {
   "cell_type": "code",
   "execution_count": 17,
   "metadata": {
    "collapsed": true
   },
   "outputs": [],
   "source": [
    "from pprint import pprint\n",
    "#pprint(data)"
   ]
  },
  {
   "cell_type": "markdown",
   "metadata": {},
   "source": [
    "* Loop through the dictionary and print all first names"
   ]
  },
  {
   "cell_type": "code",
   "execution_count": 18,
   "metadata": {
    "collapsed": true
   },
   "outputs": [
    {
     "name": "stdout",
     "output_type": "stream",
     "text": [
      "daniel\n",
      "jeff\n",
      "jason\n",
      "rafael\n",
      "anthony\n",
      "seth\n",
      "cecil\n",
      "joe\n",
      "john\n",
      "ricky\n"
     ]
    }
   ],
   "source": [
    "# TODO\n",
    "for i in data['results']:\n",
    "    print(i['name']['first'])"
   ]
  },
  {
   "cell_type": "markdown",
   "metadata": {},
   "source": [
    "* Get all astronauts who are right now in space. You get the information about the Web APU from here  http://open-notify.org/Open-Notify-API/People-In-Space/ "
   ]
  },
  {
   "cell_type": "code",
   "execution_count": 23,
   "metadata": {
    "collapsed": true
   },
   "outputs": [],
   "source": [
    "# TODO\n",
    "response = requests.get(\"http://api.open-notify.org/astros.json?\") \n"
   ]
  },
  {
   "cell_type": "code",
   "execution_count": 28,
   "metadata": {},
   "outputs": [
    {
     "data": {
      "text/plain": [
       "'{\"message\": \"success\", \"number\": 6, \"people\": [{\"craft\": \"ISS\", \"name\": \"Oleg Kononenko\"}, {\"craft\": \"ISS\", \"name\": \"David Saint-Jacques\"}, {\"craft\": \"ISS\", \"name\": \"Anne McClain\"}, {\"craft\": \"ISS\", \"name\": \"Alexey Ovchinin\"}, {\"craft\": \"ISS\", \"name\": \"Nick Hague\"}, {\"craft\": \"ISS\", \"name\": \"Christina Koch\"}]}'"
      ]
     },
     "execution_count": 28,
     "metadata": {},
     "output_type": "execute_result"
    }
   ],
   "source": [
    "response.text"
   ]
  },
  {
   "cell_type": "markdown",
   "metadata": {},
   "source": [
    "* Print the number of people that are right now in space"
   ]
  },
  {
   "cell_type": "code",
   "execution_count": 30,
   "metadata": {
    "collapsed": true
   },
   "outputs": [
    {
     "name": "stdout",
     "output_type": "stream",
     "text": [
      "6\n"
     ]
    }
   ],
   "source": [
    "# TODO\n",
    "data = json.loads(response.text)\n",
    "\n",
    "print(data['number'])"
   ]
  },
  {
   "cell_type": "markdown",
   "metadata": {},
   "source": [
    "* Print the names of all astronauts "
   ]
  },
  {
   "cell_type": "code",
   "execution_count": null,
   "metadata": {
    "collapsed": true
   },
   "outputs": [],
   "source": [
    "# TODO\n",
    "for i in data['people']:\n",
    "    print(i['name'])"
   ]
  },
  {
   "cell_type": "markdown",
   "metadata": {},
   "source": [
    "* A lot of Web APIs require a api-key for interacting with them (like Twitter, Facebook, …). You find at http://www.python-requests.org/en/latest/user/authentication/ more information for Authentication for Web APIs with the request package\n",
    "* There are also special Python packages for interacting with services. E.g. for Twitter: http://www.tweepy.org/ or  https://github.com/bear/python-twitter \n",
    "\n",
    "See e.g. http://socialmedia-class.org/twittertutorial.html for a tutorial"
   ]
  },
  {
   "cell_type": "markdown",
   "metadata": {},
   "source": [
    "## 2. Creating a Web API\n",
    "\n",
    "* Create a folder `webapi` and change into it.\n",
    "* Create in the `webapi` folder a file with the name `Dockerfile` with the following content:\n",
    "\n",
    "----\n",
    "```bash\n",
    "# Use an official Python runtime as a parent image\n",
    "FROM python:3.7-slim\n",
    "\n",
    "# Set the working directory to /app\n",
    "WORKDIR /app\n",
    "\n",
    "# Copy the current directory contents into the container at /app\n",
    "COPY app/ /app\n",
    "\n",
    "# Install any needed packages specified in requirements.txt\n",
    "RUN pip install --trusted-host pypi.python.org -r requirements.txt\n",
    "\n",
    "# Make port 80 available to the world outside this container\n",
    "EXPOSE 80\n",
    "\n",
    "# Run app.py when the container launches\n",
    "CMD [\"python\", \"app.py\"]\n",
    "```\n",
    "\n",
    "-----\n",
    "\n",
    "* We can also use Docker compose with just one service. Create in your `webapi` folder a `docker-compose.yml` file:\n",
    "\n",
    "-----\n",
    "\n",
    "```yaml\n",
    "version: '3'\n",
    "services:\n",
    "  api:\n",
    "    build: .\n",
    "    ports:\n",
    "      - \"5000:80\"\n",
    "    restart: always\n",
    "    volumes:\n",
    "      - ./app:/app\n",
    "```\n",
    "-----\n",
    "\n",
    "* Create a folder in the `webapi` folder a new folder with the name `app`\n",
    "* We will build a web API with `Flask` (http://flask.pocoo.org/) . Create a `requirements.txt` file in the `app` folder. Here we can specify all python `pip` packages that we need:\n",
    "\n",
    "-----\n",
    "```bash\n",
    "Flask\n",
    "```\n",
    "-----\n",
    "\n",
    "* Create the `app.py` file in the `app` folder:\n",
    "\n",
    "-----\n",
    "```python\n",
    "from flask import Flask\n",
    "from flask import request, jsonify\n",
    "\n",
    "app = Flask(__name__)\n",
    "\n",
    "courses = [\n",
    "    {'id': 0,\n",
    "     'title': 'Data Science',\n",
    "     'professor': 'Markus Löcher',\n",
    "     'semester': '1'},\n",
    "    {'id': 1,\n",
    "     'title': 'Data Warehousing',\n",
    "     'professor': 'Roland M. Mueller',\n",
    "     'semester': '1'},\n",
    "    {'id': 2,\n",
    "     'title': 'Business Process Management',\n",
    "     'professor': 'Frank Habermann',\n",
    "     'semester': '1'},\n",
    "    {'id': 3,\n",
    "     'title': 'Stratigic Issues of IT',\n",
    "     'professor': 'Sven Pohland',\n",
    "     'semester': '1'},\n",
    "    {'id': 4,\n",
    "     'title': 'Text, Web and Social Media Analytics Lab',\n",
    "     'professor': 'Markus Löcher',\n",
    "     'semester': '2'},\n",
    "    {'id': 5,\n",
    "     'title': 'Enterprise Architectures for Big Data',\n",
    "     'professor': 'Roland M. Mueller',\n",
    "     'semester': '2'},\n",
    "    {'id': 6,\n",
    "     'title': 'Business Process Integration Lab',\n",
    "     'professor': 'Frank Habermann',\n",
    "     'semester': '2'},\n",
    "    {'id': 7,\n",
    "     'title': 'IT-Security and Privacy',\n",
    "     'professor': 'Dennis Uckel',\n",
    "     'semester': '2'},\n",
    "    {'id': 8,\n",
    "     'title': 'Research Methods',\n",
    "     'professor': 'Marcus Birkenkrahe',\n",
    "     'semester': '2'},\n",
    "]\n",
    "\n",
    "@app.route('/api/v1/courses/all', methods=['GET'])\n",
    "def api_all():\n",
    "    return jsonify(courses)\n",
    "\n",
    "@app.route('/api/v1/courses', methods=['GET'])\n",
    "def api_id():\n",
    "    # Check if an ID was provided as part of the URL.\n",
    "    # If ID is provided, assign it to a variable.\n",
    "    # If no ID is provided, display an error in the browser.\n",
    "    if 'id' in request.args:\n",
    "        id = int(request.args['id'])\n",
    "    else:\n",
    "        return \"Error: No id field provided. Please specify an id.\"\n",
    "\n",
    "    # Create an empty list for our results\n",
    "    results = []\n",
    "\n",
    "    # Loop through the data and match results that fit the requested ID.\n",
    "    # IDs are unique, but other fields might return many results\n",
    "    for course in courses:\n",
    "        if course['id'] == id:\n",
    "            results.append(course)\n",
    "\n",
    "    # Use the jsonify function from Flask to convert our list of\n",
    "    # Python dictionaries to the JSON format.\n",
    "    return jsonify(results)\n",
    "\n",
    "if __name__ == \"__main__\":\n",
    "    app.run(host=\"0.0.0.0\", port=80, debug=True)\n",
    "```\n",
    "-----\n",
    "* Open http://localhost:5000/api/v1/courses/all in a browser\n",
    "* Open http://localhost:5000/api/v1/courses?id=5 in a browser\n"
   ]
  },
  {
   "cell_type": "markdown",
   "metadata": {},
   "source": [
    "## 2. Creating a Web API\n",
    "\n",
    "* Create a folder `webapi` and change into it.\n",
    "* Create in the `webapi` folder a file with the name `Dockerfile` with the following content:\n",
    "\n",
    "----\n",
    "```bash\n",
    "# Use an official Python runtime as a parent image\n",
    "FROM python:3.7-slim\n",
    "\n",
    "# Set the working directory to /app\n",
    "WORKDIR /app\n",
    "\n",
    "# Copy the current directory contents into the container at /app\n",
    "COPY app/ /app\n",
    "\n",
    "# Install any needed packages specified in requirements.txt\n",
    "RUN pip install --trusted-host pypi.python.org -r requirements.txt\n",
    "\n",
    "# Make port 80 available to the world outside this container\n",
    "EXPOSE 80\n",
    "\n",
    "# Run app.py when the container launches\n",
    "CMD [\"python\", \"app.py\"]\n",
    "```\n",
    "\n",
    "-----\n",
    "\n",
    "* We can also use Docker compose with just one service. Create in your `webapi` folder a `docker-compose.yml` file:\n",
    "\n",
    "-----\n",
    "\n",
    "```yaml\n",
    "version: '3'\n",
    "services:\n",
    "  api:\n",
    "    build: .\n",
    "    ports:\n",
    "      - \"5000:80\"\n",
    "    restart: always\n",
    "    volumes:\n",
    "      - ./app:/app\n",
    "```\n",
    "-----\n",
    "\n",
    "* Create a folder in the `webapi` folder a new folder with the name `app`\n",
    "* We will build a web API with `Flask` (http://flask.pocoo.org/) . Create a `requirements.txt` file in the `app` folder. Here we can specify all python `pip` packages that we need:\n",
    "\n",
    "-----\n",
    "```bash\n",
    "Flask\n",
    "```\n",
    "-----\n",
    "\n",
    "* Create the `app.py` file in the `app` folder:\n",
    "\n",
    "-----\n",
    "```python\n",
    "from flask import Flask\n",
    "from flask import request, jsonify\n",
    "\n",
    "app = Flask(__name__)\n",
    "\n",
    "courses = [\n",
    "    {'id': 0,\n",
    "     'title': 'Data Science',\n",
    "     'professor': 'Markus Löcher',\n",
    "     'semester': '1'},\n",
    "    {'id': 1,\n",
    "     'title': 'Data Warehousing',\n",
    "     'professor': 'Roland M. Mueller',\n",
    "     'semester': '1'},\n",
    "    {'id': 2,\n",
    "     'title': 'Business Process Management',\n",
    "     'professor': 'Frank Habermann',\n",
    "     'semester': '1'},\n",
    "    {'id': 3,\n",
    "     'title': 'Stratigic Issues of IT',\n",
    "     'professor': 'Sven Pohland',\n",
    "     'semester': '1'},\n",
    "    {'id': 4,\n",
    "     'title': 'Text, Web and Social Media Analytics Lab',\n",
    "     'professor': 'Markus Löcher',\n",
    "     'semester': '2'},\n",
    "    {'id': 5,\n",
    "     'title': 'Enterprise Architectures for Big Data',\n",
    "     'professor': 'Roland M. Mueller',\n",
    "     'semester': '2'},\n",
    "    {'id': 6,\n",
    "     'title': 'Business Process Integration Lab',\n",
    "     'professor': 'Frank Habermann',\n",
    "     'semester': '2'},\n",
    "    {'id': 7,\n",
    "     'title': 'IT-Security and Privacy',\n",
    "     'professor': 'Dennis Uckel',\n",
    "     'semester': '2'},\n",
    "    {'id': 8,\n",
    "     'title': 'Research Methods',\n",
    "     'professor': 'Marcus Birkenkrahe',\n",
    "     'semester': '2'},\n",
    "]\n",
    "\n",
    "@app.route('/api/v1/courses/all', methods=['GET'])\n",
    "def api_all():\n",
    "    return jsonify(courses)\n",
    "\n",
    "@app.route('/api/v1/courses', methods=['GET'])\n",
    "def api_id():\n",
    "    # Check if an ID was provided as part of the URL.\n",
    "    # If ID is provided, assign it to a variable.\n",
    "    # If no ID is provided, display an error in the browser.\n",
    "    if 'id' in request.args:\n",
    "        id = int(request.args['id'])\n",
    "    else:\n",
    "        return \"Error: No id field provided. Please specify an id.\"\n",
    "\n",
    "    # Create an empty list for our results\n",
    "    results = []\n",
    "\n",
    "    # Loop through the data and match results that fit the requested ID.\n",
    "    # IDs are unique, but other fields might return many results\n",
    "    for course in courses:\n",
    "        if course['id'] == id:\n",
    "            results.append(course)\n",
    "\n",
    "    # Use the jsonify function from Flask to convert our list of\n",
    "    # Python dictionaries to the JSON format.\n",
    "    return jsonify(results)\n",
    "\n",
    "if __name__ == \"__main__\":\n",
    "    app.run(host=\"0.0.0.0\", port=80, debug=True)\n",
    "```\n",
    "-----\n",
    "* Open http://localhost:5000/api/v1/courses/all in a browser\n",
    "* Open http://localhost:5000/api/v1/courses?id=5 in a browser\n"
   ]
  },
  {
   "cell_type": "markdown",
   "metadata": {},
   "source": [
    "* Use your own API here in the Jupyter Notebook with Python and print all names of all courses "
   ]
  },
  {
   "cell_type": "code",
   "execution_count": 3,
   "metadata": {
    "collapsed": true
   },
   "outputs": [
    {
     "name": "stdout",
     "output_type": "stream",
     "text": [
      "Data Science\n",
      "Data Warehousing\n",
      "Business Process Management\n",
      "Stratigic Issues of IT\n",
      "Text, Web and Social Media Analytics Lab\n",
      "Enterprise Architectures for Big Data\n",
      "Business Process Integration Lab\n",
      "IT-Security and Privacy\n",
      "Research Methods\n"
     ]
    }
   ],
   "source": [
    "# TODO\n",
    "url = \"http://localhost:5000/api/v1/courses/all\"\n",
    "response = requests.get(url)\n",
    "data = json.loads(response.text)\n",
    "\n",
    "for i in data:\n",
    "    print(i['title'])"
   ]
  },
  {
   "cell_type": "code",
   "execution_count": 52,
   "metadata": {},
   "outputs": [],
   "source": [
    "# Unfortuantly I only got errors at the end. I could´t fix the failure "
   ]
  },
  {
   "cell_type": "markdown",
   "metadata": {},
   "source": [
    "* Add the possibility to find courses based on the semester\n",
    "* Use your API in Python and print all names of all courses in the second semester"
   ]
  },
  {
   "cell_type": "code",
   "execution_count": null,
   "metadata": {
    "collapsed": true
   },
   "outputs": [],
   "source": [
    "# TODO\n",
    "response = requests.get(\"http://localhost:5000/api/v1/courses/semester?semester=2\")\n",
    "data = json.loads(response.text)\n",
    "for i in data:\n",
    "    print(i[\"title\"])"
   ]
  },
  {
   "cell_type": "markdown",
   "metadata": {},
   "source": [
    "* Add a function that can convert Fahrenheit to Celsius \n",
    "* Call your API and get the Celsius value for 100°F Fahrenheit"
   ]
  },
  {
   "cell_type": "code",
   "execution_count": null,
   "metadata": {
    "collapsed": true
   },
   "outputs": [],
   "source": [
    "# TODO\n",
    "response = requests.get(\"http://localhost:5000/api/v1/converter?fahrenheit=100\")\n",
    "print(response.text)"
   ]
  }
 ],
 "metadata": {
  "kernelspec": {
   "display_name": "Python 3",
   "language": "python",
   "name": "python3"
  },
  "language_info": {
   "codemirror_mode": {
    "name": "ipython",
    "version": 3
   },
   "file_extension": ".py",
   "mimetype": "text/x-python",
   "name": "python",
   "nbconvert_exporter": "python",
   "pygments_lexer": "ipython3",
   "version": "3.7.0"
  },
  "varInspector": {
   "cols": {
    "lenName": 16,
    "lenType": 16,
    "lenVar": 40
   },
   "kernels_config": {
    "python": {
     "delete_cmd_postfix": "",
     "delete_cmd_prefix": "del ",
     "library": "var_list.py",
     "varRefreshCmd": "print(var_dic_list())"
    },
    "r": {
     "delete_cmd_postfix": ") ",
     "delete_cmd_prefix": "rm(",
     "library": "var_list.r",
     "varRefreshCmd": "cat(var_dic_list()) "
    }
   },
   "types_to_exclude": [
    "module",
    "function",
    "builtin_function_or_method",
    "instance",
    "_Feature"
   ],
   "window_display": false
  }
 },
 "nbformat": 4,
 "nbformat_minor": 2
}
